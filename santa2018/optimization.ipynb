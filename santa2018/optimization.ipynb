{
 "cells": [
  {
   "cell_type": "code",
   "execution_count": 1,
   "metadata": {
    "ExecuteTime": {
     "end_time": "2018-12-29T10:35:05.278486Z",
     "start_time": "2018-12-29T10:35:04.566293Z"
    }
   },
   "outputs": [],
   "source": [
    "%matplotlib inline\n",
    "import numpy as np\n",
    "import pandas as pd\n",
    "import matplotlib as mpl\n",
    "import matplotlib.pyplot as plt\n",
    "import sympy\n",
    "from numba import jit\n",
    "from sympy import isprime, primerange\n",
    "from tqdm import tqdm_notebook as tqdm\n",
    "np.random.seed(seed=42)\n",
    "df = pd.read_csv('cuda_submission.csv') # 1516713.7676\n",
    "cities = pd.read_csv('input/cities.csv')"
   ]
  },
  {
   "cell_type": "code",
   "execution_count": 2,
   "metadata": {
    "ExecuteTime": {
     "end_time": "2018-12-29T10:35:06.356181Z",
     "start_time": "2018-12-29T10:35:06.072719Z"
    }
   },
   "outputs": [
    {
     "data": {
      "text/plain": [
       "[(17802,), (197769,), (197770,)]"
      ]
     },
     "execution_count": 2,
     "metadata": {},
     "output_type": "execute_result"
    }
   ],
   "source": [
    "primes = np.array(list(primerange(0, len(cities))))\n",
    "complexes = (cities.X + 1j * cities.Y).values\n",
    "path = df.Path.values\n",
    "[primes.shape, complexes.shape, path.shape]"
   ]
  },
  {
   "cell_type": "code",
   "execution_count": 3,
   "metadata": {
    "ExecuteTime": {
     "end_time": "2018-12-29T10:35:07.924162Z",
     "start_time": "2018-12-29T10:35:07.867263Z"
    }
   },
   "outputs": [
    {
     "data": {
      "text/plain": [
       "(197770,)"
      ]
     },
     "execution_count": 3,
     "metadata": {},
     "output_type": "execute_result"
    }
   ],
   "source": [
    "path_complexes = np.array([complexes[i] for i in path])\n",
    "path_complexes.shape"
   ]
  },
  {
   "cell_type": "code",
   "execution_count": 4,
   "metadata": {
    "ExecuteTime": {
     "end_time": "2018-12-29T10:35:09.350982Z",
     "start_time": "2018-12-29T10:35:09.343423Z"
    }
   },
   "outputs": [
    {
     "data": {
      "text/plain": [
       "1503376.4431153932"
      ]
     },
     "execution_count": 4,
     "metadata": {},
     "output_type": "execute_result"
    }
   ],
   "source": [
    "score_np = np.sum(np.abs(np.diff(path_complexes)))\n",
    "score_np"
   ]
  },
  {
   "cell_type": "code",
   "execution_count": 5,
   "metadata": {
    "ExecuteTime": {
     "end_time": "2018-12-29T10:35:48.821133Z",
     "start_time": "2018-12-29T10:35:48.725327Z"
    }
   },
   "outputs": [
    {
     "data": {
      "text/plain": [
       "13337.332923249347"
      ]
     },
     "execution_count": 5,
     "metadata": {},
     "output_type": "execute_result"
    }
   ],
   "source": [
    "penalty = 0\n",
    "for i in range(0, len(path), 10):\n",
    "    if i > 0 and i % 10 == 0 and isprime(path[i-1]) == False:\n",
    "        #d = np.abs(path_complexes[i-1] - path_complexes[i])\n",
    "        d = np.abs(complexes[path[i-1]] - complexes[path[i]])\n",
    "        penalty += d * 0.1\n",
    "penalty"
   ]
  },
  {
   "cell_type": "code",
   "execution_count": 6,
   "metadata": {
    "ExecuteTime": {
     "end_time": "2018-12-29T10:35:49.734413Z",
     "start_time": "2018-12-29T10:35:49.731000Z"
    }
   },
   "outputs": [
    {
     "data": {
      "text/plain": [
       "1516713.7760386425"
      ]
     },
     "execution_count": 6,
     "metadata": {},
     "output_type": "execute_result"
    }
   ],
   "source": [
    "score = score_np + penalty\n",
    "score"
   ]
  },
  {
   "cell_type": "code",
   "execution_count": 7,
   "metadata": {
    "ExecuteTime": {
     "end_time": "2018-12-29T10:36:03.678599Z",
     "start_time": "2018-12-29T10:36:03.676072Z"
    }
   },
   "outputs": [],
   "source": [
    "def dist(a, b):\n",
    "    return np.abs(complexes[a] - complexes[b])"
   ]
  },
  {
   "cell_type": "code",
   "execution_count": 9,
   "metadata": {
    "ExecuteTime": {
     "end_time": "2018-12-29T10:36:20.815218Z",
     "start_time": "2018-12-29T10:36:20.756880Z"
    }
   },
   "outputs": [],
   "source": [
    "@jit('i4(i4)')\n",
    "def closest_prime(base_index):\n",
    "    min_dist = np.inf\n",
    "    closest_index = -1\n",
    "    for i in primes:\n",
    "        d = dist(base_index, i)\n",
    "        if d < min_dist and i != base_index:\n",
    "            min_dist = d\n",
    "            closest_index = i\n",
    "    return closest_index"
   ]
  },
  {
   "cell_type": "code",
   "execution_count": 10,
   "metadata": {
    "ExecuteTime": {
     "end_time": "2018-12-29T10:36:30.130042Z",
     "start_time": "2018-12-29T10:36:30.024779Z"
    }
   },
   "outputs": [
    {
     "data": {
      "text/plain": [
       "38447"
      ]
     },
     "execution_count": 10,
     "metadata": {},
     "output_type": "execute_result"
    }
   ],
   "source": [
    "closest_prime(path[8])"
   ]
  },
  {
   "cell_type": "code",
   "execution_count": 11,
   "metadata": {
    "ExecuteTime": {
     "end_time": "2018-12-29T10:36:35.898301Z",
     "start_time": "2018-12-29T10:36:35.891582Z"
    }
   },
   "outputs": [],
   "source": [
    "def score_between(path, a, b):\n",
    "    c = np.array([complexes[path[i]] for i in range(a, b+1)])\n",
    "    sc = np.sum(np.abs(np.diff(c)))\n",
    "    pn = np.sum(np.array([np.abs(complexes[path[i-1]] - complexes[path[i]])*0.1 for i in range(a, b+1) if i > 0 and a != i and i % 10 == 0 and isprime(path[i-1]) == False]))\n",
    "    return sc + pn"
   ]
  },
  {
   "cell_type": "code",
   "execution_count": 12,
   "metadata": {
    "ExecuteTime": {
     "end_time": "2018-12-29T10:36:38.965237Z",
     "start_time": "2018-12-29T10:36:38.806096Z"
    }
   },
   "outputs": [
    {
     "data": {
      "text/plain": [
       "1516713.7760386425"
      ]
     },
     "execution_count": 12,
     "metadata": {},
     "output_type": "execute_result"
    }
   ],
   "source": [
    "score_between(path, 0, len(path)-1)"
   ]
  },
  {
   "cell_type": "code",
   "execution_count": 13,
   "metadata": {
    "ExecuteTime": {
     "end_time": "2018-12-29T10:36:47.598850Z",
     "start_time": "2018-12-29T10:36:47.558388Z"
    }
   },
   "outputs": [],
   "source": [
    "def opt_prime(path):\n",
    "    #path_copy = path.copy()\n",
    "    sum1 = 0\n",
    "    sum2 = 0\n",
    "    for i in tqdm(range(0, len(path), 10)):\n",
    "        if i > 0:\n",
    "            p = isprime(path[i-1])\n",
    "            if p == False:\n",
    "                closest_prime_index = closest_prime(path[i-2])\n",
    "                closest_prime_path_index = np.where(path==closest_prime_index)[0][0]\n",
    "                if closest_prime_path_index < i-1:\n",
    "                    s1 = score_between(path, closest_prime_path_index-1, i)\n",
    "                    path_copy = np.insert(path, i, closest_prime_index)\n",
    "                    path_copy = np.delete(path_copy, closest_prime_path_index)\n",
    "                    s2 = score_between(path_copy, closest_prime_path_index-1, i)\n",
    "                    if s1 > s2:\n",
    "                        sum1 += 1\n",
    "                        path = path_copy\n",
    "                        print('sum1:', sum1, i)\n",
    "                elif closest_prime_path_index > i-1:\n",
    "                    s1 = score_between(path, i-2, closest_prime_path_index+1)\n",
    "                    path_copy = np.insert(path, i-1, closest_prime_index)\n",
    "                    path_copy = np.delete(path_copy, closest_prime_path_index+1)\n",
    "                    s2 = score_between(path_copy, i-2, closest_prime_path_index+1)\n",
    "                    if s1 > s2:\n",
    "                        sum2 += 1\n",
    "                        path = path_copy\n",
    "                        print('sum2:', sum2, i)\n",
    "    return path"
   ]
  },
  {
   "cell_type": "code",
   "execution_count": 14,
   "metadata": {
    "ExecuteTime": {
     "end_time": "2018-12-29T10:47:40.464540Z",
     "start_time": "2018-12-29T10:36:53.519231Z"
    },
    "scrolled": false
   },
   "outputs": [
    {
     "data": {
      "application/vnd.jupyter.widget-view+json": {
       "model_id": "3f57a5393064453fbb303d7cba993afd",
       "version_major": 2,
       "version_minor": 0
      },
      "text/plain": [
       "HBox(children=(IntProgress(value=0, max=19777), HTML(value='')))"
      ]
     },
     "metadata": {},
     "output_type": "display_data"
    },
    {
     "name": "stdout",
     "output_type": "stream",
     "text": [
      "\n"
     ]
    },
    {
     "data": {
      "text/plain": [
       "1516713.7760386425"
      ]
     },
     "execution_count": 14,
     "metadata": {},
     "output_type": "execute_result"
    }
   ],
   "source": [
    "path = opt_prime(path)\n",
    "score_between(path, 0, len(path)-1)\n",
    "\n",
    "# 1516845.1618924788 --> 1516774.6045630828 (-70.55732939601876) --> 1516761.7762980566\n",
    "# 1517948.690835177  11m 52s"
   ]
  },
  {
   "cell_type": "code",
   "execution_count": 83,
   "metadata": {
    "ExecuteTime": {
     "end_time": "2018-12-23T13:56:07.708924Z",
     "start_time": "2018-12-23T13:56:07.440910Z"
    }
   },
   "outputs": [],
   "source": [
    "pd.DataFrame({'Path': path}).to_csv('submission.csv', index=False)"
   ]
  },
  {
   "cell_type": "code",
   "execution_count": 84,
   "metadata": {
    "ExecuteTime": {
     "end_time": "2018-12-23T13:56:09.266769Z",
     "start_time": "2018-12-23T13:56:09.106326Z"
    }
   },
   "outputs": [
    {
     "data": {
      "text/plain": [
       "1516761.7762980566"
      ]
     },
     "execution_count": 84,
     "metadata": {},
     "output_type": "execute_result"
    }
   ],
   "source": [
    "score_between(path, 0, len(path)-1)\n",
    "# 1517948.690835177\n",
    "# 1516763.9051902506\n",
    "# 1516761.7762980566"
   ]
  },
  {
   "cell_type": "code",
   "execution_count": 15,
   "metadata": {
    "ExecuteTime": {
     "end_time": "2018-12-29T11:34:49.241844Z",
     "start_time": "2018-12-29T11:34:49.205621Z"
    }
   },
   "outputs": [],
   "source": [
    "def opt2(path):\n",
    "    cnt = 0\n",
    "    for i in tqdm(range(1, len(path)-2)):       \n",
    "        if i % 10 != 9 and (i+1) % 10 != 9:\n",
    "            copy = path.copy()\n",
    "            sc1 = score_between(path, i-1, i+2)\n",
    "            copy[i], copy[i+1] = copy[i+1], copy[i]\n",
    "            sc2 = score_between(copy, i-1, i+2)\n",
    "            \n",
    "            if sc1 > sc2:\n",
    "                cnt += 1\n",
    "                print(cnt, i)\n",
    "                path[i], path[i+1] = path[i+1], path[i]\n",
    "    return path\n",
    "    "
   ]
  },
  {
   "cell_type": "code",
   "execution_count": 16,
   "metadata": {
    "ExecuteTime": {
     "end_time": "2018-12-29T11:35:09.708980Z",
     "start_time": "2018-12-29T11:34:51.165434Z"
    }
   },
   "outputs": [
    {
     "data": {
      "application/vnd.jupyter.widget-view+json": {
       "model_id": "f1d7298d1485400183678214fe9c6abd",
       "version_major": 2,
       "version_minor": 0
      },
      "text/plain": [
       "HBox(children=(IntProgress(value=0, max=197767), HTML(value='')))"
      ]
     },
     "metadata": {},
     "output_type": "display_data"
    },
    {
     "name": "stdout",
     "output_type": "stream",
     "text": [
      "\n"
     ]
    },
    {
     "data": {
      "text/plain": [
       "1516713.7760386425"
      ]
     },
     "execution_count": 16,
     "metadata": {},
     "output_type": "execute_result"
    }
   ],
   "source": [
    "path = opt2(path)\n",
    "score_between(path, 0, len(path)-1)"
   ]
  },
  {
   "cell_type": "code",
   "execution_count": 17,
   "metadata": {
    "ExecuteTime": {
     "end_time": "2018-12-29T11:35:15.478387Z",
     "start_time": "2018-12-29T11:35:15.465074Z"
    }
   },
   "outputs": [],
   "source": [
    "def opt3(path):\n",
    "    cnt = 0\n",
    "    for i in tqdm(range(2, len(path)-3)):\n",
    "        if i % 10 != 8 and i % 10 != 0:\n",
    "            copy = path.copy()\n",
    "            sc1 = score_between(path, i-2, i+2)\n",
    "            copy[i-1], copy[i+1] = copy[i+1], copy[i-1]\n",
    "            sc2 = score_between(copy, i-2, i+2)\n",
    "            if sc1 > sc2:\n",
    "                cnt += 1\n",
    "                print(cnt, i)\n",
    "                path[i-1], path[i+1] = path[i+1], path[i-1]\n",
    "    return path"
   ]
  },
  {
   "cell_type": "code",
   "execution_count": 18,
   "metadata": {
    "ExecuteTime": {
     "end_time": "2018-12-29T11:35:37.101658Z",
     "start_time": "2018-12-29T11:35:18.006383Z"
    }
   },
   "outputs": [
    {
     "data": {
      "application/vnd.jupyter.widget-view+json": {
       "model_id": "129d7e8c362e4660939dfb892f0bf389",
       "version_major": 2,
       "version_minor": 0
      },
      "text/plain": [
       "HBox(children=(IntProgress(value=0, max=197765), HTML(value='')))"
      ]
     },
     "metadata": {},
     "output_type": "display_data"
    },
    {
     "name": "stdout",
     "output_type": "stream",
     "text": [
      "\n"
     ]
    },
    {
     "data": {
      "text/plain": [
       "1516713.7760386425"
      ]
     },
     "execution_count": 18,
     "metadata": {},
     "output_type": "execute_result"
    }
   ],
   "source": [
    "path = opt3(path)\n",
    "score_between(path, 0, len(path)-1)"
   ]
  },
  {
   "cell_type": "code",
   "execution_count": 80,
   "metadata": {
    "ExecuteTime": {
     "end_time": "2018-12-23T13:30:39.573045Z",
     "start_time": "2018-12-23T13:30:39.483447Z"
    }
   },
   "outputs": [],
   "source": [
    "@jit('i8[:](i8[:], i4)')\n",
    "def opt_rand_flip(path, iteration=1000):\n",
    "    cnt = 0\n",
    "    for i in tqdm(range(iteration)):\n",
    "        n1 = np.random.randint(1, len(path)-3)\n",
    "        n2 = np.random.randint(n1+1, len(path)-2)\n",
    "        sc1 = score_between(path, n1-1, n2+1)\n",
    "        copy = path.copy()\n",
    "        rev = copy[n1: n2+1][::-1]\n",
    "        copy = np.concatenate([copy[:n1], rev, copy[n2+1:]])\n",
    "        sc2 = score_between(copy, n1-1, n2+1)\n",
    "        if sc1 > sc2:\n",
    "            path = copy.copy()\n",
    "            cnt += 1\n",
    "            print(cnt, i)\n",
    "    return path\n"
   ]
  },
  {
   "cell_type": "code",
   "execution_count": 81,
   "metadata": {
    "ExecuteTime": {
     "end_time": "2018-12-23T13:42:44.009817Z",
     "start_time": "2018-12-23T13:30:59.619089Z"
    }
   },
   "outputs": [
    {
     "data": {
      "application/vnd.jupyter.widget-view+json": {
       "model_id": "bdd99148dbfd417a932246fa6938dfe5",
       "version_major": 2,
       "version_minor": 0
      },
      "text/plain": [
       "HBox(children=(IntProgress(value=0, max=10000), HTML(value='')))"
      ]
     },
     "metadata": {},
     "output_type": "display_data"
    },
    {
     "data": {
      "text/plain": [
       "1516761.7762980566"
      ]
     },
     "execution_count": 81,
     "metadata": {},
     "output_type": "execute_result"
    }
   ],
   "source": [
    "path = opt_rand_flip(path, 10000)\n",
    "score_between(path, 0, len(path)-1)"
   ]
  },
  {
   "cell_type": "code",
   "execution_count": 33,
   "metadata": {
    "ExecuteTime": {
     "end_time": "2018-12-23T12:09:34.549679Z",
     "start_time": "2018-12-23T12:09:34.484962Z"
    }
   },
   "outputs": [],
   "source": [
    "@jit('i8[:](i8[:], i4)')\n",
    "def opt_rand(path, iteration=1000):\n",
    "    cnt = 0    \n",
    "    for i in tqdm(range(iteration)):\n",
    "        n1 = np.random.randint(1, len(path)-4)\n",
    "        n2 = np.random.randint(n1+1, len(path)-3)\n",
    "        copy = path.copy()\n",
    "        sc1 = score_between(path, n1-1, n2+1)\n",
    "        copy[n1], copy[n2] = copy[n2], copy[n1]\n",
    "        sc2 = score_between(copy, n1-1, n2+1)\n",
    "        if sc1 > sc2:\n",
    "            path[n1], path[n2] = path[n2], path[n1]\n",
    "            cnt += 1\n",
    "            print(cnt, i)         \n",
    "    return path"
   ]
  },
  {
   "cell_type": "code",
   "execution_count": 34,
   "metadata": {
    "ExecuteTime": {
     "end_time": "2018-12-23T12:09:39.163546Z",
     "start_time": "2018-12-23T12:09:39.008941Z"
    }
   },
   "outputs": [
    {
     "data": {
      "text/plain": [
       "1516774.0593811055"
      ]
     },
     "execution_count": 34,
     "metadata": {},
     "output_type": "execute_result"
    }
   ],
   "source": [
    "score_between(path, 0, len(path)-1)"
   ]
  },
  {
   "cell_type": "code",
   "execution_count": 35,
   "metadata": {
    "ExecuteTime": {
     "end_time": "2018-12-23T12:21:41.457147Z",
     "start_time": "2018-12-23T12:09:41.831008Z"
    }
   },
   "outputs": [
    {
     "data": {
      "application/vnd.jupyter.widget-view+json": {
       "model_id": "ce525969738144098b5ce4f02a6a6f76",
       "version_major": 2,
       "version_minor": 0
      },
      "text/plain": [
       "HBox(children=(IntProgress(value=0, max=10000), HTML(value='')))"
      ]
     },
     "metadata": {},
     "output_type": "display_data"
    },
    {
     "name": "stdout",
     "output_type": "stream",
     "text": [
      "\n"
     ]
    },
    {
     "data": {
      "text/plain": [
       "1516774.0593811055"
      ]
     },
     "execution_count": 35,
     "metadata": {},
     "output_type": "execute_result"
    }
   ],
   "source": [
    "path = opt_rand(path, 10000)\n",
    "score_between(path, 0, len(path)-1)\n",
    "# 100000: 1h 58m 4s"
   ]
  },
  {
   "cell_type": "code",
   "execution_count": 31,
   "metadata": {
    "ExecuteTime": {
     "end_time": "2018-12-23T12:05:47.536016Z",
     "start_time": "2018-12-23T12:05:47.275595Z"
    }
   },
   "outputs": [],
   "source": [
    "pd.DataFrame({'Path': p}).to_csv('submission.csv', index=False)"
   ]
  },
  {
   "cell_type": "code",
   "execution_count": 32,
   "metadata": {
    "ExecuteTime": {
     "end_time": "2018-12-23T12:06:15.045120Z",
     "start_time": "2018-12-23T12:06:14.586326Z"
    }
   },
   "outputs": [
    {
     "name": "stdout",
     "output_type": "stream",
     "text": [
      "Tour path (0-5): [0, 78934, 111804, 52086, 89712]\n",
      "Flipped tour path (0-5): [0, 48816, 40230, 75405, 153911]\n",
      "Score of original tour: 1516774.6045630828\n",
      "Score of flipped tour: 1517077.9840253645\n"
     ]
    }
   ],
   "source": [
    "# flip it: https://www.kaggle.com/matthewa313/flip-it\n",
    "\n",
    "tour = pd.read_csv('submission.csv')['Path'].tolist()\n",
    "cities = pd.read_csv('input/cities.csv')\n",
    "\n",
    "# Define a function for length of a path:\n",
    "import numpy as np\n",
    "from sympy import primerange\n",
    "primes = list(primerange(0, len(cities)))\n",
    "def score_tour(tour):\n",
    "    # length of any given tour with primes calculation\n",
    "    df = cities.reindex(tour + [0]).reset_index()\n",
    "    df['prime'] = df.CityId.isin(primes).astype(int)\n",
    "    df['dist'] = np.hypot(df.X - df.X.shift(-1), df.Y - df.Y.shift(-1))\n",
    "    df['penalty'] = df['dist'][9::10] * (1 - df['prime'][9::10]) * 0.1\n",
    "    return df.dist.sum() + df.penalty.sum()\n",
    "\n",
    "# Let's take a look at our tour\n",
    "print(\"Tour path (0-5):\",tour[0:5])\n",
    "# And the flipped tour looks like:\n",
    "tourflip = tour[::-1]\n",
    "print(\"Flipped tour path (0-5):\", tourflip[0:5])\n",
    "# The scores of our tours are:\n",
    "print(\"Score of original tour:\", score_tour(tour))\n",
    "print(\"Score of flipped tour:\", score_tour(tourflip))\n",
    "\n",
    "# If the flipped tour is quicker, change our tour:\n",
    "if score_tour(tourflip) < score_tour(tour):\n",
    "    print(\"The total improvement was:\", abs(score_tour(tourflip) - score_tour(tour)))\n",
    "    tour = tourflip \n",
    "    print(\"The better of the original/flipped tour is:\", tour[0:5])\n",
    "\n",
    "#pd.DataFrame({'Path': list(tour)}).to_csv('submission.csv', index=False)"
   ]
  },
  {
   "cell_type": "code",
   "execution_count": null,
   "metadata": {},
   "outputs": [],
   "source": []
  }
 ],
 "metadata": {
  "kernelspec": {
   "display_name": "py36",
   "language": "python",
   "name": "py36"
  },
  "language_info": {
   "codemirror_mode": {
    "name": "ipython",
    "version": 3
   },
   "file_extension": ".py",
   "mimetype": "text/x-python",
   "name": "python",
   "nbconvert_exporter": "python",
   "pygments_lexer": "ipython3",
   "version": "3.6.4"
  }
 },
 "nbformat": 4,
 "nbformat_minor": 2
}
