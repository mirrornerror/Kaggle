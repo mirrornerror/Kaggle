{
 "cells": [
  {
   "cell_type": "markdown",
   "metadata": {},
   "source": [
    "https://www.kaggle.com/kostyaatarik/close-ends-chunks-optimization-aka-2-opt"
   ]
  },
  {
   "cell_type": "code",
   "execution_count": 24,
   "metadata": {
    "ExecuteTime": {
     "end_time": "2019-01-02T18:28:00.964466Z",
     "start_time": "2019-01-02T18:28:00.959584Z"
    }
   },
   "outputs": [],
   "source": [
    "import numpy as np\n",
    "import pandas as pd\n",
    "import numba\n",
    "from sympy import isprime, primerange\n",
    "from math import sqrt\n",
    "from sklearn.neighbors import KDTree\n",
    "from tqdm import tqdm_notebook as tqdm\n",
    "from itertools import combinations"
   ]
  },
  {
   "cell_type": "code",
   "execution_count": 2,
   "metadata": {
    "ExecuteTime": {
     "end_time": "2019-01-02T15:16:38.483341Z",
     "start_time": "2019-01-02T15:16:38.126240Z"
    }
   },
   "outputs": [],
   "source": [
    "cities = pd.read_csv('input/cities.csv', index_col=['CityId'])\n",
    "XY = np.stack((cities.X.astype(np.float32), cities.Y.astype(np.float32)), axis=1)\n",
    "is_not_prime = np.array([0 if isprime(i) else 1 for i in cities.index], dtype=np.int32)"
   ]
  },
  {
   "cell_type": "code",
   "execution_count": 3,
   "metadata": {
    "ExecuteTime": {
     "end_time": "2019-01-02T15:16:38.899810Z",
     "start_time": "2019-01-02T15:16:38.484585Z"
    }
   },
   "outputs": [],
   "source": [
    "@numba.jit('f8(i8, i8, i8)', nopython=True, parallel=False)\n",
    "def cities_distance(offset, id_from, id_to):\n",
    "    xy_from, xy_to = XY[id_from], XY[id_to]\n",
    "    dx, dy = xy_from[0] - xy_to[0], xy_from[1] - xy_to[1]\n",
    "    distance = sqrt(dx * dx + dy * dy)\n",
    "    if offset % 10 == 9 and is_not_prime[id_from]:\n",
    "        return 1.1 * distance\n",
    "    return distance\n",
    "\n",
    "\n",
    "@numba.jit('f8(i4, i8[:])', nopython=True, parallel=False)\n",
    "def score_chunk(offset, chunk):\n",
    "    pure_distance, penalty = 0.0, 0.0\n",
    "    penalty_modulo = 9 - offset % 10\n",
    "    for path_index in numba.prange(chunk.shape[0] - 1):\n",
    "        id_from, id_to = chunk[path_index], chunk[path_index+1]\n",
    "        xy_from, xy_to = XY[id_from], XY[id_to]\n",
    "        dx, dy = xy_from[0] - xy_to[0], xy_from[1] - xy_to[1]\n",
    "        distance = sqrt(dx * dx + dy * dy)\n",
    "        pure_distance += distance\n",
    "        if path_index % 10 == penalty_modulo and is_not_prime[id_from]:\n",
    "            penalty += distance\n",
    "    return pure_distance + 0.1 * penalty\n",
    "\n",
    "\n",
    "@numba.jit('f8(i8[:])', nopython=True, parallel=False)\n",
    "def score_path(path):\n",
    "    return score_chunk(0, path)"
   ]
  },
  {
   "cell_type": "code",
   "execution_count": 4,
   "metadata": {
    "ExecuteTime": {
     "end_time": "2019-01-02T15:16:38.992686Z",
     "start_time": "2019-01-02T15:16:38.901227Z"
    }
   },
   "outputs": [],
   "source": [
    "kdt = KDTree(XY)"
   ]
  },
  {
   "cell_type": "code",
   "execution_count": 5,
   "metadata": {
    "ExecuteTime": {
     "end_time": "2019-01-02T15:17:49.755955Z",
     "start_time": "2019-01-02T15:16:38.993845Z"
    }
   },
   "outputs": [
    {
     "name": "stderr",
     "output_type": "stream",
     "text": [
      "100%|██████████| 197769/197769 [01:04<00:00, 3088.24it/s]\n"
     ]
    },
    {
     "name": "stdout",
     "output_type": "stream",
     "text": [
      "6275850 cities pairs are selected.\n"
     ]
    }
   ],
   "source": [
    "pairs = set()\n",
    "for city_id in tqdm(cities.index):\n",
    "    dists, neibs = kdt.query([XY[city_id]], 31)\n",
    "    for neib_id in neibs[0][1:]:\n",
    "        if city_id and neib_id:  # skip pairs that include starting city \n",
    "            pairs.add(tuple(sorted((city_id, neib_id))))\n",
    "    neibs = kdt.query_radius([XY[city_id]], 31, count_only=False, return_distance=False)\n",
    "    for neib_id in neibs[0]:\n",
    "        if city_id and neib_id and city_id != neib_id:\n",
    "            pairs.add(tuple(sorted((city_id, neib_id))))\n",
    "\n",
    "print(f'{len(pairs)} cities pairs are selected.')\n",
    "# sort pairs by distance\n",
    "pairs = np.array(list(pairs))\n",
    "distances = np.sum((XY[pairs.T[0]] - XY[pairs.T[1]])**2, axis=1)\n",
    "order = distances.argsort()\n",
    "pairs = pairs[order]"
   ]
  },
  {
   "cell_type": "code",
   "execution_count": 6,
   "metadata": {
    "ExecuteTime": {
     "end_time": "2019-01-02T15:18:02.472558Z",
     "start_time": "2019-01-02T15:18:02.444026Z"
    }
   },
   "outputs": [
    {
     "data": {
      "text/plain": [
       "1516713.767614174"
      ]
     },
     "execution_count": 6,
     "metadata": {},
     "output_type": "execute_result"
    }
   ],
   "source": [
    "path = np.array(pd.read_csv('cuda_submission.csv').Path)\n",
    "initial_score = score_path(path)\n",
    "initial_score"
   ]
  },
  {
   "cell_type": "code",
   "execution_count": 7,
   "metadata": {
    "ExecuteTime": {
     "end_time": "2019-01-02T15:48:53.086990Z",
     "start_time": "2019-01-02T15:18:48.448014Z"
    }
   },
   "outputs": [
    {
     "name": "stderr",
     "output_type": "stream",
     "text": [
      "  0%|          | 2244/6275850 [00:00<04:54, 21273.75it/s]"
     ]
    },
    {
     "name": "stdout",
     "output_type": "stream",
     "text": [
      "Total score is 1516713.77.\n"
     ]
    },
    {
     "name": "stderr",
     "output_type": "stream",
     "text": [
      " 16%|█▌        | 1002703/6275850 [00:53<04:39, 18891.72it/s]"
     ]
    },
    {
     "name": "stdout",
     "output_type": "stream",
     "text": [
      "Score: 1516531.60; improvement over last 10^6 steps: 182.17; total improvement: 182.17.\n"
     ]
    },
    {
     "name": "stderr",
     "output_type": "stream",
     "text": [
      " 32%|███▏      | 2001991/6275850 [02:07<04:31, 15739.76it/s]"
     ]
    },
    {
     "name": "stdout",
     "output_type": "stream",
     "text": [
      "Score: 1516529.24; improvement over last 10^6 steps: 2.36; total improvement: 184.53.\n"
     ]
    },
    {
     "name": "stderr",
     "output_type": "stream",
     "text": [
      " 48%|████▊     | 3001376/6275850 [03:37<03:57, 13812.15it/s]"
     ]
    },
    {
     "name": "stdout",
     "output_type": "stream",
     "text": [
      "Score: 1516528.64; improvement over last 10^6 steps: 0.60; total improvement: 185.13.\n"
     ]
    },
    {
     "name": "stderr",
     "output_type": "stream",
     "text": [
      " 64%|██████▍   | 4000931/6275850 [05:23<03:03, 12364.36it/s]"
     ]
    },
    {
     "name": "stdout",
     "output_type": "stream",
     "text": [
      "Score: 1516528.64; improvement over last 10^6 steps: 0.00; total improvement: 185.13.\n"
     ]
    },
    {
     "name": "stderr",
     "output_type": "stream",
     "text": [
      " 80%|███████▉  | 5001074/6275850 [07:14<01:50, 11501.37it/s]"
     ]
    },
    {
     "name": "stdout",
     "output_type": "stream",
     "text": [
      "Score: 1516528.64; improvement over last 10^6 steps: 0.00; total improvement: 185.13.\n"
     ]
    },
    {
     "name": "stderr",
     "output_type": "stream",
     "text": [
      " 96%|█████████▌| 6001105/6275850 [09:17<00:25, 10771.47it/s]"
     ]
    },
    {
     "name": "stdout",
     "output_type": "stream",
     "text": [
      "Score: 1516528.64; improvement over last 10^6 steps: 0.00; total improvement: 185.13.\n"
     ]
    },
    {
     "name": "stderr",
     "output_type": "stream",
     "text": [
      "100%|██████████| 6275850/6275850 [10:10<00:00, 10287.67it/s]\n",
      " 16%|█▌        | 1003386/6275850 [00:54<04:44, 18518.96it/s]"
     ]
    },
    {
     "name": "stdout",
     "output_type": "stream",
     "text": [
      "Score: 1516515.34; improvement over last 10^6 steps: 13.30; total improvement: 198.43.\n"
     ]
    },
    {
     "name": "stderr",
     "output_type": "stream",
     "text": [
      " 32%|███▏      | 2001575/6275850 [02:14<04:46, 14916.42it/s]"
     ]
    },
    {
     "name": "stdout",
     "output_type": "stream",
     "text": [
      "Score: 1516514.55; improvement over last 10^6 steps: 0.79; total improvement: 199.22.\n"
     ]
    },
    {
     "name": "stderr",
     "output_type": "stream",
     "text": [
      " 48%|████▊     | 3001606/6275850 [03:48<04:08, 13154.91it/s]"
     ]
    },
    {
     "name": "stdout",
     "output_type": "stream",
     "text": [
      "Score: 1516514.55; improvement over last 10^6 steps: 0.00; total improvement: 199.22.\n"
     ]
    },
    {
     "name": "stderr",
     "output_type": "stream",
     "text": [
      " 64%|██████▍   | 4001179/6275850 [05:31<03:08, 12070.87it/s]"
     ]
    },
    {
     "name": "stdout",
     "output_type": "stream",
     "text": [
      "Score: 1516514.55; improvement over last 10^6 steps: 0.00; total improvement: 199.22.\n"
     ]
    },
    {
     "name": "stderr",
     "output_type": "stream",
     "text": [
      " 80%|███████▉  | 5001041/6275850 [07:18<01:51, 11413.36it/s]"
     ]
    },
    {
     "name": "stdout",
     "output_type": "stream",
     "text": [
      "Score: 1516514.55; improvement over last 10^6 steps: 0.00; total improvement: 199.22.\n"
     ]
    },
    {
     "name": "stderr",
     "output_type": "stream",
     "text": [
      " 96%|█████████▌| 6000871/6275850 [09:10<00:25, 10907.91it/s]"
     ]
    },
    {
     "name": "stdout",
     "output_type": "stream",
     "text": [
      "Score: 1516514.55; improvement over last 10^6 steps: 0.00; total improvement: 199.22.\n"
     ]
    },
    {
     "name": "stderr",
     "output_type": "stream",
     "text": [
      "100%|██████████| 6275850/6275850 [10:05<00:00, 10367.76it/s]\n",
      " 16%|█▌        | 1002335/6275850 [00:52<04:38, 18939.66it/s]"
     ]
    },
    {
     "name": "stdout",
     "output_type": "stream",
     "text": [
      "Score: 1516514.55; improvement over last 10^6 steps: 0.00; total improvement: 199.22.\n"
     ]
    },
    {
     "name": "stderr",
     "output_type": "stream",
     "text": [
      " 32%|███▏      | 2001368/6275850 [02:13<04:46, 14945.04it/s]"
     ]
    },
    {
     "name": "stdout",
     "output_type": "stream",
     "text": [
      "Score: 1516514.55; improvement over last 10^6 steps: 0.00; total improvement: 199.22.\n"
     ]
    },
    {
     "name": "stderr",
     "output_type": "stream",
     "text": [
      " 48%|████▊     | 3000804/6275850 [03:42<04:03, 13473.72it/s]"
     ]
    },
    {
     "name": "stdout",
     "output_type": "stream",
     "text": [
      "Score: 1516514.55; improvement over last 10^6 steps: 0.00; total improvement: 199.22.\n"
     ]
    },
    {
     "name": "stderr",
     "output_type": "stream",
     "text": [
      " 64%|██████▍   | 4000964/6275850 [05:20<03:02, 12479.45it/s]"
     ]
    },
    {
     "name": "stdout",
     "output_type": "stream",
     "text": [
      "Score: 1516514.55; improvement over last 10^6 steps: 0.00; total improvement: 199.22.\n"
     ]
    },
    {
     "name": "stderr",
     "output_type": "stream",
     "text": [
      " 80%|███████▉  | 5001592/6275850 [07:05<01:48, 11747.77it/s]"
     ]
    },
    {
     "name": "stdout",
     "output_type": "stream",
     "text": [
      "Score: 1516514.55; improvement over last 10^6 steps: 0.00; total improvement: 199.22.\n"
     ]
    },
    {
     "name": "stderr",
     "output_type": "stream",
     "text": [
      " 96%|█████████▌| 6000929/6275850 [08:58<00:24, 11146.61it/s]"
     ]
    },
    {
     "name": "stdout",
     "output_type": "stream",
     "text": [
      "Score: 1516514.55; improvement over last 10^6 steps: 0.00; total improvement: 199.22.\n"
     ]
    },
    {
     "name": "stderr",
     "output_type": "stream",
     "text": [
      "100%|██████████| 6275850/6275850 [09:49<00:00, 10651.27it/s]\n"
     ]
    }
   ],
   "source": [
    "path_index = np.argsort(path[:-1])\n",
    "\n",
    "total_score = initial_score\n",
    "print(f'Total score is {total_score:.2f}.')\n",
    "for _ in range(3):\n",
    "    for step, (id1, id2) in enumerate(tqdm(pairs), 1):\n",
    "        if step % 10**6 == 0:\n",
    "            new_total_score = score_path(path)\n",
    "            print(f'Score: {new_total_score:.2f}; improvement over last 10^6 steps: {total_score - new_total_score:.2f}; total improvement: {initial_score - new_total_score:.2f}.')\n",
    "            total_score = new_total_score\n",
    "        i, j = path_index[id1], path_index[id2]\n",
    "        i, j = min(i, j), max(i, j)\n",
    "        chunk, reversed_chunk = path[i-1:j+2], np.concatenate([path[i-1:i], path[j:i-1:-1], path[j+1:j+2]])\n",
    "        chunk_score, reversed_chunk_score = score_chunk(i-1, chunk), score_chunk(i-1, reversed_chunk)\n",
    "        if j - i > 2:\n",
    "            chunk_abc = np.concatenate([path[i-1:i+1], path[j:i:-1], path[j+1:j+2]])\n",
    "            chunk_acb = np.concatenate([path[i-1:i], path[j:j+1], path[i:j], path[j+1:j+2]])\n",
    "            chunk_abcb = np.concatenate([path[i-1:i+1], path[j:j+1], path[i+1:j], path[j+1:j+2]])\n",
    "            abc_score, acb_score, abcb_score = map(lambda chunk: score_chunk(i-1, chunk), [chunk_abc, chunk_acb, chunk_abcb])\n",
    "            for chunk, score, name in zip((chunk_abc, chunk_acb, chunk_abcb), (abc_score, acb_score, abcb_score), ('abc', 'acb', 'abcb')):\n",
    "                if score < chunk_score:\n",
    "                    path[i-1:j+2] = chunk\n",
    "                    path_index = np.argsort(path[:-1])  # update path index\n",
    "                    chunk_score = score\n",
    "        if reversed_chunk_score < chunk_score:\n",
    "            path[i-1:j+2] = reversed_chunk\n",
    "            path_index = np.argsort(path[:-1])  # update path index"
   ]
  },
  {
   "cell_type": "code",
   "execution_count": 8,
   "metadata": {
    "ExecuteTime": {
     "end_time": "2019-01-02T15:49:07.413894Z",
     "start_time": "2019-01-02T15:49:07.411118Z"
    }
   },
   "outputs": [
    {
     "name": "stdout",
     "output_type": "stream",
     "text": [
      "Total improvement is 199.22.\n"
     ]
    }
   ],
   "source": [
    "print(f'Total improvement is {initial_score - total_score:.2f}.')"
   ]
  },
  {
   "cell_type": "code",
   "execution_count": 9,
   "metadata": {
    "ExecuteTime": {
     "end_time": "2019-01-02T15:49:21.750399Z",
     "start_time": "2019-01-02T15:49:21.501823Z"
    }
   },
   "outputs": [],
   "source": [
    "pd.DataFrame({'Path': path}).to_csv('submission_close1.csv', index=False)"
   ]
  },
  {
   "cell_type": "code",
   "execution_count": null,
   "metadata": {},
   "outputs": [],
   "source": []
  },
  {
   "cell_type": "code",
   "execution_count": 26,
   "metadata": {
    "ExecuteTime": {
     "end_time": "2019-01-02T18:30:03.697423Z",
     "start_time": "2019-01-02T18:30:03.691248Z"
    }
   },
   "outputs": [],
   "source": [
    "# https://www.kaggle.com/kostyaatarik/not-a-3-and-3-halves-opt\n",
    "import numpy as np\n",
    "import pandas as pd\n",
    "import numba\n",
    "from sympy import isprime, primerange\n",
    "from math import sqrt\n",
    "from sklearn.neighbors import KDTree\n",
    "from tqdm import tqdm_notebook as tqdm\n",
    "from itertools import combinations, permutations\n",
    "from functools import lru_cache"
   ]
  },
  {
   "cell_type": "code",
   "execution_count": 27,
   "metadata": {
    "ExecuteTime": {
     "end_time": "2019-01-02T18:30:08.408759Z",
     "start_time": "2019-01-02T18:30:08.062357Z"
    }
   },
   "outputs": [],
   "source": [
    "cities = pd.read_csv('input/cities.csv', index_col=['CityId'])\n",
    "XY = np.stack((cities.X.astype(np.float32), cities.Y.astype(np.float32)), axis=1)\n",
    "is_not_prime = np.array([0 if isprime(i) else 1 for i in cities.index], dtype=np.int32)"
   ]
  },
  {
   "cell_type": "code",
   "execution_count": 28,
   "metadata": {
    "ExecuteTime": {
     "end_time": "2019-01-02T18:30:10.879019Z",
     "start_time": "2019-01-02T18:30:10.369717Z"
    }
   },
   "outputs": [],
   "source": [
    "@numba.jit('f8(i8, i8, i8)', nopython=True, parallel=False)\n",
    "def cities_distance(offset, id_from, id_to):\n",
    "    xy_from, xy_to = XY[id_from], XY[id_to]\n",
    "    dx, dy = xy_from[0] - xy_to[0], xy_from[1] - xy_to[1]\n",
    "    distance = sqrt(dx * dx + dy * dy)\n",
    "    if offset % 10 == 9 and is_not_prime[id_from]:\n",
    "        return 1.1 * distance\n",
    "    return distance\n",
    "\n",
    "\n",
    "@numba.jit('f8(i4, i8[:])', nopython=True, parallel=False)\n",
    "def score_chunk(offset, chunk):\n",
    "    pure_distance, penalty = 0.0, 0.0\n",
    "    penalty_modulo = 9 - offset % 10\n",
    "    for path_index in numba.prange(chunk.shape[0] - 1):\n",
    "        id_from, id_to = chunk[path_index], chunk[path_index+1]\n",
    "        xy_from, xy_to = XY[id_from], XY[id_to]\n",
    "        dx, dy = xy_from[0] - xy_to[0], xy_from[1] - xy_to[1]\n",
    "        distance = sqrt(dx * dx + dy * dy)\n",
    "        pure_distance += distance\n",
    "        if path_index % 10 == penalty_modulo and is_not_prime[id_from]:\n",
    "            penalty += distance\n",
    "    return pure_distance + 0.1 * penalty\n",
    "\n",
    "\n",
    "@numba.jit('f8(i8[:])', nopython=True, parallel=False)\n",
    "def score_path(path):\n",
    "    return score_chunk(0, path)\n",
    "\n",
    "\n",
    "@numba.jit\n",
    "def chunk_scores(chunk):\n",
    "    scores = np.zeros(10)\n",
    "    pure_distance = 0\n",
    "    for i in numba.prange(chunk.shape[0] - 1):\n",
    "        id_from, id_to = chunk[i], chunk[i+1]\n",
    "        xy_from, xy_to = XY[id_from], XY[id_to]\n",
    "        dx, dy = xy_from[0] - xy_to[0], xy_from[1] - xy_to[1]\n",
    "        distance = sqrt(dx * dx + dy * dy)\n",
    "        pure_distance += distance\n",
    "        if is_not_prime[id_from]:\n",
    "            scores[9-i%10] += distance\n",
    "    scores *= 0.1\n",
    "    scores += pure_distance\n",
    "    return scores\n",
    "\n",
    "def score_compound_chunk(offset, head, chunks, tail, scores, indexes_permutation=None):\n",
    "    if indexes_permutation is None:\n",
    "        indexes_permutation = range(len(chunks))\n",
    "    score = 0.0\n",
    "    last_city_id = head\n",
    "    for index in indexes_permutation:\n",
    "        chunk, chunk_scores = chunks[index], scores[index]\n",
    "        score += cities_distance(offset % 10, last_city_id, chunk[0])\n",
    "        score += chunk_scores[(offset + 1) % 10]\n",
    "        last_city_id = chunk[-1]\n",
    "        offset += len(chunk)\n",
    "    return score + cities_distance(offset % 10, last_city_id, tail)"
   ]
  },
  {
   "cell_type": "code",
   "execution_count": 29,
   "metadata": {
    "ExecuteTime": {
     "end_time": "2019-01-02T18:30:31.928350Z",
     "start_time": "2019-01-02T18:30:31.827080Z"
    }
   },
   "outputs": [],
   "source": [
    "kdt = KDTree(XY)"
   ]
  },
  {
   "cell_type": "code",
   "execution_count": 30,
   "metadata": {
    "ExecuteTime": {
     "end_time": "2019-01-02T18:32:01.400517Z",
     "start_time": "2019-01-02T18:30:38.642430Z"
    },
    "scrolled": true
   },
   "outputs": [
    {
     "data": {
      "application/vnd.jupyter.widget-view+json": {
       "model_id": "94f14e5a63e147cd8220a67e988ef994",
       "version_major": 2,
       "version_minor": 0
      },
      "text/plain": [
       "HBox(children=(IntProgress(value=0, max=197769), HTML(value='')))"
      ]
     },
     "metadata": {},
     "output_type": "display_data"
    },
    {
     "name": "stdout",
     "output_type": "stream",
     "text": [
      "\n",
      "9355215 cities triplets are selected.\n"
     ]
    },
    {
     "data": {
      "application/vnd.jupyter.widget-view+json": {
       "model_id": "2a3a496693e149f9849bf696f30b7404",
       "version_major": 2,
       "version_minor": 0
      },
      "text/plain": [
       "HBox(children=(IntProgress(value=0, max=9355215), HTML(value='')))"
      ]
     },
     "metadata": {},
     "output_type": "display_data"
    },
    {
     "name": "stdout",
     "output_type": "stream",
     "text": [
      "\n"
     ]
    }
   ],
   "source": [
    "triplets = set()\n",
    "for city_id in tqdm(cities.index):\n",
    "    dists, neibs = kdt.query([XY[city_id]], 7)\n",
    "    for triplet in combinations(neibs[0], 3):\n",
    "        if all(triplet):\n",
    "            triplets.add(tuple(sorted(triplet)))\n",
    "    neibs = kdt.query_radius([XY[city_id]], 10, count_only=False, return_distance=False)\n",
    "    for triplet in combinations(neibs[0], 3):\n",
    "        if all(triplet):\n",
    "            triplets.add(tuple(sorted(triplet)))\n",
    "\n",
    "print(f'{len(triplets)} cities triplets are selected.')\n",
    "\n",
    "# sort triplets by distance\n",
    "@numba.jit('f8(i8[:])', nopython=True, parallel=False)\n",
    "def sum_distance(ids):\n",
    "    res = 0\n",
    "    for i in numba.prange(len(ids)):\n",
    "        for j in numba.prange(i + 1, len(ids)):\n",
    "            res += cities_distance(0, ids[i], ids[j])\n",
    "    return res\n",
    "\n",
    "triplets = np.array(list(triplets))\n",
    "distances = np.array(list(map(sum_distance, tqdm(triplets))))\n",
    "order = distances.argsort()\n",
    "triplets = triplets[order]"
   ]
  },
  {
   "cell_type": "code",
   "execution_count": 31,
   "metadata": {
    "ExecuteTime": {
     "end_time": "2019-01-02T18:32:06.005533Z",
     "start_time": "2019-01-02T18:32:05.981065Z"
    }
   },
   "outputs": [],
   "source": [
    "path = np.array(pd.read_csv('submission_close1.csv').Path)"
   ]
  },
  {
   "cell_type": "code",
   "execution_count": 32,
   "metadata": {
    "ExecuteTime": {
     "end_time": "2019-01-02T20:51:31.160437Z",
     "start_time": "2019-01-02T18:32:07.780671Z"
    }
   },
   "outputs": [
    {
     "name": "stdout",
     "output_type": "stream",
     "text": [
      "Total score is 1516230.52.\n"
     ]
    },
    {
     "data": {
      "application/vnd.jupyter.widget-view+json": {
       "model_id": "e383b27c1aff4a878ac9cc38fa77de5a",
       "version_major": 2,
       "version_minor": 0
      },
      "text/plain": [
       "HBox(children=(IntProgress(value=0, max=9355215), HTML(value='')))"
      ]
     },
     "metadata": {},
     "output_type": "display_data"
    },
    {
     "name": "stdout",
     "output_type": "stream",
     "text": [
      "New total score is 1516230.09. Permutating path at indexes 160980, 160983, 160997.\n",
      "New total score is 1516229.61. Permutating path at indexes 175466, 175468, 175480.\n",
      "\n"
     ]
    },
    {
     "data": {
      "application/vnd.jupyter.widget-view+json": {
       "model_id": "d23faaf9d43e4c6fb09b9ac087654c89",
       "version_major": 2,
       "version_minor": 0
      },
      "text/plain": [
       "HBox(children=(IntProgress(value=0, max=1000000), HTML(value='')))"
      ]
     },
     "metadata": {},
     "output_type": "display_data"
    },
    {
     "name": "stdout",
     "output_type": "stream",
     "text": [
      "\n"
     ]
    },
    {
     "data": {
      "application/vnd.jupyter.widget-view+json": {
       "model_id": "cd8dd3a3ba7d451082f1cfcb3e51a1d3",
       "version_major": 2,
       "version_minor": 0
      },
      "text/plain": [
       "HBox(children=(IntProgress(value=0, max=1000000), HTML(value='')))"
      ]
     },
     "metadata": {},
     "output_type": "display_data"
    },
    {
     "name": "stdout",
     "output_type": "stream",
     "text": [
      "\n"
     ]
    }
   ],
   "source": [
    "def not_trivial_permutations(iterable):\n",
    "    perms = permutations(iterable)\n",
    "    next(perms)\n",
    "    yield from perms\n",
    "\n",
    "\n",
    "@lru_cache(maxsize=None)\n",
    "def not_trivial_indexes_permutations(length):\n",
    "    return np.array([list(p) for p in not_trivial_permutations(range(length))])\n",
    "\n",
    "path_index = np.argsort(path[:-1])\n",
    "print(f'Total score is {score_path(path):.2f}.')\n",
    "for _ in range(3):\n",
    "    for ids in tqdm(triplets):\n",
    "        i, j, k = sorted(path_index[ids])\n",
    "        head, tail = path[i-1], path[k+1]\n",
    "        chunks = [path[i:i+1], path[i+1:j], path[j:j+1], path[j+1:k], path[k:k+1]]\n",
    "        chunks = [chunk for chunk in chunks if len(chunk)]\n",
    "        scores = [chunk_scores(chunk) for chunk in chunks]\n",
    "        default_score = score_compound_chunk(i-1, head, chunks, tail, scores)\n",
    "        best_score = default_score\n",
    "        for indexes_permutation in not_trivial_indexes_permutations(len(chunks)):\n",
    "            score = score_compound_chunk(i-1, head, chunks, tail, scores, indexes_permutation)\n",
    "            if score < best_score:\n",
    "                permutation = [chunks[i] for i in indexes_permutation]\n",
    "                best_chunk = np.concatenate([[head], np.concatenate(permutation), [tail]])\n",
    "                best_score = score\n",
    "        if best_score < default_score:\n",
    "            path[i-1:k+2] = best_chunk\n",
    "            path_index = np.argsort(path[:-1])\n",
    "            print(f'New total score is {score_path(path):.2f}. Permutating path at indexes {i}, {j}, {k}.')\n",
    "    triplets = triplets[:10**6]"
   ]
  },
  {
   "cell_type": "code",
   "execution_count": 33,
   "metadata": {
    "ExecuteTime": {
     "end_time": "2019-01-02T21:35:11.763919Z",
     "start_time": "2019-01-02T21:35:11.504874Z"
    }
   },
   "outputs": [],
   "source": [
    "pd.DataFrame({'Path': path}).to_csv('submission_close1.csv', index=False)"
   ]
  },
  {
   "cell_type": "code",
   "execution_count": null,
   "metadata": {},
   "outputs": [],
   "source": []
  },
  {
   "cell_type": "code",
   "execution_count": null,
   "metadata": {},
   "outputs": [],
   "source": [
    "# https://www.kaggle.com/kostyaatarik/better-input-for-aka-2-opt\n",
    "import numpy as np\n",
    "import pandas as pd\n",
    "import numba\n",
    "from sympy import isprime, primerange\n",
    "from math import sqrt\n",
    "from sklearn.neighbors import KDTree\n",
    "from tqdm import tqdm\n",
    "from itertools import combinations"
   ]
  },
  {
   "cell_type": "code",
   "execution_count": null,
   "metadata": {},
   "outputs": [],
   "source": [
    "cities = pd.read_csv('input/cities.csv', index_col=['CityId'])\n",
    "XY = np.stack((cities.X.astype(np.float32), cities.Y.astype(np.float32)), axis=1)\n",
    "is_not_prime = np.array([0 if isprime(i) else 1 for i in cities.index], dtype=np.int32)"
   ]
  },
  {
   "cell_type": "code",
   "execution_count": null,
   "metadata": {},
   "outputs": [],
   "source": [
    "@numba.jit('f8(i8, i8, i8)', nopython=True, parallel=False)\n",
    "def cities_distance(offset, id_from, id_to):\n",
    "    xy_from, xy_to = XY[id_from], XY[id_to]\n",
    "    dx, dy = xy_from[0] - xy_to[0], xy_from[1] - xy_to[1]\n",
    "    distance = sqrt(dx * dx + dy * dy)\n",
    "    if offset % 10 == 9 and is_not_prime[id_from]:\n",
    "        return 1.1 * distance\n",
    "    return distance\n",
    "\n",
    "\n",
    "@numba.jit('f8(i4, i8[:])', nopython=True, parallel=False)\n",
    "def score_chunk(offset, chunk):\n",
    "    pure_distance, penalty = 0.0, 0.0\n",
    "    penalty_modulo = 9 - offset % 10\n",
    "    for path_index in numba.prange(chunk.shape[0] - 1):\n",
    "        id_from, id_to = chunk[path_index], chunk[path_index+1]\n",
    "        xy_from, xy_to = XY[id_from], XY[id_to]\n",
    "        dx, dy = xy_from[0] - xy_to[0], xy_from[1] - xy_to[1]\n",
    "        distance = sqrt(dx * dx + dy * dy)\n",
    "        pure_distance += distance\n",
    "        if path_index % 10 == penalty_modulo and is_not_prime[id_from]:\n",
    "            penalty += distance\n",
    "    return pure_distance + 0.1 * penalty\n",
    "\n",
    "\n",
    "@numba.jit('f8(i8[:])', nopython=True, parallel=False)\n",
    "def score_path(path):\n",
    "    return score_chunk(0, path)"
   ]
  },
  {
   "cell_type": "code",
   "execution_count": null,
   "metadata": {},
   "outputs": [],
   "source": [
    "kdt = KDTree(XY)"
   ]
  },
  {
   "cell_type": "code",
   "execution_count": null,
   "metadata": {},
   "outputs": [],
   "source": [
    "pairs = set()\n",
    "for city_id in tqdm(cities.index):\n",
    "    dists, neibs = kdt.query([XY[city_id]], 31)\n",
    "    for neib_id in neibs[0][1:]:\n",
    "        if city_id and neib_id:  # skip pairs that include starting city \n",
    "            pairs.add(tuple(sorted((city_id, neib_id))))\n",
    "    neibs = kdt.query_radius([XY[city_id]], 31, count_only=False, return_distance=False)\n",
    "    for neib_id in neibs[0]:\n",
    "        if city_id and neib_id and city_id != neib_id:\n",
    "            pairs.add(tuple(sorted((city_id, neib_id))))\n",
    "\n",
    "print(f'{len(pairs)} cities pairs are selected.')\n",
    "# sort pairs by distance\n",
    "pairs = np.array(list(pairs))\n",
    "distances = np.sum((XY[pairs.T[0]] - XY[pairs.T[1]])**2, axis=1)\n",
    "order = distances.argsort()\n",
    "pairs = pairs[order]"
   ]
  },
  {
   "cell_type": "code",
   "execution_count": null,
   "metadata": {},
   "outputs": [],
   "source": []
  },
  {
   "cell_type": "code",
   "execution_count": null,
   "metadata": {},
   "outputs": [],
   "source": []
  },
  {
   "cell_type": "code",
   "execution_count": null,
   "metadata": {},
   "outputs": [],
   "source": []
  },
  {
   "cell_type": "code",
   "execution_count": 26,
   "metadata": {
    "ExecuteTime": {
     "end_time": "2018-12-31T22:14:12.603950Z",
     "start_time": "2018-12-31T22:14:12.584132Z"
    }
   },
   "outputs": [],
   "source": [
    "path = np.array(pd.read_csv('submission_close.csv').Path)"
   ]
  },
  {
   "cell_type": "code",
   "execution_count": 28,
   "metadata": {
    "ExecuteTime": {
     "end_time": "2019-01-01T00:40:13.434955Z",
     "start_time": "2019-01-01T00:40:13.178677Z"
    }
   },
   "outputs": [],
   "source": [
    "pd.DataFrame({'Path': path}).to_csv('submission_close.csv', index=False)"
   ]
  },
  {
   "cell_type": "code",
   "execution_count": null,
   "metadata": {},
   "outputs": [],
   "source": []
  }
 ],
 "metadata": {
  "kernelspec": {
   "display_name": "py36",
   "language": "python",
   "name": "py36"
  },
  "language_info": {
   "codemirror_mode": {
    "name": "ipython",
    "version": 3
   },
   "file_extension": ".py",
   "mimetype": "text/x-python",
   "name": "python",
   "nbconvert_exporter": "python",
   "pygments_lexer": "ipython3",
   "version": "3.6.4"
  }
 },
 "nbformat": 4,
 "nbformat_minor": 2
}
