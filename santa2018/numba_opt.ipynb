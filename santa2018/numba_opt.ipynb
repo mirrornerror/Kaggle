{
 "cells": [
  {
   "cell_type": "markdown",
   "metadata": {},
   "source": [
    "https://www.kaggle.com/kostyaatarik/close-ends-chunks-optimization-aka-2-opt"
   ]
  },
  {
   "cell_type": "code",
   "execution_count": 1,
   "metadata": {
    "ExecuteTime": {
     "end_time": "2018-12-20T17:13:32.172662Z",
     "start_time": "2018-12-20T17:13:31.377942Z"
    }
   },
   "outputs": [],
   "source": [
    "import numpy as np\n",
    "import pandas as pd\n",
    "import numba\n",
    "from sympy import isprime, primerange\n",
    "from math import sqrt\n",
    "from sklearn.neighbors import KDTree\n",
    "from tqdm import tqdm\n",
    "from itertools import combinations"
   ]
  },
  {
   "cell_type": "code",
   "execution_count": 2,
   "metadata": {
    "ExecuteTime": {
     "end_time": "2018-12-20T17:14:02.180597Z",
     "start_time": "2018-12-20T17:14:01.824620Z"
    }
   },
   "outputs": [],
   "source": [
    "cities = pd.read_csv('input/cities.csv', index_col=['CityId'])\n",
    "XY = np.stack((cities.X.astype(np.float32), cities.Y.astype(np.float32)), axis=1)\n",
    "is_not_prime = np.array([0 if isprime(i) else 1 for i in cities.index], dtype=np.int32)"
   ]
  },
  {
   "cell_type": "code",
   "execution_count": 3,
   "metadata": {
    "ExecuteTime": {
     "end_time": "2018-12-20T17:14:24.648068Z",
     "start_time": "2018-12-20T17:14:24.225383Z"
    }
   },
   "outputs": [],
   "source": [
    "@numba.jit('f8(i8, i8, i8)', nopython=True, parallel=False)\n",
    "def cities_distance(offset, id_from, id_to):\n",
    "    xy_from, xy_to = XY[id_from], XY[id_to]\n",
    "    dx, dy = xy_from[0] - xy_to[0], xy_from[1] - xy_to[1]\n",
    "    distance = sqrt(dx * dx + dy * dy)\n",
    "    if offset % 10 == 9 and is_not_prime[id_from]:\n",
    "        return 1.1 * distance\n",
    "    return distance\n",
    "\n",
    "\n",
    "@numba.jit('f8(i4, i8[:])', nopython=True, parallel=False)\n",
    "def score_chunk(offset, chunk):\n",
    "    pure_distance, penalty = 0.0, 0.0\n",
    "    penalty_modulo = 9 - offset % 10\n",
    "    for path_index in numba.prange(chunk.shape[0] - 1):\n",
    "        id_from, id_to = chunk[path_index], chunk[path_index+1]\n",
    "        xy_from, xy_to = XY[id_from], XY[id_to]\n",
    "        dx, dy = xy_from[0] - xy_to[0], xy_from[1] - xy_to[1]\n",
    "        distance = sqrt(dx * dx + dy * dy)\n",
    "        pure_distance += distance\n",
    "        if path_index % 10 == penalty_modulo and is_not_prime[id_from]:\n",
    "            penalty += distance\n",
    "    return pure_distance + 0.1 * penalty\n",
    "\n",
    "\n",
    "@numba.jit('f8(i8[:])', nopython=True, parallel=False)\n",
    "def score_path(path):\n",
    "    return score_chunk(0, path)"
   ]
  },
  {
   "cell_type": "code",
   "execution_count": 4,
   "metadata": {
    "ExecuteTime": {
     "end_time": "2018-12-20T17:14:37.184173Z",
     "start_time": "2018-12-20T17:14:37.072913Z"
    }
   },
   "outputs": [],
   "source": [
    "kdt = KDTree(XY)"
   ]
  },
  {
   "cell_type": "code",
   "execution_count": 5,
   "metadata": {
    "ExecuteTime": {
     "end_time": "2018-12-20T17:18:06.395585Z",
     "start_time": "2018-12-20T17:15:11.436469Z"
    }
   },
   "outputs": [
    {
     "name": "stderr",
     "output_type": "stream",
     "text": [
      "100%|██████████| 197769/197769 [02:13<00:00, 1479.55it/s]\n"
     ]
    },
    {
     "name": "stdout",
     "output_type": "stream",
     "text": [
      "28975588 cities pairs are selected.\n"
     ]
    }
   ],
   "source": [
    "pairs = set()\n",
    "for city_id in tqdm(cities.index):\n",
    "    dists, neibs = kdt.query([XY[city_id]], 51)\n",
    "    for neib_id in neibs[0][1:]:\n",
    "        if city_id and neib_id:  # skip pairs that include starting city \n",
    "            pairs.add(tuple(sorted((city_id, neib_id))))\n",
    "    neibs = kdt.query_radius([XY[city_id]], 71, count_only=False, return_distance=False)\n",
    "    for neib_id in neibs[0]:\n",
    "        if city_id and neib_id and city_id != neib_id:\n",
    "            pairs.add(tuple(sorted((city_id, neib_id))))\n",
    "\n",
    "print(f'{len(pairs)} cities pairs are selected.')\n",
    "# sort pairs by distance\n",
    "pairs = np.array(list(pairs))\n",
    "distances = np.sum((XY[pairs.T[0]] - XY[pairs.T[1]])**2, axis=1)\n",
    "order = distances.argsort()\n",
    "pairs = pairs[order]"
   ]
  },
  {
   "cell_type": "code",
   "execution_count": 6,
   "metadata": {
    "ExecuteTime": {
     "end_time": "2018-12-20T17:18:06.414086Z",
     "start_time": "2018-12-20T17:18:06.396889Z"
    }
   },
   "outputs": [],
   "source": [
    "path = np.array(pd.read_csv('input/sample_submission.csv').Path)\n",
    "initial_score = score_path(path)"
   ]
  },
  {
   "cell_type": "code",
   "execution_count": 7,
   "metadata": {
    "ExecuteTime": {
     "end_time": "2018-12-20T17:28:57.014494Z",
     "start_time": "2018-12-20T17:18:14.968965Z"
    }
   },
   "outputs": [
    {
     "name": "stderr",
     "output_type": "stream",
     "text": [
      "  0%|          | 53/28975588 [00:00<15:12:39, 529.14it/s]"
     ]
    },
    {
     "name": "stdout",
     "output_type": "stream",
     "text": [
      "Total score is 446884407.38.\n"
     ]
    },
    {
     "name": "stderr",
     "output_type": "stream",
     "text": [
      "  1%|          | 300076/28975588 [10:41<17:01:58, 467.64it/s]"
     ]
    },
    {
     "ename": "KeyboardInterrupt",
     "evalue": "",
     "output_type": "error",
     "traceback": [
      "\u001b[0;31m---------------------------------------------------------------------------\u001b[0m",
      "\u001b[0;31mKeyboardInterrupt\u001b[0m                         Traceback (most recent call last)",
      "\u001b[0;32m<ipython-input-7-e6c48f9293cc>\u001b[0m in \u001b[0;36m<module>\u001b[0;34m()\u001b[0m\n\u001b[1;32m     21\u001b[0m                 \u001b[0;32mif\u001b[0m \u001b[0mscore\u001b[0m \u001b[0;34m<\u001b[0m \u001b[0mchunk_score\u001b[0m\u001b[0;34m:\u001b[0m\u001b[0;34m\u001b[0m\u001b[0m\n\u001b[1;32m     22\u001b[0m                     \u001b[0mpath\u001b[0m\u001b[0;34m[\u001b[0m\u001b[0mi\u001b[0m\u001b[0;34m-\u001b[0m\u001b[0;36m1\u001b[0m\u001b[0;34m:\u001b[0m\u001b[0mj\u001b[0m\u001b[0;34m+\u001b[0m\u001b[0;36m2\u001b[0m\u001b[0;34m]\u001b[0m \u001b[0;34m=\u001b[0m \u001b[0mchunk\u001b[0m\u001b[0;34m\u001b[0m\u001b[0m\n\u001b[0;32m---> 23\u001b[0;31m                     \u001b[0mpath_index\u001b[0m \u001b[0;34m=\u001b[0m \u001b[0mnp\u001b[0m\u001b[0;34m.\u001b[0m\u001b[0margsort\u001b[0m\u001b[0;34m(\u001b[0m\u001b[0mpath\u001b[0m\u001b[0;34m[\u001b[0m\u001b[0;34m:\u001b[0m\u001b[0;34m-\u001b[0m\u001b[0;36m1\u001b[0m\u001b[0;34m]\u001b[0m\u001b[0;34m)\u001b[0m  \u001b[0;31m# update path index\u001b[0m\u001b[0;34m\u001b[0m\u001b[0m\n\u001b[0m\u001b[1;32m     24\u001b[0m                     \u001b[0mchunk_score\u001b[0m \u001b[0;34m=\u001b[0m \u001b[0mscore\u001b[0m\u001b[0;34m\u001b[0m\u001b[0m\n\u001b[1;32m     25\u001b[0m         \u001b[0;32mif\u001b[0m \u001b[0mreversed_chunk_score\u001b[0m \u001b[0;34m<\u001b[0m \u001b[0mchunk_score\u001b[0m\u001b[0;34m:\u001b[0m\u001b[0;34m\u001b[0m\u001b[0m\n",
      "\u001b[0;32m~/.pyenv/versions/anaconda3-5.1.0/envs/py36/lib/python3.6/site-packages/numpy/core/fromnumeric.py\u001b[0m in \u001b[0;36margsort\u001b[0;34m(a, axis, kind, order)\u001b[0m\n\u001b[1;32m    971\u001b[0m \u001b[0;34m\u001b[0m\u001b[0m\n\u001b[1;32m    972\u001b[0m     \"\"\"\n\u001b[0;32m--> 973\u001b[0;31m     \u001b[0;32mreturn\u001b[0m \u001b[0m_wrapfunc\u001b[0m\u001b[0;34m(\u001b[0m\u001b[0ma\u001b[0m\u001b[0;34m,\u001b[0m \u001b[0;34m'argsort'\u001b[0m\u001b[0;34m,\u001b[0m \u001b[0maxis\u001b[0m\u001b[0;34m=\u001b[0m\u001b[0maxis\u001b[0m\u001b[0;34m,\u001b[0m \u001b[0mkind\u001b[0m\u001b[0;34m=\u001b[0m\u001b[0mkind\u001b[0m\u001b[0;34m,\u001b[0m \u001b[0morder\u001b[0m\u001b[0;34m=\u001b[0m\u001b[0morder\u001b[0m\u001b[0;34m)\u001b[0m\u001b[0;34m\u001b[0m\u001b[0m\n\u001b[0m\u001b[1;32m    974\u001b[0m \u001b[0;34m\u001b[0m\u001b[0m\n\u001b[1;32m    975\u001b[0m \u001b[0;34m\u001b[0m\u001b[0m\n",
      "\u001b[0;32m~/.pyenv/versions/anaconda3-5.1.0/envs/py36/lib/python3.6/site-packages/numpy/core/fromnumeric.py\u001b[0m in \u001b[0;36m_wrapfunc\u001b[0;34m(obj, method, *args, **kwds)\u001b[0m\n\u001b[1;32m     49\u001b[0m \u001b[0;32mdef\u001b[0m \u001b[0m_wrapfunc\u001b[0m\u001b[0;34m(\u001b[0m\u001b[0mobj\u001b[0m\u001b[0;34m,\u001b[0m \u001b[0mmethod\u001b[0m\u001b[0;34m,\u001b[0m \u001b[0;34m*\u001b[0m\u001b[0margs\u001b[0m\u001b[0;34m,\u001b[0m \u001b[0;34m**\u001b[0m\u001b[0mkwds\u001b[0m\u001b[0;34m)\u001b[0m\u001b[0;34m:\u001b[0m\u001b[0;34m\u001b[0m\u001b[0m\n\u001b[1;32m     50\u001b[0m     \u001b[0;32mtry\u001b[0m\u001b[0;34m:\u001b[0m\u001b[0;34m\u001b[0m\u001b[0m\n\u001b[0;32m---> 51\u001b[0;31m         \u001b[0;32mreturn\u001b[0m \u001b[0mgetattr\u001b[0m\u001b[0;34m(\u001b[0m\u001b[0mobj\u001b[0m\u001b[0;34m,\u001b[0m \u001b[0mmethod\u001b[0m\u001b[0;34m)\u001b[0m\u001b[0;34m(\u001b[0m\u001b[0;34m*\u001b[0m\u001b[0margs\u001b[0m\u001b[0;34m,\u001b[0m \u001b[0;34m**\u001b[0m\u001b[0mkwds\u001b[0m\u001b[0;34m)\u001b[0m\u001b[0;34m\u001b[0m\u001b[0m\n\u001b[0m\u001b[1;32m     52\u001b[0m \u001b[0;34m\u001b[0m\u001b[0m\n\u001b[1;32m     53\u001b[0m     \u001b[0;31m# An AttributeError occurs if the object does not have\u001b[0m\u001b[0;34m\u001b[0m\u001b[0;34m\u001b[0m\u001b[0m\n",
      "\u001b[0;31mKeyboardInterrupt\u001b[0m: "
     ]
    }
   ],
   "source": [
    "path_index = np.argsort(path[:-1])\n",
    "\n",
    "total_score = initial_score\n",
    "print(f'Total score is {total_score:.2f}.')\n",
    "for _ in range(3):\n",
    "    for step, (id1, id2) in enumerate(tqdm(pairs), 1):\n",
    "        if step % 10**6 == 0:\n",
    "            new_total_score = score_path(path)\n",
    "            print(f'Score: {new_total_score:.2f}; improvement over last 10^6 steps: {total_score - new_total_score:.2f}; total improvement: {initial_score - new_total_score:.2f}.')\n",
    "            total_score = new_total_score\n",
    "        i, j = path_index[id1], path_index[id2]\n",
    "        i, j = min(i, j), max(i, j)\n",
    "        chunk, reversed_chunk = path[i-1:j+2], np.concatenate([path[i-1:i], path[j:i-1:-1], path[j+1:j+2]])\n",
    "        chunk_score, reversed_chunk_score = score_chunk(i-1, chunk), score_chunk(i-1, reversed_chunk)\n",
    "        if j - i > 2:\n",
    "            chunk_abc = np.concatenate([path[i-1:i+1], path[j:i:-1], path[j+1:j+2]])\n",
    "            chunk_acb = np.concatenate([path[i-1:i], path[j:j+1], path[i:j], path[j+1:j+2]])\n",
    "            chunk_abcb = np.concatenate([path[i-1:i+1], path[j:j+1], path[i+1:j], path[j+1:j+2]])\n",
    "            abc_score, acb_score, abcb_score = map(lambda chunk: score_chunk(i-1, chunk), [chunk_abc, chunk_acb, chunk_abcb])\n",
    "            for chunk, score, name in zip((chunk_abc, chunk_acb, chunk_abcb), (abc_score, acb_score, abcb_score), ('abc', 'acb', 'abcb')):\n",
    "                if score < chunk_score:\n",
    "                    path[i-1:j+2] = chunk\n",
    "                    path_index = np.argsort(path[:-1])  # update path index\n",
    "                    chunk_score = score\n",
    "        if reversed_chunk_score < chunk_score:\n",
    "            path[i-1:j+2] = reversed_chunk\n",
    "            path_index = np.argsort(path[:-1])  # update path index"
   ]
  },
  {
   "cell_type": "code",
   "execution_count": null,
   "metadata": {},
   "outputs": [],
   "source": [
    "print(f'Total improvement is {initial_score - total_score:.2f}.')"
   ]
  },
  {
   "cell_type": "code",
   "execution_count": null,
   "metadata": {},
   "outputs": [],
   "source": [
    "def make_submission(name, path):\n",
    "    pd.DataFrame({'Path': path}).to_csv(f'{name}.csv', index=False)\n",
    "\n",
    "make_submission(score_path(path), path)"
   ]
  },
  {
   "cell_type": "code",
   "execution_count": null,
   "metadata": {},
   "outputs": [],
   "source": []
  }
 ],
 "metadata": {
  "kernelspec": {
   "display_name": "py36",
   "language": "python",
   "name": "py36"
  },
  "language_info": {
   "codemirror_mode": {
    "name": "ipython",
    "version": 3
   },
   "file_extension": ".py",
   "mimetype": "text/x-python",
   "name": "python",
   "nbconvert_exporter": "python",
   "pygments_lexer": "ipython3",
   "version": "3.6.4"
  }
 },
 "nbformat": 4,
 "nbformat_minor": 2
}
