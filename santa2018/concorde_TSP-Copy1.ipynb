{
 "cells": [
  {
   "cell_type": "markdown",
   "metadata": {},
   "source": [
    "## Concorde TSP  \n",
    "from:   \n",
    "https://www.kaggle.com/blacksix/concorde-for-5-hours  \n",
    "https://www.kaggle.com/blacksix/concorde-for-5-min"
   ]
  },
  {
   "cell_type": "code",
   "execution_count": null,
   "metadata": {
    "ExecuteTime": {
     "end_time": "2018-12-09T16:34:21.642763Z",
     "start_time": "2018-12-09T16:34:14.499803Z"
    }
   },
   "outputs": [],
   "source": [
    "%%bash -e\n",
    "if ! [[ -f ./linkern ]]; then\n",
    "  wget http://www.math.uwaterloo.ca/tsp/concorde/downloads/codes/src/co031219.tgz\n",
    "  echo 'c3650a59c8d57e0a00e81c1288b994a99c5aa03e5d96a314834c2d8f9505c724  co031219.tgz' | sha256sum -c\n",
    "  tar xf co031219.tgz\n",
    "  (cd concorde && CFLAGS='-Ofast -march=native -mtune=native -fPIC' ./configure)\n",
    "  (cd concorde/LINKERN && make -j && cp linkern ../../)\n",
    "  rm -rf concorde co031219.tgz\n",
    "fi"
   ]
  },
  {
   "cell_type": "code",
   "execution_count": 139,
   "metadata": {
    "ExecuteTime": {
     "end_time": "2018-12-18T14:52:57.186983Z",
     "start_time": "2018-12-18T14:52:57.178069Z"
    }
   },
   "outputs": [],
   "source": [
    "%matplotlib inline\n",
    "import numpy as np\n",
    "import pandas as pd\n",
    "import matplotlib as mpl\n",
    "import matplotlib.pyplot as plt\n",
    "import sympy\n",
    "from numba import jit"
   ]
  },
  {
   "cell_type": "code",
   "execution_count": 2,
   "metadata": {
    "ExecuteTime": {
     "end_time": "2018-12-15T10:24:20.582243Z",
     "start_time": "2018-12-15T10:24:20.486644Z"
    }
   },
   "outputs": [],
   "source": [
    "def read_cities(filename='input/cities.csv'):\n",
    "    return pd.read_csv(filename, index_col=['CityId'])\n",
    "\n",
    "cities = read_cities()"
   ]
  },
  {
   "cell_type": "code",
   "execution_count": null,
   "metadata": {
    "ExecuteTime": {
     "end_time": "2018-12-09T16:37:48.662892Z",
     "start_time": "2018-12-09T16:37:48.586157Z"
    }
   },
   "outputs": [],
   "source": [
    "cities1k = cities * 1000"
   ]
  },
  {
   "cell_type": "code",
   "execution_count": null,
   "metadata": {
    "ExecuteTime": {
     "end_time": "2018-12-09T16:43:28.988135Z",
     "start_time": "2018-12-09T16:38:27.269148Z"
    }
   },
   "outputs": [],
   "source": [
    "%%bash\n",
    "time ./linkern -K 1 -s 42 -S linkern.tour -R 999999999 -t 300 ./cities1k.tsp >linkern.log"
   ]
  },
  {
   "cell_type": "code",
   "execution_count": null,
   "metadata": {
    "ExecuteTime": {
     "end_time": "2018-12-09T16:43:57.845192Z",
     "start_time": "2018-12-09T16:43:57.483414Z"
    }
   },
   "outputs": [],
   "source": [
    "!sed -Ene 's/([0-9]+) Steps.*Best: ([0-9]+).*/\\1,\\2/p' linkern.log >linkern.csv\n",
    "pd.read_csv('linkern.csv', index_col=0, names=['TSP tour length']).plot();"
   ]
  },
  {
   "cell_type": "code",
   "execution_count": null,
   "metadata": {
    "ExecuteTime": {
     "end_time": "2018-12-09T16:44:34.524449Z",
     "start_time": "2018-12-09T16:44:34.131985Z"
    }
   },
   "outputs": [],
   "source": [
    "class Tour:\n",
    "    cities = read_cities()\n",
    "    coords = (cities.X + 1j * cities.Y).values\n",
    "    penalized = ~cities.index.isin(sympy.primerange(0, len(cities)))\n",
    "\n",
    "    def __init__(self, data):\n",
    "        \"\"\"Initializes from a list/iterable of indexes or a filename of tour in csv/tsplib/linkern format.\"\"\"\n",
    "\n",
    "        if type(data) is str:\n",
    "            data = self._read(data)\n",
    "        elif type(data) is not np.ndarray or data.dtype != np.int32:\n",
    "            data = np.array(data, dtype=np.int32)\n",
    "        self.data = data\n",
    "\n",
    "        if (self.data[0] != 0 or self.data[-1] != 0 or len(self.data) != len(self.cities) + 1):\n",
    "            raise Exception('Invalid tour')\n",
    "\n",
    "    @classmethod\n",
    "    def _read(cls, filename):\n",
    "        data = open(filename, 'r').read()\n",
    "        if data.startswith('Path'):  # csv\n",
    "            return pd.read_csv(io.StringIO(data)).Path.values\n",
    "        offs = data.find('TOUR_SECTION\\n')\n",
    "        if offs != -1:  # TSPLIB/LKH\n",
    "            data = np.fromstring(data[offs+13:], sep='\\n', dtype=np.int32)\n",
    "            data[-1] = 1\n",
    "            return data - 1\n",
    "        else:  # linkern\n",
    "            data = data.replace('\\n', ' ')\n",
    "            data = np.fromstring(data, sep=' ', dtype=np.int32)\n",
    "            if len(data) != data[0] + 1:\n",
    "                raise Exception('Unrecognized format in %s' % filename)\n",
    "            return np.concatenate((data[1:], [0]))\n",
    "\n",
    "    def info(self):\n",
    "        dist = np.abs(np.diff(self.coords[self.data]))\n",
    "        penalty = 0.1 * np.sum(dist[9::10] * self.penalized[self.data[9:-1:10]])\n",
    "        dist = np.sum(dist)\n",
    "        return { 'score': dist + penalty, 'dist': dist, 'penalty': penalty }\n",
    "\n",
    "    def dist(self):\n",
    "        return self.info()['dist']\n",
    "\n",
    "    def score(self):\n",
    "        return self.info()['score']\n",
    "\n",
    "    def __repr__(self):\n",
    "        return 'Tour: %s' % str(self.info())\n",
    "\n",
    "    def to_csv(self, filename):\n",
    "        pd.DataFrame({'Path': self.data}).to_csv(filename, index=False)"
   ]
  },
  {
   "cell_type": "code",
   "execution_count": null,
   "metadata": {
    "ExecuteTime": {
     "end_time": "2018-12-09T16:44:48.830203Z",
     "start_time": "2018-12-09T16:44:48.809887Z"
    }
   },
   "outputs": [],
   "source": [
    "tour = Tour('linkern.tour')\n",
    "tour # Tour: {'score': 1518043.4728760184, 'dist': 1504346.798813631, 'penalty': 13696.674062387363}"
   ]
  },
  {
   "cell_type": "code",
   "execution_count": null,
   "metadata": {
    "ExecuteTime": {
     "end_time": "2018-12-09T16:45:24.065672Z",
     "start_time": "2018-12-09T16:45:23.797025Z"
    }
   },
   "outputs": [],
   "source": [
    "tour.to_csv('submission.csv')"
   ]
  },
  {
   "cell_type": "code",
   "execution_count": null,
   "metadata": {
    "ExecuteTime": {
     "end_time": "2018-12-09T16:45:41.605869Z",
     "start_time": "2018-12-09T16:45:39.021963Z"
    }
   },
   "outputs": [],
   "source": [
    "def plot_tour(tour, cmap=mpl.cm.gist_rainbow, figsize=(25, 20)):\n",
    "    fig, ax = plt.subplots(figsize=figsize)\n",
    "    n = len(tour.data)\n",
    "\n",
    "    for i in range(201):\n",
    "        ind = tour.data[n//200*i:min(n, n//200*(i+1)+1)]\n",
    "        ax.plot(tour.cities.X[ind], tour.cities.Y[ind], color=cmap(i/200.0), linewidth=1)\n",
    "\n",
    "    ax.plot(tour.cities.X[0], tour.cities.Y[0], marker='*', markersize=15, markerfacecolor='k')\n",
    "    ax.autoscale(tight=True)\n",
    "    mpl.colorbar.ColorbarBase(ax=fig.add_axes([0.125, 0.075, 0.775, 0.01]),\n",
    "                              norm=mpl.colors.Normalize(vmin=0, vmax=n),\n",
    "                              cmap=cmap, orientation='horizontal')\n",
    "\n",
    "plot_tour(tour)"
   ]
  },
  {
   "cell_type": "code",
   "execution_count": 140,
   "metadata": {
    "ExecuteTime": {
     "end_time": "2018-12-18T14:53:10.852026Z",
     "start_time": "2018-12-18T14:53:10.307595Z"
    }
   },
   "outputs": [
    {
     "data": {
      "text/plain": [
       "197770"
      ]
     },
     "execution_count": 140,
     "metadata": {},
     "output_type": "execute_result"
    }
   ],
   "source": [
    "from sympy import isprime, primerange\n",
    "df = pd.read_csv('submission.csv')\n",
    "cities = pd.read_csv('input/cities.csv')\n",
    "\n",
    "# transfar Dataframe to numpy for Numba\n",
    "primes = np.array(list(primerange(0, len(cities))))\n",
    "penalized = ~cities.index.isin(sympy.primerange(0, len(cities)))\n",
    "complexes = np.array(cities.X + 1j * cities.Y)\n",
    "df_path = np.array(df.Path)\n",
    "len(df_path)"
   ]
  },
  {
   "cell_type": "code",
   "execution_count": 141,
   "metadata": {
    "ExecuteTime": {
     "end_time": "2018-12-18T14:53:15.352758Z",
     "start_time": "2018-12-18T14:53:15.339470Z"
    }
   },
   "outputs": [
    {
     "data": {
      "text/plain": [
       "[1.87192466558405, 5099.50214180651]"
      ]
     },
     "execution_count": 141,
     "metadata": {},
     "output_type": "execute_result"
    }
   ],
   "source": [
    "[cities.X.min(), cities.X.max()]"
   ]
  },
  {
   "cell_type": "code",
   "execution_count": 142,
   "metadata": {
    "ExecuteTime": {
     "end_time": "2018-12-18T14:53:18.136109Z",
     "start_time": "2018-12-18T14:53:18.131013Z"
    }
   },
   "outputs": [
    {
     "data": {
      "text/plain": [
       "[0.0, 3397.80982412656]"
      ]
     },
     "execution_count": 142,
     "metadata": {},
     "output_type": "execute_result"
    }
   ],
   "source": [
    "[cities.Y.min(), cities.Y.max()]"
   ]
  },
  {
   "cell_type": "code",
   "execution_count": 143,
   "metadata": {
    "ExecuteTime": {
     "end_time": "2018-12-18T14:53:20.928425Z",
     "start_time": "2018-12-18T14:53:20.912644Z"
    }
   },
   "outputs": [
    {
     "data": {
      "text/plain": [
       "[197742, 197750]"
      ]
     },
     "execution_count": 143,
     "metadata": {},
     "output_type": "execute_result"
    }
   ],
   "source": [
    "[len(cities.X.unique()), len(cities.Y.unique())]"
   ]
  },
  {
   "cell_type": "code",
   "execution_count": 144,
   "metadata": {
    "ExecuteTime": {
     "end_time": "2018-12-18T14:53:22.799070Z",
     "start_time": "2018-12-18T14:53:22.796223Z"
    }
   },
   "outputs": [],
   "source": [
    "@jit\n",
    "def dist(a, b):\n",
    "    d = abs(complexes[a] - complexes[b])\n",
    "    return d"
   ]
  },
  {
   "cell_type": "code",
   "execution_count": 145,
   "metadata": {
    "ExecuteTime": {
     "end_time": "2018-12-18T14:53:23.745912Z",
     "start_time": "2018-12-18T14:53:23.736515Z"
    }
   },
   "outputs": [],
   "source": [
    "@jit\n",
    "def total_score(path):\n",
    "    score = 0\n",
    "    score_no_penalty = 0\n",
    "    no_penalty = 0\n",
    "    for i in range(1, len(path)):\n",
    "        d = dist(path[i-1], path[i])\n",
    "        score_no_penalty += d\n",
    "        if i % 10 == 0:\n",
    "            if not isprime(path[i-1]):\n",
    "                d = d * 1.1\n",
    "            else:\n",
    "                no_penalty += 1\n",
    "        score += d\n",
    "    return score, score_no_penalty, no_penalty"
   ]
  },
  {
   "cell_type": "code",
   "execution_count": 184,
   "metadata": {
    "ExecuteTime": {
     "end_time": "2018-12-19T07:45:21.296475Z",
     "start_time": "2018-12-19T07:45:21.136307Z"
    }
   },
   "outputs": [
    {
     "data": {
      "text/plain": [
       "(1518043.4728760002, 1504346.7988136157, 1815)"
      ]
     },
     "execution_count": 184,
     "metadata": {},
     "output_type": "execute_result"
    }
   ],
   "source": [
    "total_score(df_path)"
   ]
  },
  {
   "cell_type": "code",
   "execution_count": 149,
   "metadata": {
    "ExecuteTime": {
     "end_time": "2018-12-18T14:53:32.350508Z",
     "start_time": "2018-12-18T14:53:32.345993Z"
    }
   },
   "outputs": [],
   "source": [
    "@jit\n",
    "def score_np(a, b):\n",
    "    c = []\n",
    "    for i in df_path[a: b+1]:\n",
    "        c.append(complexes[i])\n",
    "    score = np.sum(np.abs(np.diff(c)))\n",
    "    return score"
   ]
  },
  {
   "cell_type": "code",
   "execution_count": 150,
   "metadata": {
    "ExecuteTime": {
     "end_time": "2018-12-18T14:53:33.711464Z",
     "start_time": "2018-12-18T14:53:33.575684Z"
    }
   },
   "outputs": [
    {
     "data": {
      "text/plain": [
       "6.762894404297583"
      ]
     },
     "execution_count": 150,
     "metadata": {},
     "output_type": "execute_result"
    }
   ],
   "source": [
    "score_np(8, 9)"
   ]
  },
  {
   "cell_type": "code",
   "execution_count": 151,
   "metadata": {
    "ExecuteTime": {
     "end_time": "2018-12-18T14:53:36.988812Z",
     "start_time": "2018-12-18T14:53:36.934581Z"
    }
   },
   "outputs": [],
   "source": [
    "@jit('i8(i8)')\n",
    "def closest(base_index):\n",
    "    min_dist = np.inf\n",
    "    closest_index = -1\n",
    "    for i in df_path:\n",
    "        d = dist(base_index, i)\n",
    "        if d < min_dist and i != base_index:\n",
    "            min_dist = d\n",
    "            closest_index = i\n",
    "    return closest_index"
   ]
  },
  {
   "cell_type": "code",
   "execution_count": 152,
   "metadata": {
    "ExecuteTime": {
     "end_time": "2018-12-18T14:53:39.045545Z",
     "start_time": "2018-12-18T14:53:39.035224Z"
    }
   },
   "outputs": [
    {
     "data": {
      "text/plain": [
       "52086"
      ]
     },
     "execution_count": 152,
     "metadata": {},
     "output_type": "execute_result"
    }
   ],
   "source": [
    "closest(111804)"
   ]
  },
  {
   "cell_type": "code",
   "execution_count": 153,
   "metadata": {
    "ExecuteTime": {
     "end_time": "2018-12-18T14:53:42.433514Z",
     "start_time": "2018-12-18T14:53:42.374333Z"
    }
   },
   "outputs": [],
   "source": [
    "@jit('i8(i8)')\n",
    "def closest_prime(base_index):\n",
    "    min_dist = np.inf\n",
    "    closest_index = -1\n",
    "    for i in primes:\n",
    "        d = dist(base_index, i)\n",
    "        if d < min_dist and i != base_index:\n",
    "            min_dist = d\n",
    "            closest_index = i\n",
    "    return closest_index"
   ]
  },
  {
   "cell_type": "code",
   "execution_count": 154,
   "metadata": {
    "ExecuteTime": {
     "end_time": "2018-12-18T14:53:51.166811Z",
     "start_time": "2018-12-18T14:53:51.162155Z"
    }
   },
   "outputs": [
    {
     "data": {
      "text/plain": [
       "38447"
      ]
     },
     "execution_count": 154,
     "metadata": {},
     "output_type": "execute_result"
    }
   ],
   "source": [
    "closest_prime(df_path[8])"
   ]
  },
  {
   "cell_type": "code",
   "execution_count": 57,
   "metadata": {
    "ExecuteTime": {
     "end_time": "2018-12-16T18:10:11.388066Z",
     "start_time": "2018-12-16T18:10:11.376557Z"
    }
   },
   "outputs": [
    {
     "data": {
      "text/plain": [
       "20433"
      ]
     },
     "execution_count": 57,
     "metadata": {},
     "output_type": "execute_result"
    }
   ],
   "source": [
    "closest(8)"
   ]
  },
  {
   "cell_type": "code",
   "execution_count": 209,
   "metadata": {
    "ExecuteTime": {
     "end_time": "2018-12-19T08:26:34.590546Z",
     "start_time": "2018-12-19T08:26:34.575769Z"
    }
   },
   "outputs": [
    {
     "data": {
      "text/plain": [
       "array([ 1,  2,  3,  4,  5,  6,  7,  8,  9,  0, 10, 11])"
      ]
     },
     "execution_count": 209,
     "metadata": {},
     "output_type": "execute_result"
    }
   ],
   "source": [
    "# if prime before i \n",
    "a = np.array([0,1,2,3,4,5,6,7,8,9,10,11])\n",
    "prime_index = 10\n",
    "target_index = 0\n",
    "target_value = a[target_index]\n",
    "a = np.insert(a, prime_index, target_value)\n",
    "a = np.delete(a, target_index)\n",
    "a"
   ]
  },
  {
   "cell_type": "code",
   "execution_count": 224,
   "metadata": {
    "ExecuteTime": {
     "end_time": "2018-12-19T10:17:32.774741Z",
     "start_time": "2018-12-19T10:17:32.763607Z"
    }
   },
   "outputs": [
    {
     "data": {
      "text/plain": [
       "array([ 0,  1,  2,  3,  4,  5,  6,  7,  8, 13,  9, 10, 11, 12])"
      ]
     },
     "execution_count": 224,
     "metadata": {},
     "output_type": "execute_result"
    }
   ],
   "source": [
    "# if prime after i\n",
    "a = np.array([0,1,2,3,4,5,6,7,8,9,10,11,12,13])\n",
    "prime_index = 9\n",
    "target_index = 13\n",
    "target_value = a[target_index]\n",
    "b = np.insert(a, prime_index, target_value)\n",
    "b = np.delete(b, target_index + 1)\n",
    "b"
   ]
  },
  {
   "cell_type": "code",
   "execution_count": 226,
   "metadata": {
    "ExecuteTime": {
     "end_time": "2018-12-19T10:17:55.504019Z",
     "start_time": "2018-12-19T10:17:55.500113Z"
    }
   },
   "outputs": [
    {
     "data": {
      "text/plain": [
       "array([ 0,  1,  2,  3,  4,  5,  6,  7,  8, 13,  9, 10, 11, 12])"
      ]
     },
     "execution_count": 226,
     "metadata": {},
     "output_type": "execute_result"
    }
   ],
   "source": [
    "def score_between(path, a, b):\n",
    "    path_complexes = \n",
    "    for i in "
   ]
  },
  {
   "cell_type": "code",
   "execution_count": null,
   "metadata": {
    "ExecuteTime": {
     "end_time": "2018-12-19T08:33:48.900937Z",
     "start_time": "2018-12-19T08:33:48.896952Z"
    }
   },
   "outputs": [],
   "source": [
    "def opt1(df_path):\n",
    "    s = 0\n",
    "    df_copy = df_path.copy()\n",
    "    for i in range(0, len(df_path), 10):\n",
    "        if i > 0:\n",
    "            p = isprime(df_path[i-1])\n",
    "            if p == False:\n",
    "                cp = closest_prime(df_path[i-2])\n",
    "                cp_df_index = np.where(df_path==cp)[0][0]\n",
    "                if cp_df_index < i-1:\n",
    "                    score_before = score(df_path, cp_df_index-1, i)\n",
    "                    df_copy = np.insert(df_copy, i, cp)\n",
    "                    df_copy = np.delete(df_copy, cp_df_index)\n",
    "                    \n",
    "                    "
   ]
  },
  {
   "cell_type": "code",
   "execution_count": 171,
   "metadata": {
    "ExecuteTime": {
     "end_time": "2018-12-18T16:35:16.545008Z",
     "start_time": "2018-12-18T16:35:16.491940Z"
    }
   },
   "outputs": [],
   "source": [
    "@jit\n",
    "def opt(df_path):\n",
    "    sum8 = 0\n",
    "    sum9 = 0\n",
    "    sum10 = 0\n",
    "    for i in range(0, len(df_path), 10):\n",
    "        if i > 0:\n",
    "            p8 = isprime(df_path[i-2])\n",
    "            p9 = isprime(df_path[i-1])\n",
    "            p10 = isprime(df_path[i])\n",
    "            if p8 == True and p9 == False and p10 == False:\n",
    "                d78 = dist(df_path[i-3], df_path[i-2]) # 7-8\n",
    "                d89 = dist(df_path[i-2], df_path[i-1]) # 8-9\n",
    "                d910 = dist(df_path[i-1], df_path[i])  # 9-10 with penalty\n",
    "                d = d78 + d89 + d910*1.1\n",
    "                e79 = dist(df_path[i-3], df_path[i-1]) # 7-9\n",
    "                e98 = dist(df_path[i-1], df_path[i-2]) # 9-8\n",
    "                e810 = dist(df_path[i-2], df_path[i])  # 8-10 no penalty\n",
    "                e = e79 + e98 + e810\n",
    "                if e < d: # 5 3.5466290514118803\n",
    "                    df_path[i-2], df_path[i-1] = df_path[i-1], df_path[i-2]\n",
    "                    sum8 += (d - e)\n",
    "            if p8 == False and p9 == False and p10 == True:\n",
    "                f89 = dist(df_path[i-2], df_path[i-1])\n",
    "                f910 = dist(df_path[i-1], df_path[i])\n",
    "                f1011 = dist(df_path[i], df_path[i+1])\n",
    "                f = f89 + f910 + f1011*1.1\n",
    "                g810 = dist(df_path[i-2], df_path[i])\n",
    "                g109 = dist(df_path[i], df_path[i-1])\n",
    "                g911 = dist(df_path[i-1], df_path[i+1])\n",
    "                g = g810 + g109 + g911\n",
    "                if g < f: # 4 2.008119222389432\n",
    "                    df_path[i-1], df_path[i] = df_path[i], df_path[i-1]\n",
    "                    sum10 += (f - g)\n",
    "            if p8 + p9 + p10 == 0:\n",
    "                cp = closest_prime(df_path[i-2])\n",
    "                cp_index = np.where(df_path==cp)[0][0]\n",
    "                if cp_index > i:\n",
    "                    a89 = dist(df_path[i-2], df_path[i-1])\n",
    "                    a910 = dist(df_path[i-1], df_path[i])\n",
    "                    a = a89 + a910*1.1\n",
    "                    \n",
    "                    b8cp = dist(df_path[i-2], cp)\n",
    "                    bcp9 = dist(cp, df_path[i-1])\n",
    "                    b = b8cp + bcp9\n",
    "                    if b < a:\n",
    "                        df_path[i-1] = \n",
    "                        sum10 += (a - b)\n",
    "                \n",
    "    #print(cnt8, sum8)\n",
    "    print(sum8, sum9, sum10)\n",
    "    \n",
    "# p8: 1796, p9: 1815, p10: 1758, none: 14867"
   ]
  },
  {
   "cell_type": "code",
   "execution_count": 172,
   "metadata": {
    "ExecuteTime": {
     "end_time": "2018-12-18T16:35:28.345828Z",
     "start_time": "2018-12-18T16:35:20.992293Z"
    }
   },
   "outputs": [
    {
     "name": "stdout",
     "output_type": "stream",
     "text": [
      "83 126.00341568676401\n"
     ]
    }
   ],
   "source": [
    "opt(df_path)"
   ]
  },
  {
   "cell_type": "code",
   "execution_count": null,
   "metadata": {
    "ExecuteTime": {
     "end_time": "2018-12-15T09:43:38.062491Z",
     "start_time": "2018-12-15T09:43:37.936087Z"
    }
   },
   "outputs": [],
   "source": [
    "np = 0\n",
    "pe = 0\n",
    "\n",
    "for i in range(0, len(df_path), 10):\n",
    "    if i > 0:\n",
    "        p8 = isprime(df_path[i-2])\n",
    "        p9 = isprime(df_path[i-1])\n",
    "        p10 = isprime(df_path[i])\n",
    "        if p8+p9+p10 == 0:\n",
    "            np += 1\n",
    "        else:\n",
    "            pe += 1\n",
    "#         if p9 == False:\n",
    "#             if p8 == False and p10 == False:\n",
    "#                 pm.append(i)\n",
    "#             elif p8 == False and p10 == True:\n",
    "#                 pm8.append(i)\n",
    "#             elif p8 == True and p10 == False:\n",
    "#                 pm10.append(i)\n",
    "#             d_8_9 = dist3(df.Path[i-2], df.Path[i-1])\n",
    "#             d_9_10 = dist3(df.Path[i-1], df.Path[i]) * 1.1\n",
    "#             d = d_8_9 + d_9_10\n",
    "            \n",
    "#             cp = closest_prime(df.Path[i])\n",
    "#             dp_8_9 = dist3(df.Path[i-2], cp)\n",
    "#             dp_9_10 = dist3(cp, df.Path[i-1])\n",
    "#             dp = dp_8_9 + dp_9_10\n",
    "            \n",
    "#             if dp < d:\n",
    "#                 pm.append(i)\n",
    "[np, pe]"
   ]
  },
  {
   "cell_type": "code",
   "execution_count": null,
   "metadata": {
    "ExecuteTime": {
     "end_time": "2018-12-15T09:46:44.790776Z",
     "start_time": "2018-12-15T09:46:44.785662Z"
    }
   },
   "outputs": [],
   "source": [
    "len(primes)"
   ]
  },
  {
   "cell_type": "code",
   "execution_count": null,
   "metadata": {
    "ExecuteTime": {
     "end_time": "2018-12-13T15:36:03.811603Z",
     "start_time": "2018-12-13T15:36:03.804945Z"
    }
   },
   "outputs": [],
   "source": [
    "i = 130\n",
    "d_8_9 = dist3(df.Path[i-2], df.Path[i-1])\n",
    "d_9_10 = dist3(df.Path[i-1], df.Path[i]) * 1.1\n",
    "d = d_8_9 + d_9_10\n",
    "d"
   ]
  },
  {
   "cell_type": "code",
   "execution_count": null,
   "metadata": {
    "ExecuteTime": {
     "end_time": "2018-12-13T15:37:58.207257Z",
     "start_time": "2018-12-13T15:37:57.948298Z"
    }
   },
   "outputs": [],
   "source": [
    "i = 130\n",
    "cp = closest_prime(df.Path[i])\n",
    "dp_8_9 = dist3(df.Path[i-2], cp)\n",
    "dp_9_10 = dist3(cp, df.Path[i])\n",
    "dp = dp_8_9 + dp_9_10"
   ]
  },
  {
   "cell_type": "code",
   "execution_count": null,
   "metadata": {
    "ExecuteTime": {
     "end_time": "2018-12-13T15:37:59.703669Z",
     "start_time": "2018-12-13T15:37:59.700336Z"
    }
   },
   "outputs": [],
   "source": [
    "dp"
   ]
  },
  {
   "cell_type": "code",
   "execution_count": null,
   "metadata": {},
   "outputs": [],
   "source": []
  }
 ],
 "metadata": {
  "kernelspec": {
   "display_name": "py36",
   "language": "python",
   "name": "py36"
  },
  "language_info": {
   "codemirror_mode": {
    "name": "ipython",
    "version": 3
   },
   "file_extension": ".py",
   "mimetype": "text/x-python",
   "name": "python",
   "nbconvert_exporter": "python",
   "pygments_lexer": "ipython3",
   "version": "3.6.4"
  }
 },
 "nbformat": 4,
 "nbformat_minor": 2
}
