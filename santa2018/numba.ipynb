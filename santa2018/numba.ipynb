{
 "cells": [
  {
   "cell_type": "markdown",
   "metadata": {},
   "source": [
    "## Kaggle Santa 2018\n",
    "from: https://www.kaggle.com/nagadomi/cpu-shuffle-numba"
   ]
  },
  {
   "cell_type": "code",
   "execution_count": 20,
   "metadata": {
    "ExecuteTime": {
     "end_time": "2018-12-16T16:25:23.978140Z",
     "start_time": "2018-12-16T16:25:23.966318Z"
    }
   },
   "outputs": [],
   "source": [
    "import numpy as np\n",
    "import pandas as pd\n",
    "import time\n",
    "import math\n",
    "import numba\n",
    "import sympy\n",
    "from sympy.utilities.iterables import multiset_permutations"
   ]
  },
  {
   "cell_type": "code",
   "execution_count": 21,
   "metadata": {
    "ExecuteTime": {
     "end_time": "2018-12-16T16:25:24.929923Z",
     "start_time": "2018-12-16T16:25:24.912423Z"
    }
   },
   "outputs": [],
   "source": [
    "# load\n",
    "def load_cities(filename):\n",
    "    cities = pd.read_csv(filename)\n",
    "    city_id = cities.CityId.astype(np.int32)\n",
    "    loc = np.vstack([cities.X.astype(np.float32), cities.Y.astype(np.float32)]).transpose()\n",
    "    is_prime = np.array([1 if sympy.isprime(i) else 0 for i in city_id], dtype=np.int32)\n",
    "    return (city_id, loc, is_prime)\n",
    "\n",
    "def load_tour(filename):\n",
    "    tour = pd.read_csv(filename)\n",
    "    tour = tour.Path.values.astype(np.int32)\n",
    "    return tour\n",
    "\n",
    "# save\n",
    "def save_tour(filename, tour):\n",
    "    with open(filename, \"w\") as f:\n",
    "        f.write(\"Path\\n\")\n",
    "        for i in tour:\n",
    "            f.write(str(i))\n",
    "            f.write(\"\\n\")\n"
   ]
  },
  {
   "cell_type": "code",
   "execution_count": 22,
   "metadata": {
    "ExecuteTime": {
     "end_time": "2018-12-16T16:25:27.091093Z",
     "start_time": "2018-12-16T16:25:26.737792Z"
    }
   },
   "outputs": [],
   "source": [
    "# cost function for santa 2018\n",
    "\n",
    "@numba.jit('f4(f4[:], f4[:])', nopython=True)\n",
    "def euc_2d(a, b):\n",
    "    xd = a[0] - b[0]\n",
    "    yd = a[1] - b[1]\n",
    "    return math.sqrt(xd * xd + yd * yd)\n",
    "\n",
    "@numba.jit('f8(i4[:], f4[:,:], i4[:])', nopython=True, parallel=True)\n",
    "def cost_santa2018(tour, loc, is_prime):\n",
    "    dist = 0.0\n",
    "    for i in numba.prange(1, tour.shape[0]):\n",
    "        a = tour[i - 1]\n",
    "        b = tour[i]\n",
    "        d = euc_2d(loc[a], loc[b])\n",
    "        if i % 10 == 0 and is_prime[a] == 0:\n",
    "            d *= 1.1\n",
    "        dist += d\n",
    "    return dist\n"
   ]
  },
  {
   "cell_type": "code",
   "execution_count": 23,
   "metadata": {
    "ExecuteTime": {
     "end_time": "2018-12-16T16:25:29.863077Z",
     "start_time": "2018-12-16T16:25:29.769423Z"
    }
   },
   "outputs": [],
   "source": [
    "# finetune\n",
    "\n",
    "def gen_subprobs(n, k):\n",
    "    return np.array([[i, i + k] for i in range(n - k)], dtype=np.int32)\n",
    "\n",
    "def gen_perms(k):\n",
    "    idx = np.arange(1, k - 1, dtype=np.int32)\n",
    "    perm = []\n",
    "    for p in multiset_permutations(idx):\n",
    "        perm.append(np.hstack([[0], p, [k-1]])) # head + perm + tail\n",
    "    return np.array(perm, dtype=np.int32)\n",
    "\n",
    "@numba.jit('f4(i4[:], f4[:,:], i4[:], i4[:])', nopython=True)\n",
    "def subprob_cost(tour, dist_mat, s_10th, s_prime):\n",
    "    dist = 0.0\n",
    "    for t in range(1, tour.shape[0]):\n",
    "        i = tour[t - 1]\n",
    "        j = tour[t]\n",
    "        d = dist_mat[i][j]\n",
    "        if s_10th[t] != 0 and s_prime[i] != 0:\n",
    "            d *= 1.1\n",
    "        dist += d\n",
    "    return dist\n"
   ]
  },
  {
   "cell_type": "code",
   "execution_count": 24,
   "metadata": {
    "ExecuteTime": {
     "end_time": "2018-12-16T16:25:32.486066Z",
     "start_time": "2018-12-16T16:25:31.102862Z"
    }
   },
   "outputs": [],
   "source": [
    "@numba.jit('i4(f4[:], i4[:,:,:], i8, i4[:,:], i4[:], f4[:,:], i4[:], i4[:,:])', nopython=True, parallel=True)\n",
    "def finetune_(best_improvement, best_perm, k, subprobs, tour, loc, is_prime, perm):\n",
    "    updated = 0\n",
    "    init_tour = np.arange(k).astype(np.int32)\n",
    "    # parallel loop\n",
    "    for t in numba.prange(subprobs.shape[0]):\n",
    "        idx = np.arange(subprobs[t][0], subprobs[t][1]).astype(np.int32)\n",
    "        s_loc = loc[tour[idx]]\n",
    "        s_prime = (1 - is_prime[tour[idx]]).astype(np.int32)\n",
    "        s_10th = np.empty((k,), dtype=np.int32)\n",
    "        s_dist_mat = np.empty((k, k), dtype=np.float32)\n",
    "        for i in range(k):\n",
    "            s_10th[i] = 1 if (i + idx[0]) % 10 == 0 else 0\n",
    "        for i in range(k):\n",
    "            for j in range(i + 1, k):\n",
    "                s_dist_mat[i][j] = s_dist_mat[j][i] = euc_2d(s_loc[i], s_loc[j])\n",
    "        # brute force\n",
    "        costs = np.empty((perm.shape[0],), dtype=np.float32)\n",
    "        init_cost = subprob_cost(init_tour, s_dist_mat, s_10th, s_prime)\n",
    "        for i in range(perm.shape[0]):\n",
    "            costs[i] = subprob_cost(perm[i], s_dist_mat, s_10th, s_prime)\n",
    "        best_index = np.argmin(costs)\n",
    "        delta = init_cost - costs[best_index]\n",
    "        if delta > best_improvement[t]:\n",
    "            # found improvement\n",
    "            best_perm[t][0] = idx\n",
    "            best_perm[t][1] = idx[perm[best_index]]\n",
    "            best_improvement[t] = delta\n",
    "            updated += 1\n",
    "    return updated"
   ]
  },
  {
   "cell_type": "code",
   "execution_count": 25,
   "metadata": {
    "ExecuteTime": {
     "end_time": "2018-12-16T16:25:33.930504Z",
     "start_time": "2018-12-16T16:25:33.904476Z"
    }
   },
   "outputs": [],
   "source": [
    "def finetune(k, subprobs, tour, loc, is_prime, perm):\n",
    "    updated = 0\n",
    "    # numba does not seem to have get_thread_id() or lock(), so allocate extra buffers for threads\n",
    "    best_perm = np.empty((subprobs.shape[0], 2, k), dtype=np.int32)\n",
    "    best_improvement = np.zeros((subprobs.shape[0],), dtype=np.float32)\n",
    "    # finetune\n",
    "    finetune_(best_improvement, best_perm, k, subprobs, tour, loc, is_prime, perm)\n",
    "    # update tour\n",
    "    used = []\n",
    "    updates = np.argsort(best_improvement)[::-1]\n",
    "    for i in updates:\n",
    "        delta = best_improvement[i]\n",
    "        if delta > 0:\n",
    "            s = best_perm[i][0][0]\n",
    "            e = best_perm[i][0][-1]\n",
    "            if any([(r[0] < s and s < r[1]) or (r[0] < e and e < r[1]) for r in used]):\n",
    "                continue\n",
    "            used.append((s, e))\n",
    "            tour[best_perm[i][0]] = tour[best_perm[i][1]]\n",
    "            updated += 1\n",
    "        else:\n",
    "            break\n",
    "    return updated"
   ]
  },
  {
   "cell_type": "code",
   "execution_count": 27,
   "metadata": {
    "ExecuteTime": {
     "end_time": "2018-12-16T16:26:17.814387Z",
     "start_time": "2018-12-16T16:26:15.508618Z"
    }
   },
   "outputs": [
    {
     "name": "stdout",
     "output_type": "stream",
     "text": [
      "initial cost 1518012.0126322052\n",
      "** perm=6!\n",
      "cost: 1518012.0126, improvement: 0.0000, found: 0, time: 1.63\n"
     ]
    }
   ],
   "source": [
    "# run\n",
    "\n",
    "city_id, loc, is_prime = load_cities(\"input/cities.csv\")\n",
    "# load jazivxt's Winter Avalanche2 result (https://www.kaggle.com/jazivxt/winter-avalanche-2)\n",
    "tour = load_tour(\"submission_numba.csv\")\n",
    "init_cost = cost_santa2018(tour, loc, is_prime)\n",
    "print(\"initial cost\", init_cost)\n",
    "\n",
    "# subprob size + fixed head + fixed tail. 5!=120, 7!=5040(26sec), 9!=362880(1949sec)\n",
    "K = 9 + 2\n",
    "subprobs = gen_subprobs(city_id.shape[0], K)\n",
    "subprob_perms = gen_perms(K)\n",
    "print(\"** perm={}!\".format(K-2))\n",
    "t = time.time()\n",
    "updated = finetune(K, subprobs, tour, loc, is_prime, subprob_perms)\n",
    "cost = cost_santa2018(tour, loc, is_prime)\n",
    "print(\"cost: {:.4f}, improvement: {:.4f}, found: {}, time: {:.2f}\".format(cost, init_cost - cost, updated, time.time() - t))\n",
    "save_tour(\"submission_numba.csv\", tour)"
   ]
  },
  {
   "cell_type": "code",
   "execution_count": 31,
   "metadata": {
    "ExecuteTime": {
     "end_time": "2018-12-16T16:32:58.577861Z",
     "start_time": "2018-12-16T16:32:58.503774Z"
    }
   },
   "outputs": [
    {
     "data": {
      "text/plain": [
       "[1730, 18046]"
      ]
     },
     "execution_count": 31,
     "metadata": {},
     "output_type": "execute_result"
    }
   ],
   "source": [
    "tour = load_tour(\"submission_numba.csv\")\n",
    "np = 0\n",
    "pe = 0\n",
    "for i in range(len(tour)):\n",
    "    if i % 10 == 0 and i > 0:\n",
    "        if sympy.isprime(tour[i]):\n",
    "            np += 1\n",
    "        else:\n",
    "            pe += 1\n",
    "        \n",
    "[np, pe]  "
   ]
  },
  {
   "cell_type": "code",
   "execution_count": null,
   "metadata": {},
   "outputs": [],
   "source": []
  }
 ],
 "metadata": {
  "kernelspec": {
   "display_name": "py36",
   "language": "python",
   "name": "py36"
  },
  "language_info": {
   "codemirror_mode": {
    "name": "ipython",
    "version": 3
   },
   "file_extension": ".py",
   "mimetype": "text/x-python",
   "name": "python",
   "nbconvert_exporter": "python",
   "pygments_lexer": "ipython3",
   "version": "3.6.4"
  }
 },
 "nbformat": 4,
 "nbformat_minor": 2
}
