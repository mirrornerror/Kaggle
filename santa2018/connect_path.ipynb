{
 "cells": [
  {
   "cell_type": "code",
   "execution_count": 1,
   "metadata": {
    "ExecuteTime": {
     "end_time": "2019-01-07T08:42:28.674043Z",
     "start_time": "2019-01-07T08:42:27.693976Z"
    }
   },
   "outputs": [],
   "source": [
    "%matplotlib inline\n",
    "import numpy as np\n",
    "import pandas as pd\n",
    "import matplotlib as mpl\n",
    "import matplotlib.pyplot as plt\n",
    "import sympy\n",
    "from numba import jit, njit, prange\n",
    "from sympy import isprime, primerange\n",
    "from tqdm import tqdm_notebook as tqdm\n",
    "import csv\n",
    "from sklearn.neighbors import KDTree\n",
    "\n",
    "# np.random.seed(seed=42)\n",
    "# df = pd.read_csv('1515602.86080513.csv')\n",
    "# cities = pd.read_csv('input/cities.csv')"
   ]
  },
  {
   "cell_type": "code",
   "execution_count": 14,
   "metadata": {
    "ExecuteTime": {
     "end_time": "2019-01-07T09:00:34.005593Z",
     "start_time": "2019-01-07T09:00:33.996034Z"
    }
   },
   "outputs": [
    {
     "data": {
      "text/plain": [
       "array([0, 3, 6, 9])"
      ]
     },
     "execution_count": 14,
     "metadata": {},
     "output_type": "execute_result"
    }
   ],
   "source": [
    "a = np.array([0,3,6,9])\n",
    "b = np.delete(a, 2)\n",
    "b = np.insert(b, 2, a[2])\n",
    "#b = np.delete(a, np.where(a==11))\n",
    "b"
   ]
  },
  {
   "cell_type": "code",
   "execution_count": 2,
   "metadata": {
    "ExecuteTime": {
     "end_time": "2019-01-06T20:56:28.052522Z",
     "start_time": "2019-01-06T20:56:27.389847Z"
    }
   },
   "outputs": [
    {
     "data": {
      "text/plain": [
       "[(17802,), (197769,), (197770,)]"
      ]
     },
     "execution_count": 2,
     "metadata": {},
     "output_type": "execute_result"
    }
   ],
   "source": [
    "primes = np.array(list(primerange(0, len(cities))))\n",
    "is_prime = np.array([0 if not isprime(i) else 1 for i in cities.index]) \n",
    "complexes = (cities.X + 1j * cities.Y).values\n",
    "path = df.Path.values\n",
    "#path_complexes = np.array([complexes[i] for i in path])\n",
    "XY = np.array([cities.X.values, cities.Y.values]).T\n",
    "tree = KDTree(XY, 5)\n",
    "\n",
    "[primes.shape, complexes.shape, path.shape]"
   ]
  },
  {
   "cell_type": "code",
   "execution_count": 26,
   "metadata": {
    "ExecuteTime": {
     "end_time": "2018-12-29T06:30:55.290593Z",
     "start_time": "2018-12-29T06:30:55.285779Z"
    }
   },
   "outputs": [],
   "source": [
    "def dist(a, b):\n",
    "    return np.abs(complexes[a] - complexes[b])"
   ]
  },
  {
   "cell_type": "code",
   "execution_count": 27,
   "metadata": {
    "ExecuteTime": {
     "end_time": "2018-12-29T06:31:05.861333Z",
     "start_time": "2018-12-29T06:31:05.855851Z"
    }
   },
   "outputs": [],
   "source": [
    "#@jit('i4(i4[:], i4)')\n",
    "@jit\n",
    "def closest(path, base_index):\n",
    "    min_dist = np.inf\n",
    "    closest_index = -1\n",
    "    for i in path:\n",
    "        d = dist(base_index, i)\n",
    "        if d < min_dist and i != base_index:\n",
    "            min_dist = d\n",
    "            closest_index = i\n",
    "    return closest_index"
   ]
  },
  {
   "cell_type": "code",
   "execution_count": 28,
   "metadata": {
    "ExecuteTime": {
     "end_time": "2018-12-29T06:31:07.462933Z",
     "start_time": "2018-12-29T06:31:07.410868Z"
    }
   },
   "outputs": [],
   "source": [
    "@jit('i4(i4)')\n",
    "def closest_prime(base_index):\n",
    "    min_dist = np.inf\n",
    "    closest_index = -1\n",
    "    for i in primes:\n",
    "        d = dist(base_index, i)\n",
    "        if d < min_dist and i != base_index:\n",
    "            min_dist = d\n",
    "            closest_index = i\n",
    "    return closest_index"
   ]
  },
  {
   "cell_type": "code",
   "execution_count": 4,
   "metadata": {
    "ExecuteTime": {
     "end_time": "2019-01-06T20:56:42.528127Z",
     "start_time": "2019-01-06T20:56:42.303658Z"
    }
   },
   "outputs": [],
   "source": [
    "@jit('f8(i8[:], i8, i8)')\n",
    "def score_between(path, a, b):\n",
    "    c = np.array(complexes[path[a: b+1]])\n",
    "    sc = np.sum(np.abs(np.diff(c)))\n",
    "    pn = 0\n",
    "    for i in range(a+1, b+1):\n",
    "        if i % 10 == 0:\n",
    "            if is_prime[path[i-1]] == False:\n",
    "                pn += np.abs(complexes[path[i-1]] - complexes[path[i]]) * 0.1\n",
    "    return sc + pn"
   ]
  },
  {
   "cell_type": "code",
   "execution_count": 5,
   "metadata": {
    "ExecuteTime": {
     "end_time": "2019-01-06T20:56:45.347754Z",
     "start_time": "2019-01-06T20:56:45.215614Z"
    }
   },
   "outputs": [
    {
     "data": {
      "text/plain": [
       "1515602.8889715623"
      ]
     },
     "execution_count": 5,
     "metadata": {},
     "output_type": "execute_result"
    }
   ],
   "source": [
    "score_between(path, 0, len(path)-1)"
   ]
  },
  {
   "cell_type": "code",
   "execution_count": 31,
   "metadata": {
    "ExecuteTime": {
     "end_time": "2018-12-29T06:31:17.670202Z",
     "start_time": "2018-12-29T06:31:17.660009Z"
    }
   },
   "outputs": [],
   "source": [
    "#@jit('i4[:](i4[:], i4)')\n",
    "@jit\n",
    "def closest_two(path, base_index):\n",
    "    dist_1 = np.inf\n",
    "    dist_2 = np.inf\n",
    "    index_1 = -1\n",
    "    index_2 = -1\n",
    "    buff = [0]\n",
    "    for i in path:\n",
    "        d = dist(base_index, i)\n",
    "        if d < dist_2 and i != base_index and not i in buff:\n",
    "            dist_2 = d\n",
    "            index_2 = i\n",
    "            buff.append(i)\n",
    "            if dist_2 < dist_1 and i != base_index:\n",
    "                dist_1, dist_2 = dist_2, dist_1\n",
    "                index_1, index_2 = index_2, index_1\n",
    "    return index_1, index_2           "
   ]
  },
  {
   "cell_type": "code",
   "execution_count": 32,
   "metadata": {
    "ExecuteTime": {
     "end_time": "2018-12-29T06:31:18.274471Z",
     "start_time": "2018-12-29T06:31:18.236967Z"
    }
   },
   "outputs": [],
   "source": [
    "#@jit('i4[:](i4[:], i4)')\n",
    "@jit\n",
    "def closest_three(path, base_index):\n",
    "    d_list = [np.inf] * 3\n",
    "    i_list = [-1] * 3\n",
    "    buff = [0]\n",
    "    for i in path:\n",
    "        d = dist(base_index, i)\n",
    "        if d < d_list[2] and i != base_index and not i in buff:\n",
    "            d_list[2] = d\n",
    "            i_list[2] = i\n",
    "            buff.append(i)\n",
    "            if d_list[2] < d_list[1]:\n",
    "                d_list[1:3] = d_list[1:3][::-1]\n",
    "                i_list[1:3] = i_list[1:3][::-1]\n",
    "                if d_list[1] < d_list[0]:\n",
    "                    d_list[0:2] = d_list[0:2][::-1]\n",
    "                    i_list[0:2] = i_list[0:2][::-1]\n",
    "    return i_list"
   ]
  },
  {
   "cell_type": "code",
   "execution_count": 22,
   "metadata": {
    "ExecuteTime": {
     "end_time": "2018-12-29T06:30:09.607224Z",
     "start_time": "2018-12-29T06:30:09.525826Z"
    }
   },
   "outputs": [],
   "source": [
    "def segments(path, path_list):\n",
    "    copy = path.copy().tolist()\n",
    "    remove_list = np.concatenate(path_list)\n",
    "    [copy.remove(i) for i in remove_list]\n",
    "    del remove_list\n",
    "    \n",
    "    for _ in tqdm(range(1, len(path)//20)):\n",
    "        \n",
    "        if len(copy) > 3:\n",
    "            c10, c11, c12 = closest_three(path, path_list[-1][-1])\n",
    "\n",
    "            copy0 = copy.copy()\n",
    "            copy1 = copy.copy()\n",
    "            copy2 = copy.copy()\n",
    "\n",
    "            if c10 in copy0:\n",
    "                copy0.remove(c10)\n",
    "            if c11 in copy1:\n",
    "                copy1.remove(c11)\n",
    "            if c12 in copy2:\n",
    "                copy2.remove(c12)\n",
    "            \n",
    "            c20 = closest(copy0, c10)\n",
    "            c21 = closest(copy1, c11)\n",
    "            c22 = closest(copy2, c12)\n",
    "\n",
    "            if c20 in copy0:\n",
    "                copy0.remove(c20)\n",
    "            if c21 in copy1:\n",
    "                copy1.remove(c21)\n",
    "            if c22 in copy2:\n",
    "                copy2.remove(c22)\n",
    "\n",
    "            c30 = closest(copy0, c20)\n",
    "            c31 = closest(copy1, c21)\n",
    "            c32 = closest(copy2, c22)\n",
    "\n",
    "            seg = [[path_list[-1][-1], c10, c20, c30],\n",
    "                   [path_list[-1][-1], c11, c21, c31],\n",
    "                   [path_list[-1][-1], c12, c22, c32]]\n",
    "            sc = [score_between(seg[0], 0, 3),\n",
    "                  score_between(seg[1], 0, 3),\n",
    "                  score_between(seg[2], 0, 3)]\n",
    "\n",
    "            min_index = np.argmin(sc)\n",
    "            seg_min = seg[min_index][1]\n",
    "        else:\n",
    "            seg_min = closest(path, path_list[-1][-1])\n",
    "            flatten = np.concatenate(path_list)\n",
    "            if len(flatten) == len(path):\n",
    "                break\n",
    "\n",
    "        if seg_min in sum(path_list, []):\n",
    "            path_list.append([copy[0]])\n",
    "            copy.remove(copy[0])\n",
    "        else:\n",
    "            path_list[-1].append(seg_min)\n",
    "            copy.remove(seg_min)\n",
    "            \n",
    "    return path_list"
   ]
  },
  {
   "cell_type": "code",
   "execution_count": 23,
   "metadata": {
    "ExecuteTime": {
     "end_time": "2018-12-29T06:30:40.097025Z",
     "start_time": "2018-12-29T06:30:10.803663Z"
    }
   },
   "outputs": [
    {
     "data": {
      "application/vnd.jupyter.widget-view+json": {
       "model_id": "561b681ed54b43f0a3686407b0c4fb55",
       "version_major": 2,
       "version_minor": 0
      },
      "text/plain": [
       "HBox(children=(IntProgress(value=0, max=9887), HTML(value='')))"
      ]
     },
     "metadata": {},
     "output_type": "display_data"
    },
    {
     "ename": "KeyboardInterrupt",
     "evalue": "",
     "output_type": "error",
     "traceback": [
      "\u001b[0;31m---------------------------------------------------------------------------\u001b[0m",
      "\u001b[0;31mKeyboardInterrupt\u001b[0m                         Traceback (most recent call last)",
      "\u001b[0;32m<ipython-input-23-eed2c21839b4>\u001b[0m in \u001b[0;36m<module>\u001b[0;34m()\u001b[0m\n\u001b[1;32m      1\u001b[0m \u001b[0mpath_list\u001b[0m \u001b[0;34m=\u001b[0m \u001b[0;34m[\u001b[0m\u001b[0;34m[\u001b[0m\u001b[0;36m0\u001b[0m\u001b[0;34m]\u001b[0m\u001b[0;34m]\u001b[0m\u001b[0;34m\u001b[0m\u001b[0m\n\u001b[0;32m----> 2\u001b[0;31m \u001b[0mpath_list\u001b[0m \u001b[0;34m=\u001b[0m \u001b[0msegments\u001b[0m\u001b[0;34m(\u001b[0m\u001b[0mpath\u001b[0m\u001b[0;34m,\u001b[0m \u001b[0mpath_list\u001b[0m\u001b[0;34m)\u001b[0m\u001b[0;34m\u001b[0m\u001b[0m\n\u001b[0m\u001b[1;32m      3\u001b[0m \u001b[0mprint\u001b[0m\u001b[0;34m(\u001b[0m\u001b[0mlen\u001b[0m\u001b[0;34m(\u001b[0m\u001b[0mpath_list\u001b[0m\u001b[0;34m)\u001b[0m\u001b[0;34m,\u001b[0m \u001b[0mlen\u001b[0m\u001b[0;34m(\u001b[0m\u001b[0msum\u001b[0m\u001b[0;34m(\u001b[0m\u001b[0mpath_list\u001b[0m\u001b[0;34m,\u001b[0m \u001b[0;34m[\u001b[0m\u001b[0;34m]\u001b[0m\u001b[0;34m)\u001b[0m\u001b[0;34m)\u001b[0m\u001b[0;34m)\u001b[0m\u001b[0;34m\u001b[0m\u001b[0m\n",
      "\u001b[0;32m<ipython-input-22-30fc3dc35526>\u001b[0m in \u001b[0;36msegments\u001b[0;34m(path, path_list)\u001b[0m\n\u001b[1;32m     23\u001b[0m             \u001b[0mc20\u001b[0m \u001b[0;34m=\u001b[0m \u001b[0mclosest\u001b[0m\u001b[0;34m(\u001b[0m\u001b[0mcopy\u001b[0m\u001b[0;34m,\u001b[0m \u001b[0mc10\u001b[0m\u001b[0;34m)\u001b[0m\u001b[0;34m\u001b[0m\u001b[0m\n\u001b[1;32m     24\u001b[0m             \u001b[0mc21\u001b[0m \u001b[0;34m=\u001b[0m \u001b[0mclosest\u001b[0m\u001b[0;34m(\u001b[0m\u001b[0mcopy\u001b[0m\u001b[0;34m,\u001b[0m \u001b[0mc11\u001b[0m\u001b[0;34m)\u001b[0m\u001b[0;34m\u001b[0m\u001b[0m\n\u001b[0;32m---> 25\u001b[0;31m             \u001b[0mc22\u001b[0m \u001b[0;34m=\u001b[0m \u001b[0mclosest\u001b[0m\u001b[0;34m(\u001b[0m\u001b[0mcopy\u001b[0m\u001b[0;34m,\u001b[0m \u001b[0mc12\u001b[0m\u001b[0;34m)\u001b[0m\u001b[0;34m\u001b[0m\u001b[0m\n\u001b[0m\u001b[1;32m     26\u001b[0m \u001b[0;34m\u001b[0m\u001b[0m\n\u001b[1;32m     27\u001b[0m \u001b[0;34m\u001b[0m\u001b[0m\n",
      "\u001b[0;32m<ipython-input-3-299faff31b26>\u001b[0m in \u001b[0;36mdist\u001b[0;34m(a, b)\u001b[0m\n\u001b[1;32m      1\u001b[0m \u001b[0;32mdef\u001b[0m \u001b[0mdist\u001b[0m\u001b[0;34m(\u001b[0m\u001b[0ma\u001b[0m\u001b[0;34m,\u001b[0m \u001b[0mb\u001b[0m\u001b[0;34m)\u001b[0m\u001b[0;34m:\u001b[0m\u001b[0;34m\u001b[0m\u001b[0m\n\u001b[0;32m----> 2\u001b[0;31m     \u001b[0;32mreturn\u001b[0m \u001b[0mnp\u001b[0m\u001b[0;34m.\u001b[0m\u001b[0mabs\u001b[0m\u001b[0;34m(\u001b[0m\u001b[0mcomplexes\u001b[0m\u001b[0;34m[\u001b[0m\u001b[0ma\u001b[0m\u001b[0;34m]\u001b[0m \u001b[0;34m-\u001b[0m \u001b[0mcomplexes\u001b[0m\u001b[0;34m[\u001b[0m\u001b[0mb\u001b[0m\u001b[0;34m]\u001b[0m\u001b[0;34m)\u001b[0m\u001b[0;34m\u001b[0m\u001b[0m\n\u001b[0m",
      "\u001b[0;31mKeyboardInterrupt\u001b[0m: "
     ]
    }
   ],
   "source": [
    "path_list = [[0]]\n",
    "path_list = segments(path, path_list)\n",
    "print(len(path_list), len(sum(path_list, [])))"
   ]
  },
  {
   "cell_type": "code",
   "execution_count": 14,
   "metadata": {
    "ExecuteTime": {
     "end_time": "2018-12-29T03:13:34.523989Z",
     "start_time": "2018-12-29T03:13:33.813693Z"
    }
   },
   "outputs": [
    {
     "name": "stdout",
     "output_type": "stream",
     "text": [
      "loaded:  39553\n"
     ]
    }
   ],
   "source": [
    "# save_list(path_list)\n",
    "# del path_list\n",
    "#path_list = load_list()\n",
    "#path_list"
   ]
  },
  {
   "cell_type": "code",
   "execution_count": null,
   "metadata": {},
   "outputs": [],
   "source": []
  },
  {
   "cell_type": "code",
   "execution_count": 11,
   "metadata": {
    "ExecuteTime": {
     "end_time": "2018-12-29T03:13:00.936846Z",
     "start_time": "2018-12-29T03:13:00.921970Z"
    }
   },
   "outputs": [],
   "source": [
    "#@jit\n",
    "def segment_list(path, path_list):\n",
    "    copy = path.copy().tolist()\n",
    "    remove_list = np.concatenate(path_list)\n",
    "    [copy.remove(i) for i in remove_list]\n",
    "    for i in tqdm(range(1, len(path)//10)):\n",
    "        cl = closest(path, path_list[-1][-1])\n",
    "        flatten = np.concatenate(path_list)\n",
    "        if len(flatten) == len(path):\n",
    "            break\n",
    "        if cl in flatten:\n",
    "            path_list.append([copy[0]])\n",
    "            copy.remove(copy[0])\n",
    "        else:\n",
    "            path_list[-1].append(cl)\n",
    "            copy.remove(cl)\n",
    "    return path_list"
   ]
  },
  {
   "cell_type": "code",
   "execution_count": 60,
   "metadata": {
    "ExecuteTime": {
     "end_time": "2018-12-24T15:40:02.306071Z",
     "start_time": "2018-12-24T15:38:45.249201Z"
    }
   },
   "outputs": [
    {
     "data": {
      "application/vnd.jupyter.widget-view+json": {
       "model_id": "ebdc28771f2c4708a40ffb262f7e7f73",
       "version_major": 2,
       "version_minor": 0
      },
      "text/plain": [
       "HBox(children=(IntProgress(value=0, max=19776), HTML(value='')))"
      ]
     },
     "metadata": {},
     "output_type": "display_data"
    },
    {
     "name": "stdout",
     "output_type": "stream",
     "text": [
      "\n"
     ]
    },
    {
     "data": {
      "text/plain": [
       "197770"
      ]
     },
     "execution_count": 60,
     "metadata": {},
     "output_type": "execute_result"
    }
   ],
   "source": [
    "#path_list = [[0]]\n",
    "path_list = segment_list(path, path_list)\n",
    "len(sum(path_list, []))"
   ]
  },
  {
   "cell_type": "code",
   "execution_count": 12,
   "metadata": {
    "ExecuteTime": {
     "end_time": "2018-12-29T03:13:05.681731Z",
     "start_time": "2018-12-29T03:13:05.674135Z"
    }
   },
   "outputs": [],
   "source": [
    "def save_list(path_list):\n",
    "    with open('path_list2.csv', 'w', newline='') as f:\n",
    "        writer = csv.writer(f, lineterminator='\\n')\n",
    "        writer.writerows(path_list)\n",
    "        print('saved: ', len(sum(path_list, [])))"
   ]
  },
  {
   "cell_type": "code",
   "execution_count": 61,
   "metadata": {
    "ExecuteTime": {
     "end_time": "2018-12-24T15:41:16.873683Z",
     "start_time": "2018-12-24T15:40:13.921009Z"
    }
   },
   "outputs": [
    {
     "name": "stdout",
     "output_type": "stream",
     "text": [
      "saved:  197770\n"
     ]
    }
   ],
   "source": [
    "save_list(path_list)"
   ]
  },
  {
   "cell_type": "code",
   "execution_count": 62,
   "metadata": {
    "ExecuteTime": {
     "end_time": "2018-12-24T15:41:24.294539Z",
     "start_time": "2018-12-24T15:41:24.285479Z"
    }
   },
   "outputs": [],
   "source": [
    "del path_list"
   ]
  },
  {
   "cell_type": "code",
   "execution_count": 13,
   "metadata": {
    "ExecuteTime": {
     "end_time": "2018-12-29T03:13:08.772725Z",
     "start_time": "2018-12-29T03:13:08.765667Z"
    }
   },
   "outputs": [],
   "source": [
    "def load_list():\n",
    "    path_list = []\n",
    "    with open('path_list2.csv', 'r') as f:\n",
    "        reader = csv.reader(f)\n",
    "        for row in reader:\n",
    "            path_list.append([int(i) for i in row])\n",
    "        print('loaded: ', len(sum(path_list, [])))\n",
    "        return path_list"
   ]
  },
  {
   "cell_type": "code",
   "execution_count": 63,
   "metadata": {
    "ExecuteTime": {
     "end_time": "2018-12-24T15:42:41.854496Z",
     "start_time": "2018-12-24T15:41:35.249448Z"
    }
   },
   "outputs": [
    {
     "name": "stdout",
     "output_type": "stream",
     "text": [
      "loaded:  197770\n"
     ]
    }
   ],
   "source": [
    "path_list = load_list()"
   ]
  },
  {
   "cell_type": "code",
   "execution_count": 280,
   "metadata": {
    "ExecuteTime": {
     "end_time": "2018-12-25T17:29:33.578245Z",
     "start_time": "2018-12-25T17:29:33.568423Z"
    }
   },
   "outputs": [],
   "source": [
    "@jit\n",
    "def edge_listing(path_list):\n",
    "    edges = []\n",
    "    for ls in path_list:\n",
    "        if len(ls) == 1:\n",
    "            edges.append(ls[0])\n",
    "        else:\n",
    "            edges.append(ls[0])\n",
    "            edges.append(ls[-1])\n",
    "    #edges.remove(0)\n",
    "    return edges"
   ]
  },
  {
   "cell_type": "code",
   "execution_count": 313,
   "metadata": {
    "ExecuteTime": {
     "end_time": "2018-12-25T17:49:59.258528Z",
     "start_time": "2018-12-25T17:49:59.211906Z"
    }
   },
   "outputs": [
    {
     "data": {
      "text/plain": [
       "154182"
      ]
     },
     "execution_count": 313,
     "metadata": {},
     "output_type": "execute_result"
    }
   ],
   "source": [
    "edge_list = edge_listing(path_list)\n",
    "len(edge_list)"
   ]
  },
  {
   "cell_type": "code",
   "execution_count": 364,
   "metadata": {
    "ExecuteTime": {
     "end_time": "2018-12-25T18:39:30.226304Z",
     "start_time": "2018-12-25T18:39:30.200746Z"
    }
   },
   "outputs": [],
   "source": [
    "@jit\n",
    "def join_segments(path_list):\n",
    "    edge_list = edge_listing(path_list)\n",
    "    joined_list = path_list[0]\n",
    "    edge_list.remove(joined_list[0])\n",
    "    edge_list.remove(edge_list[-1])\n",
    "    if len(joined_list) > 1:\n",
    "        edge_list.remove(joined_list[-1])\n",
    "    \n",
    "    for i in tqdm(range(len(path_list)-2)):\n",
    "        cl = closest(np.array(edge_list), joined_list[-1])\n",
    "        for seg in path_list:\n",
    "            if cl in seg:\n",
    "                cl_index = seg.index(cl)\n",
    "                if len(seg) == 1:\n",
    "                    edge_list.remove(seg[0])\n",
    "                else:\n",
    "                    edge_list.remove(seg[0])\n",
    "                    edge_list.remove(seg[-1])\n",
    "                    if cl_index != 0:  \n",
    "                        seg = seg[::-1]\n",
    "                joined_list = np.concatenate([joined_list, seg]).tolist()\n",
    "                break\n",
    "    joined_list.append(0)\n",
    "    print(len(joined_list))\n",
    "    return joined_list"
   ]
  },
  {
   "cell_type": "code",
   "execution_count": 365,
   "metadata": {
    "ExecuteTime": {
     "end_time": "2018-12-25T19:12:41.084714Z",
     "start_time": "2018-12-25T18:39:32.018685Z"
    }
   },
   "outputs": [
    {
     "data": {
      "application/vnd.jupyter.widget-view+json": {
       "model_id": "f015214900b14239a6775e95a628508d",
       "version_major": 2,
       "version_minor": 0
      },
      "text/plain": [
       "HBox(children=(IntProgress(value=0, max=105782), HTML(value='')))"
      ]
     },
     "metadata": {},
     "output_type": "display_data"
    },
    {
     "name": "stdout",
     "output_type": "stream",
     "text": [
      "197769\n"
     ]
    }
   ],
   "source": [
    "joined = join_segments(path_list)  # 33m 9s"
   ]
  },
  {
   "cell_type": "code",
   "execution_count": 372,
   "metadata": {
    "ExecuteTime": {
     "end_time": "2018-12-25T19:20:34.944518Z",
     "start_time": "2018-12-25T19:20:34.705098Z"
    }
   },
   "outputs": [
    {
     "data": {
      "text/plain": [
       "1811006.7213524897"
      ]
     },
     "execution_count": 372,
     "metadata": {},
     "output_type": "execute_result"
    }
   ],
   "source": [
    "joined = np.array(joined)\n",
    "score_between(joined, 0, len(joined)-1)"
   ]
  },
  {
   "cell_type": "code",
   "execution_count": 373,
   "metadata": {
    "ExecuteTime": {
     "end_time": "2018-12-25T19:29:45.852466Z",
     "start_time": "2018-12-25T19:29:45.594763Z"
    }
   },
   "outputs": [],
   "source": [
    "pd.DataFrame({'Path': joined}).to_csv('join_submission.csv', index=False)"
   ]
  },
  {
   "cell_type": "code",
   "execution_count": null,
   "metadata": {},
   "outputs": [],
   "source": [
    "base_list\n",
    "pairs + singles\n",
    "groups + pairs + singles\n",
    "\n",
    "pairs:\n",
    "    si = path[i]\n",
    "    s1 = closest_n(path, si)\n",
    "    s2 = closest_n(path, s1)\n",
    "    if s1 == s2:\n",
    "        pairs_list.append(s1)\n",
    "        pairs_list.append(s2)\n",
    "    "
   ]
  }
 ],
 "metadata": {
  "kernelspec": {
   "display_name": "py36",
   "language": "python",
   "name": "py36"
  },
  "language_info": {
   "codemirror_mode": {
    "name": "ipython",
    "version": 3
   },
   "file_extension": ".py",
   "mimetype": "text/x-python",
   "name": "python",
   "nbconvert_exporter": "python",
   "pygments_lexer": "ipython3",
   "version": "3.6.4"
  }
 },
 "nbformat": 4,
 "nbformat_minor": 2
}
