{
 "cells": [
  {
   "cell_type": "markdown",
   "metadata": {},
   "source": [
    "# Traveling Santa 2018 - Prime Paths  \n",
    "https://www.kaggle.com/c/traveling-santa-2018-prime-paths"
   ]
  },
  {
   "cell_type": "code",
   "execution_count": 2,
   "metadata": {
    "ExecuteTime": {
     "end_time": "2018-12-08T16:04:06.762182Z",
     "start_time": "2018-12-08T16:04:06.755703Z"
    }
   },
   "outputs": [],
   "source": [
    "import numpy as np\n",
    "import pandas as pd\n",
    "from sympy import isprime\n",
    "import matplotlib.pyplot as plt\n",
    "%matplotlib inline"
   ]
  },
  {
   "cell_type": "code",
   "execution_count": 482,
   "metadata": {
    "ExecuteTime": {
     "end_time": "2018-12-08T14:08:58.013926Z",
     "start_time": "2018-12-08T14:08:57.917048Z"
    }
   },
   "outputs": [],
   "source": [
    "cities = pd.read_csv('input/cities.csv')\n",
    "#sub = pd.read_csv('input/sample_submission.csv')"
   ]
  },
  {
   "cell_type": "code",
   "execution_count": 483,
   "metadata": {
    "ExecuteTime": {
     "end_time": "2018-12-08T14:08:58.022012Z",
     "start_time": "2018-12-08T14:08:58.015530Z"
    }
   },
   "outputs": [
    {
     "data": {
      "text/html": [
       "<div>\n",
       "<style scoped>\n",
       "    .dataframe tbody tr th:only-of-type {\n",
       "        vertical-align: middle;\n",
       "    }\n",
       "\n",
       "    .dataframe tbody tr th {\n",
       "        vertical-align: top;\n",
       "    }\n",
       "\n",
       "    .dataframe thead th {\n",
       "        text-align: right;\n",
       "    }\n",
       "</style>\n",
       "<table border=\"1\" class=\"dataframe\">\n",
       "  <thead>\n",
       "    <tr style=\"text-align: right;\">\n",
       "      <th></th>\n",
       "      <th>CityId</th>\n",
       "      <th>X</th>\n",
       "      <th>Y</th>\n",
       "    </tr>\n",
       "  </thead>\n",
       "  <tbody>\n",
       "    <tr>\n",
       "      <th>0</th>\n",
       "      <td>0</td>\n",
       "      <td>316.836739</td>\n",
       "      <td>2202.340707</td>\n",
       "    </tr>\n",
       "    <tr>\n",
       "      <th>1</th>\n",
       "      <td>1</td>\n",
       "      <td>4377.405972</td>\n",
       "      <td>336.602082</td>\n",
       "    </tr>\n",
       "    <tr>\n",
       "      <th>2</th>\n",
       "      <td>2</td>\n",
       "      <td>3454.158198</td>\n",
       "      <td>2820.053011</td>\n",
       "    </tr>\n",
       "    <tr>\n",
       "      <th>3</th>\n",
       "      <td>3</td>\n",
       "      <td>4688.099298</td>\n",
       "      <td>2935.898056</td>\n",
       "    </tr>\n",
       "    <tr>\n",
       "      <th>4</th>\n",
       "      <td>4</td>\n",
       "      <td>1010.696952</td>\n",
       "      <td>3236.750989</td>\n",
       "    </tr>\n",
       "  </tbody>\n",
       "</table>\n",
       "</div>"
      ],
      "text/plain": [
       "   CityId            X            Y\n",
       "0       0   316.836739  2202.340707\n",
       "1       1  4377.405972   336.602082\n",
       "2       2  3454.158198  2820.053011\n",
       "3       3  4688.099298  2935.898056\n",
       "4       4  1010.696952  3236.750989"
      ]
     },
     "execution_count": 483,
     "metadata": {},
     "output_type": "execute_result"
    }
   ],
   "source": [
    "cities.head()"
   ]
  },
  {
   "cell_type": "code",
   "execution_count": 484,
   "metadata": {
    "ExecuteTime": {
     "end_time": "2018-12-08T14:08:58.031561Z",
     "start_time": "2018-12-08T14:08:58.023428Z"
    }
   },
   "outputs": [
    {
     "data": {
      "text/html": [
       "<div>\n",
       "<style scoped>\n",
       "    .dataframe tbody tr th:only-of-type {\n",
       "        vertical-align: middle;\n",
       "    }\n",
       "\n",
       "    .dataframe tbody tr th {\n",
       "        vertical-align: top;\n",
       "    }\n",
       "\n",
       "    .dataframe thead th {\n",
       "        text-align: right;\n",
       "    }\n",
       "</style>\n",
       "<table border=\"1\" class=\"dataframe\">\n",
       "  <thead>\n",
       "    <tr style=\"text-align: right;\">\n",
       "      <th></th>\n",
       "      <th>CityId</th>\n",
       "      <th>X</th>\n",
       "      <th>Y</th>\n",
       "    </tr>\n",
       "  </thead>\n",
       "  <tbody>\n",
       "    <tr>\n",
       "      <th>197764</th>\n",
       "      <td>197764</td>\n",
       "      <td>149.828018</td>\n",
       "      <td>3134.756986</td>\n",
       "    </tr>\n",
       "    <tr>\n",
       "      <th>197765</th>\n",
       "      <td>197765</td>\n",
       "      <td>2615.299239</td>\n",
       "      <td>2267.979286</td>\n",
       "    </tr>\n",
       "    <tr>\n",
       "      <th>197766</th>\n",
       "      <td>197766</td>\n",
       "      <td>4775.889874</td>\n",
       "      <td>3103.846228</td>\n",
       "    </tr>\n",
       "    <tr>\n",
       "      <th>197767</th>\n",
       "      <td>197767</td>\n",
       "      <td>2994.230955</td>\n",
       "      <td>1931.764344</td>\n",
       "    </tr>\n",
       "    <tr>\n",
       "      <th>197768</th>\n",
       "      <td>197768</td>\n",
       "      <td>1354.764778</td>\n",
       "      <td>3218.100625</td>\n",
       "    </tr>\n",
       "  </tbody>\n",
       "</table>\n",
       "</div>"
      ],
      "text/plain": [
       "        CityId            X            Y\n",
       "197764  197764   149.828018  3134.756986\n",
       "197765  197765  2615.299239  2267.979286\n",
       "197766  197766  4775.889874  3103.846228\n",
       "197767  197767  2994.230955  1931.764344\n",
       "197768  197768  1354.764778  3218.100625"
      ]
     },
     "execution_count": 484,
     "metadata": {},
     "output_type": "execute_result"
    }
   ],
   "source": [
    "cities.tail()"
   ]
  },
  {
   "cell_type": "code",
   "execution_count": 485,
   "metadata": {
    "ExecuteTime": {
     "end_time": "2018-12-08T14:08:58.329194Z",
     "start_time": "2018-12-08T14:08:58.033147Z"
    }
   },
   "outputs": [
    {
     "data": {
      "text/plain": [
       "17802"
      ]
     },
     "execution_count": 485,
     "metadata": {},
     "output_type": "execute_result"
    }
   ],
   "source": [
    "# total primes \n",
    "np.sum([isprime(i) for i in range(len(cities))]) "
   ]
  },
  {
   "cell_type": "code",
   "execution_count": 486,
   "metadata": {
    "ExecuteTime": {
     "end_time": "2018-12-08T14:08:58.334412Z",
     "start_time": "2018-12-08T14:08:58.330962Z"
    }
   },
   "outputs": [],
   "source": [
    "connected = [False] * len(cities)"
   ]
  },
  {
   "cell_type": "code",
   "execution_count": 487,
   "metadata": {
    "ExecuteTime": {
     "end_time": "2018-12-08T14:08:58.620267Z",
     "start_time": "2018-12-08T14:08:58.336416Z"
    }
   },
   "outputs": [
    {
     "data": {
      "text/plain": [
       "17802"
      ]
     },
     "execution_count": 487,
     "metadata": {},
     "output_type": "execute_result"
    }
   ],
   "source": [
    "prime_list = []\n",
    "for i in range(len(cities)):\n",
    "    if isprime(i):\n",
    "        prime_list.append(i)\n",
    "len(prime_list)  # 17802"
   ]
  },
  {
   "cell_type": "code",
   "execution_count": 488,
   "metadata": {
    "ExecuteTime": {
     "end_time": "2018-12-08T14:08:58.626455Z",
     "start_time": "2018-12-08T14:08:58.621405Z"
    }
   },
   "outputs": [],
   "source": [
    "def dist(base_index, next_index):\n",
    "    if base_index < len(cities) - 1:\n",
    "        d = ((cities.X[base_index] - cities.X[next_index])**2 + (cities.Y[base_index] - cities.Y[next_index])**2)**0.5\n",
    "    else:\n",
    "        d = ((cities.X[base_index] - cities.X[0])**2 + (cities.Y[base_index] - cities.Y[0])**2)**0.5\n",
    "    return d"
   ]
  },
  {
   "cell_type": "code",
   "execution_count": 489,
   "metadata": {
    "ExecuteTime": {
     "end_time": "2018-12-08T14:08:58.638684Z",
     "start_time": "2018-12-08T14:08:58.627944Z"
    }
   },
   "outputs": [],
   "source": [
    "def closest(base_index):\n",
    "    min_dist = np.inf\n",
    "    connected[base_index] = True\n",
    "    min_index = -1\n",
    "    for i in cities.index.values:\n",
    "        if i != base_index and  connected[i] == False and not isprime(i):\n",
    "            d = dist(base_index, i)\n",
    "            if d < min_dist:\n",
    "                min_dist = d\n",
    "                min_index = i\n",
    "    connected[min_index] = True\n",
    "    return min_index"
   ]
  },
  {
   "cell_type": "code",
   "execution_count": 490,
   "metadata": {
    "ExecuteTime": {
     "end_time": "2018-12-08T14:08:58.648585Z",
     "start_time": "2018-12-08T14:08:58.640260Z"
    }
   },
   "outputs": [],
   "source": [
    "def closest_prime(base_index):\n",
    "    min_dist = np.inf\n",
    "    min_index = -1\n",
    "    for i in prime_list:\n",
    "        if connected[i] == False:\n",
    "            d = dist(base_index, i)\n",
    "            if i != base_index and d < min_dist:\n",
    "                min_dist = d\n",
    "                min_index = i\n",
    "    connected[min_index] == True\n",
    "    return min_index"
   ]
  },
  {
   "cell_type": "code",
   "execution_count": 491,
   "metadata": {
    "ExecuteTime": {
     "end_time": "2018-12-08T14:20:48.333616Z",
     "start_time": "2018-12-08T14:08:58.649702Z"
    }
   },
   "outputs": [
    {
     "name": "stderr",
     "output_type": "stream",
     "text": [
      "\n",
      "  0%|          | 0/10 [00:00<?, ?it/s]\u001b[A\n",
      " 10%|█         | 1/10 [01:11<10:43, 71.51s/it]\u001b[A\n",
      " 20%|██        | 2/10 [02:22<09:31, 71.42s/it]\u001b[A\n",
      " 30%|███       | 3/10 [03:33<08:18, 71.26s/it]\u001b[A\n",
      " 40%|████      | 4/10 [04:44<07:06, 71.16s/it]\u001b[A\n",
      " 50%|█████     | 5/10 [05:55<05:55, 71.09s/it]\u001b[A\n",
      " 60%|██████    | 6/10 [07:06<04:44, 71.09s/it]\u001b[A\n",
      " 70%|███████   | 7/10 [08:17<03:33, 71.03s/it]\u001b[A\n",
      " 80%|████████  | 8/10 [09:27<02:21, 70.99s/it]\u001b[A\n",
      " 90%|█████████ | 9/10 [10:38<01:10, 71.00s/it]\u001b[A\n",
      "100%|██████████| 10/10 [11:49<00:00, 70.97s/it]\u001b[A\n",
      "\u001b[A"
     ]
    },
    {
     "data": {
      "text/plain": [
       "[0,\n",
       " 78934,\n",
       " 111804,\n",
       " 52086,\n",
       " 18295,\n",
       " 134585,\n",
       " 109090,\n",
       " 37150,\n",
       " 96442,\n",
       " 5333,\n",
       " 117533,\n",
       " 25283,\n",
       " 142366,\n",
       " 122542,\n",
       " 126815,\n",
       " 181677,\n",
       " 110241,\n",
       " 182416,\n",
       " 47302,\n",
       " 85621,\n",
       " 5523,\n",
       " 139587,\n",
       " 132448,\n",
       " 78974,\n",
       " 189143,\n",
       " 2112,\n",
       " 137906,\n",
       " 146984,\n",
       " 189346,\n",
       " 112223,\n",
       " 119154,\n",
       " 47233,\n",
       " 194256,\n",
       " 155212,\n",
       " 24164,\n",
       " 92343,\n",
       " 65277,\n",
       " 146918,\n",
       " 173131,\n",
       " 38747,\n",
       " 165295,\n",
       " 39574,\n",
       " 83570,\n",
       " 185978,\n",
       " 33092,\n",
       " 194108,\n",
       " 181554,\n",
       " 150165,\n",
       " 182402,\n",
       " 176887,\n",
       " 165539,\n",
       " 32488,\n",
       " 30902,\n",
       " 4245,\n",
       " 194268,\n",
       " 68149,\n",
       " 145506,\n",
       " 160204,\n",
       " 21311,\n",
       " 36109,\n",
       " 62647,\n",
       " 155909,\n",
       " 152918,\n",
       " 19200,\n",
       " 74025,\n",
       " 95218,\n",
       " 182298,\n",
       " 170830,\n",
       " 133710,\n",
       " 42023,\n",
       " 134011,\n",
       " 141261,\n",
       " 148749,\n",
       " 184418,\n",
       " 114307,\n",
       " 153431,\n",
       " 93956,\n",
       " 157289,\n",
       " 66632,\n",
       " 62897,\n",
       " 90875,\n",
       " 58786,\n",
       " 10,\n",
       " 187534,\n",
       " 193318,\n",
       " 85445,\n",
       " 118672,\n",
       " 81668,\n",
       " 96440,\n",
       " 9059,\n",
       " 60323,\n",
       " 61392,\n",
       " 113020,\n",
       " 45380,\n",
       " 166221,\n",
       " 131720,\n",
       " 879,\n",
       " 188104,\n",
       " 141776,\n",
       " 161159,\n",
       " 153710]"
      ]
     },
     "execution_count": 491,
     "metadata": {},
     "output_type": "execute_result"
    }
   ],
   "source": [
    "from tqdm import tqdm\n",
    "\n",
    "index = 0\n",
    "route = [0]\n",
    "\n",
    "for _ in tqdm(range(10)):\n",
    "    for _ in range(1, 9):\n",
    "        index = closest(index)\n",
    "        route.append(index)\n",
    "\n",
    "    p = closest_prime(route[-1])\n",
    "    route.append(p)\n",
    "    \n",
    "    p10 = closest(route[-1])\n",
    "    route.append(p10)\n",
    "    index = p10\n",
    "    \n",
    "route"
   ]
  },
  {
   "cell_type": "code",
   "execution_count": 493,
   "metadata": {
    "ExecuteTime": {
     "end_time": "2018-12-08T14:36:40.291730Z",
     "start_time": "2018-12-08T14:36:40.093920Z"
    }
   },
   "outputs": [
    {
     "data": {
      "image/png": "[encoded data removed]",
      "text/plain": [
       "<matplotlib.figure.Figure at 0x7fa8191e06a0>"
      ]
     },
     "metadata": {},
     "output_type": "display_data"
    }
   ],
   "source": [
    "x = [cities.X[i] for i in route]\n",
    "y = [cities.Y[i] for i in route]\n",
    "x10 =[]\n",
    "y10 =[]\n",
    "for i in range(len(x)):\n",
    "    if i % 10 == 0:\n",
    "        x10.append(x[i])\n",
    "        y10.append(y[i])\n",
    "\n",
    "plt.figure(figsize=(20,20))\n",
    "plt.plot(x, y, 'gray')\n",
    "plt.scatter(x, y, c='gray')\n",
    "plt.plot(x10, y10, 'mo')\n",
    "plt.plot(x[0], y[0], 'go')\n",
    "plt.gca().set_aspect('equal', adjustable='box')"
   ]
  },
  {
   "cell_type": "code",
   "execution_count": null,
   "metadata": {},
   "outputs": [],
   "source": []
  }
 ],
 "metadata": {
  "kernelspec": {
   "display_name": "py36",
   "language": "python",
   "name": "py36"
  },
  "language_info": {
   "codemirror_mode": {
    "name": "ipython",
    "version": 3
   },
   "file_extension": ".py",
   "mimetype": "text/x-python",
   "name": "python",
   "nbconvert_exporter": "python",
   "pygments_lexer": "ipython3",
   "version": "3.6.4"
  }
 },
 "nbformat": 4,
 "nbformat_minor": 2
}
