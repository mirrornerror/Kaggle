{
 "cells": [
  {
   "cell_type": "code",
   "execution_count": 2,
   "metadata": {
    "ExecuteTime": {
     "end_time": "2019-02-04T10:55:25.987729Z",
     "start_time": "2019-02-04T10:55:25.652931Z"
    }
   },
   "outputs": [],
   "source": [
    "from concorde.tsp import TSPSolver\n",
    "from matplotlib import collections  as mc\n",
    "import matplotlib.pyplot as plt\n",
    "import numpy as np\n",
    "import pandas as pd\n",
    "import time\n",
    "import pylab as pl\n"
   ]
  },
  {
   "cell_type": "code",
   "execution_count": 3,
   "metadata": {
    "ExecuteTime": {
     "end_time": "2019-02-04T10:55:26.203831Z",
     "start_time": "2019-02-04T10:55:26.109376Z"
    }
   },
   "outputs": [],
   "source": [
    "cities = pd.read_csv('input/cities.csv')"
   ]
  },
  {
   "cell_type": "code",
   "execution_count": 4,
   "metadata": {
    "ExecuteTime": {
     "end_time": "2019-02-04T10:55:26.718942Z",
     "start_time": "2019-02-04T10:55:26.692815Z"
    }
   },
   "outputs": [
    {
     "data": {
      "text/plain": [
       "316.83673906150904"
      ]
     },
     "execution_count": 4,
     "metadata": {},
     "output_type": "execute_result"
    }
   ],
   "source": [
    "cities.X[0]"
   ]
  },
  {
   "cell_type": "code",
   "execution_count": 3,
   "metadata": {
    "ExecuteTime": {
     "end_time": "2018-12-09T04:48:25.150354Z",
     "start_time": "2018-12-09T02:46:28.192040Z"
    }
   },
   "outputs": [
    {
     "name": "stdout",
     "output_type": "stream",
     "text": [
      "7316.548758029938\n",
      "True\n"
     ]
    }
   ],
   "source": [
    "# Instantiate solver\n",
    "solver = TSPSolver.from_data(\n",
    "    cities.X,\n",
    "    cities.Y,\n",
    "    norm=\"EUC_2D\"\n",
    ")\n",
    "\n",
    "t = time.time()\n",
    "tour_data = solver.solve(time_bound = 60.0, verbose = True, random_seed = 42) # solve() doesn't seem to respect time_bound for certain values?\n",
    "print(time.time() - t)\n",
    "print(tour_data.found_tour)\n",
    "\n",
    "#tour_data.tour"
   ]
  },
  {
   "cell_type": "code",
   "execution_count": 11,
   "metadata": {
    "ExecuteTime": {
     "end_time": "2018-12-09T04:50:45.749016Z",
     "start_time": "2018-12-09T04:50:45.744862Z"
    }
   },
   "outputs": [
    {
     "data": {
      "text/plain": [
       "0"
      ]
     },
     "execution_count": 11,
     "metadata": {},
     "output_type": "execute_result"
    }
   ],
   "source": [
    "tour_data.tour.max()"
   ]
  },
  {
   "cell_type": "code",
   "execution_count": 4,
   "metadata": {
    "ExecuteTime": {
     "end_time": "2018-12-09T04:48:36.426758Z",
     "start_time": "2018-12-09T04:48:25.153502Z"
    }
   },
   "outputs": [
    {
     "data": {
      "image/png": "[encoded data removed]",
      "text/plain": [
       "<matplotlib.figure.Figure at 0x7f0bf93397f0>"
      ]
     },
     "metadata": {},
     "output_type": "display_data"
    }
   ],
   "source": [
    "pd.DataFrame({'Path': np.append(tour_data.tour,[0])}).to_csv('submission.csv', index=False)\n",
    "\n",
    "# Plot tour\n",
    "lines = [[(cities.X[tour_data.tour[i]],cities.Y[tour_data.tour[i]]),(cities.X[tour_data.tour[i+1]],cities.Y[tour_data.tour[i+1]])] for i in range(0,len(cities)-1)]\n",
    "lc = mc.LineCollection(lines, linewidths=2)\n",
    "fig, ax = pl.subplots(figsize=(20,20))\n",
    "ax.set_aspect('equal')\n",
    "ax.add_collection(lc)\n",
    "ax.autoscale()"
   ]
  },
  {
   "cell_type": "code",
   "execution_count": 7,
   "metadata": {
    "ExecuteTime": {
     "end_time": "2018-12-11T07:51:42.454558Z",
     "start_time": "2018-12-11T07:51:42.452014Z"
    }
   },
   "outputs": [],
   "source": [
    "import math\n",
    "from sympy import isprime"
   ]
  },
  {
   "cell_type": "code",
   "execution_count": 8,
   "metadata": {
    "ExecuteTime": {
     "end_time": "2018-12-11T07:51:43.225944Z",
     "start_time": "2018-12-11T07:51:43.222618Z"
    }
   },
   "outputs": [],
   "source": [
    "def distance(x1, y1, x2, y2, prev_is_prime, is_10th):\n",
    "    # Every 10th step is 10% more lengthy unless coming from a prime CityId.\n",
    "    cost_factor = 1.1 if is_10th and not prev_is_prime else 1.0\n",
    "    return math.sqrt((x2 - x1) ** 2 + (y2 - y1) ** 2) * cost_factor"
   ]
  },
  {
   "cell_type": "code",
   "execution_count": 9,
   "metadata": {
    "ExecuteTime": {
     "end_time": "2018-12-11T07:51:44.029162Z",
     "start_time": "2018-12-11T07:51:44.015773Z"
    }
   },
   "outputs": [],
   "source": [
    "# The function to calculate score.\n",
    "# The beginning and end of the paths must be City'0'.\n",
    "\n",
    "def calculate_score(paths, cities_df):\n",
    "    cities_df['IsPrime'] = cities_df['CityId'].apply(isprime)\n",
    "    cities_df_dict = cities_df.to_dict()\n",
    "\n",
    "    sum_distance = 0\n",
    "    prev_x, prev_y = cities_df_dict['X'][0], cities_df_dict['Y'][0]\n",
    "    prev_is_prime = False\n",
    "\n",
    "    for i, city in enumerate(paths):\n",
    "        x, y = cities_df_dict['X'][city], cities_df_dict['Y'][city]\n",
    "        is_prime = cities_df_dict['IsPrime'][city]\n",
    "\n",
    "        sum_distance += distance(prev_x, prev_y, x, y, prev_is_prime, i % 10 == 0)\n",
    "        prev_x, prev_y = x, y\n",
    "        prev_is_prime = is_prime\n",
    "\n",
    "    return sum_distance"
   ]
  },
  {
   "cell_type": "code",
   "execution_count": 10,
   "metadata": {
    "ExecuteTime": {
     "end_time": "2018-12-11T07:51:45.789313Z",
     "start_time": "2018-12-11T07:51:45.134291Z"
    }
   },
   "outputs": [
    {
     "name": "stdout",
     "output_type": "stream",
     "text": [
      "1518043.4728760002\n"
     ]
    }
   ],
   "source": [
    "cities_df = pd.read_csv(\"input/cities.csv\")\n",
    "submission = pd.read_csv('submission.csv')\n",
    "\n",
    "score = calculate_score(submission['Path'], cities_df)\n",
    "print(score)"
   ]
  },
  {
   "cell_type": "code",
   "execution_count": 11,
   "metadata": {
    "ExecuteTime": {
     "end_time": "2018-12-11T07:51:48.361075Z",
     "start_time": "2018-12-11T07:51:48.353618Z"
    }
   },
   "outputs": [
    {
     "data": {
      "text/html": [
       "<div>\n",
       "<style scoped>\n",
       "    .dataframe tbody tr th:only-of-type {\n",
       "        vertical-align: middle;\n",
       "    }\n",
       "\n",
       "    .dataframe tbody tr th {\n",
       "        vertical-align: top;\n",
       "    }\n",
       "\n",
       "    .dataframe thead th {\n",
       "        text-align: right;\n",
       "    }\n",
       "</style>\n",
       "<table border=\"1\" class=\"dataframe\">\n",
       "  <thead>\n",
       "    <tr style=\"text-align: right;\">\n",
       "      <th></th>\n",
       "      <th>CityId</th>\n",
       "      <th>X</th>\n",
       "      <th>Y</th>\n",
       "      <th>IsPrime</th>\n",
       "    </tr>\n",
       "  </thead>\n",
       "  <tbody>\n",
       "    <tr>\n",
       "      <th>0</th>\n",
       "      <td>0</td>\n",
       "      <td>316.836739</td>\n",
       "      <td>2202.340707</td>\n",
       "      <td>False</td>\n",
       "    </tr>\n",
       "    <tr>\n",
       "      <th>1</th>\n",
       "      <td>1</td>\n",
       "      <td>4377.405972</td>\n",
       "      <td>336.602082</td>\n",
       "      <td>False</td>\n",
       "    </tr>\n",
       "    <tr>\n",
       "      <th>2</th>\n",
       "      <td>2</td>\n",
       "      <td>3454.158198</td>\n",
       "      <td>2820.053011</td>\n",
       "      <td>True</td>\n",
       "    </tr>\n",
       "    <tr>\n",
       "      <th>3</th>\n",
       "      <td>3</td>\n",
       "      <td>4688.099298</td>\n",
       "      <td>2935.898056</td>\n",
       "      <td>True</td>\n",
       "    </tr>\n",
       "    <tr>\n",
       "      <th>4</th>\n",
       "      <td>4</td>\n",
       "      <td>1010.696952</td>\n",
       "      <td>3236.750989</td>\n",
       "      <td>False</td>\n",
       "    </tr>\n",
       "  </tbody>\n",
       "</table>\n",
       "</div>"
      ],
      "text/plain": [
       "   CityId            X            Y  IsPrime\n",
       "0       0   316.836739  2202.340707    False\n",
       "1       1  4377.405972   336.602082    False\n",
       "2       2  3454.158198  2820.053011     True\n",
       "3       3  4688.099298  2935.898056     True\n",
       "4       4  1010.696952  3236.750989    False"
      ]
     },
     "execution_count": 11,
     "metadata": {},
     "output_type": "execute_result"
    }
   ],
   "source": [
    "cities_df.head()"
   ]
  },
  {
   "cell_type": "code",
   "execution_count": 13,
   "metadata": {
    "ExecuteTime": {
     "end_time": "2018-12-11T08:17:02.193866Z",
     "start_time": "2018-12-11T08:17:02.186647Z"
    }
   },
   "outputs": [
    {
     "data": {
      "text/html": [
       "<div>\n",
       "<style scoped>\n",
       "    .dataframe tbody tr th:only-of-type {\n",
       "        vertical-align: middle;\n",
       "    }\n",
       "\n",
       "    .dataframe tbody tr th {\n",
       "        vertical-align: top;\n",
       "    }\n",
       "\n",
       "    .dataframe thead th {\n",
       "        text-align: right;\n",
       "    }\n",
       "</style>\n",
       "<table border=\"1\" class=\"dataframe\">\n",
       "  <thead>\n",
       "    <tr style=\"text-align: right;\">\n",
       "      <th></th>\n",
       "      <th>Path</th>\n",
       "    </tr>\n",
       "  </thead>\n",
       "  <tbody>\n",
       "    <tr>\n",
       "      <th>0</th>\n",
       "      <td>0</td>\n",
       "    </tr>\n",
       "    <tr>\n",
       "      <th>1</th>\n",
       "      <td>78934</td>\n",
       "    </tr>\n",
       "    <tr>\n",
       "      <th>2</th>\n",
       "      <td>111804</td>\n",
       "    </tr>\n",
       "    <tr>\n",
       "      <th>3</th>\n",
       "      <td>52086</td>\n",
       "    </tr>\n",
       "    <tr>\n",
       "      <th>4</th>\n",
       "      <td>89712</td>\n",
       "    </tr>\n",
       "  </tbody>\n",
       "</table>\n",
       "</div>"
      ],
      "text/plain": [
       "     Path\n",
       "0       0\n",
       "1   78934\n",
       "2  111804\n",
       "3   52086\n",
       "4   89712"
      ]
     },
     "execution_count": 13,
     "metadata": {},
     "output_type": "execute_result"
    }
   ],
   "source": [
    "submission.head()"
   ]
  },
  {
   "cell_type": "code",
   "execution_count": null,
   "metadata": {},
   "outputs": [],
   "source": []
  }
 ],
 "metadata": {
  "kernelspec": {
   "display_name": "py36",
   "language": "python",
   "name": "py36"
  },
  "language_info": {
   "codemirror_mode": {
    "name": "ipython",
    "version": 3
   },
   "file_extension": ".py",
   "mimetype": "text/x-python",
   "name": "python",
   "nbconvert_exporter": "python",
   "pygments_lexer": "ipython3",
   "version": "3.6.4"
  }
 },
 "nbformat": 4,
 "nbformat_minor": 2
}
