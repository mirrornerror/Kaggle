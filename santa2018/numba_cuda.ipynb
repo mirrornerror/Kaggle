{
 "cells": [
  {
   "cell_type": "markdown",
   "metadata": {},
   "source": [
    "https://www.kaggle.com/nagadomi/gpu-shuffle-numba-cuda"
   ]
  },
  {
   "cell_type": "code",
   "execution_count": 1,
   "metadata": {
    "ExecuteTime": {
     "end_time": "2018-12-29T06:39:36.242739Z",
     "start_time": "2018-12-29T06:39:35.373961Z"
    }
   },
   "outputs": [],
   "source": [
    "import os\n",
    "# set env for numba.cuda\n",
    "os.environ['NUMBAPRO_NVVM']='/usr/local/cuda/nvvm/lib64/libnvvm.so' \n",
    "os.environ['NUMBAPRO_LIBDEVICE']='/usr/local/cuda/nvvm/libdevice/'\n",
    "\n",
    "import numpy as np\n",
    "import pandas as pd\n",
    "import time\n",
    "import math\n",
    "import numba\n",
    "from numba import cuda\n",
    "import sympy\n",
    "from sympy.utilities.iterables import multiset_permutations\n",
    "from tqdm import tqdm\n"
   ]
  },
  {
   "cell_type": "code",
   "execution_count": 2,
   "metadata": {
    "ExecuteTime": {
     "end_time": "2018-12-29T06:39:36.262210Z",
     "start_time": "2018-12-29T06:39:36.244118Z"
    }
   },
   "outputs": [],
   "source": [
    "# load\n",
    "def load_cities(filename):\n",
    "    cities = pd.read_csv(filename)\n",
    "    city_id = cities.CityId.astype(np.int32)\n",
    "    loc = np.vstack([cities.X.astype(np.float32), cities.Y.astype(np.float32)]).transpose()\n",
    "    is_prime = np.array([1 if sympy.isprime(i) else 0 for i in city_id], dtype=np.int32)\n",
    "    return (city_id, loc, is_prime)\n",
    "\n",
    "def load_tour(filename):\n",
    "    tour = pd.read_csv(filename)\n",
    "    tour = tour.Path.values.astype(np.int32)\n",
    "    return tour\n",
    "\n",
    "# save\n",
    "def save_tour(filename, tour):\n",
    "    with open(filename, \"w\") as f:\n",
    "        f.write(\"Path\\n\")\n",
    "        for i in tour:\n",
    "            f.write(str(i))\n",
    "            f.write(\"\\n\")"
   ]
  },
  {
   "cell_type": "code",
   "execution_count": 3,
   "metadata": {
    "ExecuteTime": {
     "end_time": "2018-12-29T06:39:36.752931Z",
     "start_time": "2018-12-29T06:39:36.263332Z"
    }
   },
   "outputs": [],
   "source": [
    "# cost function for santa 2018\n",
    "\n",
    "@numba.jit('f4(f4[:], f4[:])', nopython=True)\n",
    "def euc_2d(a, b):\n",
    "    xd = a[0] - b[0]\n",
    "    yd = a[1] - b[1]\n",
    "    return math.sqrt(xd * xd + yd * yd)\n",
    "\n",
    "@numba.jit('f8(i4[:], f4[:,:], i4[:])', nopython=True, parallel=True)\n",
    "def cost_santa2018(tour, loc, is_prime):\n",
    "    dist = 0.0\n",
    "    for i in numba.prange(1, tour.shape[0]):\n",
    "        a = tour[i - 1]\n",
    "        b = tour[i]\n",
    "        d = euc_2d(loc[a], loc[b])\n",
    "        if i % 10 == 0 and is_prime[a] == 0:\n",
    "            d *= 1.1\n",
    "        dist += d\n",
    "    return dist\n"
   ]
  },
  {
   "cell_type": "code",
   "execution_count": 4,
   "metadata": {
    "ExecuteTime": {
     "end_time": "2018-12-29T06:39:36.849189Z",
     "start_time": "2018-12-29T06:39:36.754193Z"
    }
   },
   "outputs": [],
   "source": [
    "# finetune\n",
    "def gen_subprobs(n, k):\n",
    "    return np.array([[i, i + k] for i in range(n - k + 1)], dtype=np.int32)\n",
    "\n",
    "@numba.jit\n",
    "def gen_perms(k):\n",
    "    idx = np.arange(1, k - 1, dtype=np.int32)\n",
    "    perm_pad = np.empty((math.factorial(k - 2), k), dtype=np.int32)\n",
    "    perm_pad[:, 0] = 0\n",
    "    perm_pad[:, 1:-1] = list(multiset_permutations(idx))\n",
    "    perm_pad[:, -1] = k - 1\n",
    "    return perm_pad\n",
    "\n",
    "@numba.jit('f4(i4[:], f4[:,:], i4[:], i4[:])', nopython=True)\n",
    "def subprob_cost(tour, dist_mat, s_10th, s_prime):\n",
    "    dist = 0.0\n",
    "    for t in range(1, tour.shape[0]):\n",
    "        i = tour[t - 1]\n",
    "        j = tour[t]\n",
    "        d = dist_mat[i][j]\n",
    "        if s_10th[t] != 0 and s_prime[i] != 0:\n",
    "            d *= 1.1\n",
    "        dist += d\n",
    "    return dist"
   ]
  },
  {
   "cell_type": "code",
   "execution_count": 5,
   "metadata": {
    "ExecuteTime": {
     "end_time": "2018-12-29T06:39:36.864775Z",
     "start_time": "2018-12-29T06:39:36.850657Z"
    }
   },
   "outputs": [],
   "source": [
    "@cuda.jit\n",
    "def subprob_cost_gpu(min_index, min_value, tours, s_dist_mat, s_10th, s_prime):\n",
    "    index = cuda.grid(1)\n",
    "    dist = 0.0\n",
    "    if index < tours.shape[0]:\n",
    "        tour = tours[index]\n",
    "        for t in range(1, tour.shape[0]):\n",
    "            i = tour[t - 1]\n",
    "            j = tour[t]\n",
    "            dist += s_dist_mat[i][j] + (s_10th[t] * s_prime[i] * 0.1 * s_dist_mat[i][j])\n",
    "        cuda.atomic.min(min_value, 0, dist)\n",
    "    cuda.syncthreads()\n",
    "    if abs(min_value[0] - dist) < 1.0e-5:\n",
    "        min_index[0] = index\n"
   ]
  },
  {
   "cell_type": "code",
   "execution_count": 6,
   "metadata": {
    "ExecuteTime": {
     "end_time": "2018-12-29T06:39:36.926169Z",
     "start_time": "2018-12-29T06:39:36.865862Z"
    }
   },
   "outputs": [],
   "source": [
    "@numba.jit\n",
    "def finetune_(best_improvement, best_perm, k, subprobs, tour, loc, is_prime, perm):\n",
    "    updated = 0\n",
    "    init_tour = np.arange(k).astype(np.int32)\n",
    "    perm_gpu = cuda.to_device(perm)\n",
    "    for t in tqdm(range(subprobs.shape[0]), ncols=80):\n",
    "        idx = np.arange(subprobs[t][0], subprobs[t][1]).astype(np.int32)\n",
    "        s_loc = loc[tour[idx]]\n",
    "        s_prime = (1 - is_prime[tour[idx]]).astype(np.int32)\n",
    "        s_10th = np.empty((k,), dtype=np.int32)\n",
    "        s_dist_mat = np.empty((k, k), dtype=np.float32)\n",
    "        for i in range(k):\n",
    "            s_10th[i] = 1 if (i + idx[0]) % 10 == 0 else 0\n",
    "        for i in range(k):\n",
    "            for j in range(i + 1, k):\n",
    "                s_dist_mat[i][j] = s_dist_mat[j][i] = euc_2d(s_loc[i], s_loc[j])\n",
    "\n",
    "        # brute force\n",
    "        init_cost = subprob_cost(init_tour, s_dist_mat, s_10th, s_prime)\n",
    "        min_value = np.empty((1,), dtype=np.float32)\n",
    "        min_index = np.empty((1,), dtype=np.int32)\n",
    "        min_value[0] = 100000.0\n",
    "        min_index[0] = 0\n",
    "        threadsperblock = 512\n",
    "        blockspergrid = (perm.shape[0] + (threadsperblock - 1)) // threadsperblock\n",
    "        subprob_cost_gpu[blockspergrid, threadsperblock](min_index, min_value, perm_gpu, s_dist_mat, s_10th.astype(np.float32), s_prime.astype(np.float32))\n",
    "\n",
    "        best_index = min_index[0]\n",
    "        delta = init_cost - min_value[0]\n",
    "        if delta > 1e-4:\n",
    "            # found improvement\n",
    "            best_perm[t][0] = idx\n",
    "            best_perm[t][1] = idx[perm[best_index]]\n",
    "            best_improvement[t] = delta\n",
    "            updated += 1\n",
    "    return updated"
   ]
  },
  {
   "cell_type": "code",
   "execution_count": 7,
   "metadata": {
    "ExecuteTime": {
     "end_time": "2018-12-29T06:39:36.951865Z",
     "start_time": "2018-12-29T06:39:36.927412Z"
    }
   },
   "outputs": [],
   "source": [
    "def finetune(k, subprobs, tour, loc, is_prime, perm):\n",
    "    updated = 0\n",
    "    # numba does not seem to have get_thread_id() or lock(), so allocate extra buffers for threads\n",
    "    best_perm = np.empty((subprobs.shape[0], 2, k), dtype=np.int32)\n",
    "    best_improvement = np.zeros((subprobs.shape[0],), dtype=np.float32)\n",
    "    # finetune\n",
    "    finetune_(best_improvement, best_perm, k, subprobs, tour, loc, is_prime, perm)\n",
    "    # update tour\n",
    "    used = []\n",
    "    updates = np.argsort(best_improvement)[::-1]\n",
    "    for i in updates:\n",
    "        delta = best_improvement[i]\n",
    "        if delta > 0:\n",
    "            s = best_perm[i][0][0]\n",
    "            e = best_perm[i][0][-1]\n",
    "            if any([(r[0] < s and s < r[1]) or (r[0] < e and e < r[1]) for r in used]):\n",
    "                continue\n",
    "            used.append((s, e))\n",
    "            tour[best_perm[i][0]] = tour[best_perm[i][1]]\n",
    "            updated += 1\n",
    "        else:\n",
    "            break\n",
    "    return updated\n"
   ]
  },
  {
   "cell_type": "code",
   "execution_count": 8,
   "metadata": {
    "ExecuteTime": {
     "end_time": "2018-12-29T09:04:54.704856Z",
     "start_time": "2018-12-29T06:39:36.953035Z"
    }
   },
   "outputs": [
    {
     "name": "stdout",
     "output_type": "stream",
     "text": [
      "initial cost 1516737.3985269559\n",
      "** perm=11!\n"
     ]
    },
    {
     "name": "stderr",
     "output_type": "stream",
     "text": [
      "100%|█████████████████████████████████| 197757/197757 [2:24:24<00:00, 22.82it/s]"
     ]
    },
    {
     "name": "stdout",
     "output_type": "stream",
     "text": [
      "cost: 1516713.7676, improvement: 23.6309, found: 83, time: 8665.64\n"
     ]
    },
    {
     "name": "stderr",
     "output_type": "stream",
     "text": [
      "\n"
     ]
    }
   ],
   "source": [
    "# run\n",
    "\n",
    "city_id, loc, is_prime = load_cities(\"input/cities.csv\")\n",
    "# load jazivxt's Winter Avalanche2 result (https://www.kaggle.com/jazivxt/winter-avalanche-2)\n",
    "tour = load_tour(\"submission.csv\")\n",
    "init_cost = cost_santa2018(tour, loc, is_prime)\n",
    "print(\"initial cost\", init_cost)\n",
    "\n",
    "# subprob size + fixed head + fixed tail. 9!=362880, 11!=39916800, 11!/9!=110\n",
    "K = 11 + 2\n",
    "subprobs = gen_subprobs(city_id.shape[0], K)\n",
    "subprob_perms = gen_perms(K)\n",
    "print(\"** perm={}!\".format(K-2))\n",
    "t = time.time()\n",
    "updated = finetune(K, subprobs, tour, loc, is_prime, subprob_perms)\n",
    "cost = cost_santa2018(tour, loc, is_prime)\n",
    "print(\"cost: {:.4f}, improvement: {:.4f}, found: {}, time: {:.2f}\".format(cost, init_cost - cost, updated, time.time() - t))\n"
   ]
  },
  {
   "cell_type": "code",
   "execution_count": 10,
   "metadata": {
    "ExecuteTime": {
     "end_time": "2018-12-29T10:33:35.275425Z",
     "start_time": "2018-12-29T10:33:35.115181Z"
    }
   },
   "outputs": [],
   "source": [
    "save_tour(\"cuda_submission.csv\", tour)"
   ]
  },
  {
   "cell_type": "code",
   "execution_count": null,
   "metadata": {},
   "outputs": [],
   "source": []
  }
 ],
 "metadata": {
  "kernelspec": {
   "display_name": "py36",
   "language": "python",
   "name": "py36"
  },
  "language_info": {
   "codemirror_mode": {
    "name": "ipython",
    "version": 3
   },
   "file_extension": ".py",
   "mimetype": "text/x-python",
   "name": "python",
   "nbconvert_exporter": "python",
   "pygments_lexer": "ipython3",
   "version": "3.6.4"
  }
 },
 "nbformat": 4,
 "nbformat_minor": 2
}
