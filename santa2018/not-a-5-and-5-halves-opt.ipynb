{
 "cells": [
  {
   "cell_type": "markdown",
   "metadata": {},
   "source": [
    "https://www.kaggle.com/kostyaatarik/not-a-5-and-5-halves-opt"
   ]
  },
  {
   "cell_type": "code",
   "execution_count": 7,
   "metadata": {
    "ExecuteTime": {
     "end_time": "2019-01-06T18:56:52.032114Z",
     "start_time": "2019-01-06T18:56:52.027546Z"
    }
   },
   "outputs": [],
   "source": [
    "import numpy as np\n",
    "import pandas as pd\n",
    "import numba\n",
    "from sympy import isprime, primerange\n",
    "from math import sqrt\n",
    "from sklearn.neighbors import KDTree\n",
    "from tqdm import tqdm_notebook as tqdm\n",
    "from itertools import combinations, permutations\n",
    "from functools import lru_cache"
   ]
  },
  {
   "cell_type": "code",
   "execution_count": 8,
   "metadata": {
    "ExecuteTime": {
     "end_time": "2019-01-06T18:56:52.421590Z",
     "start_time": "2019-01-06T18:56:52.033361Z"
    }
   },
   "outputs": [],
   "source": [
    "cities = pd.read_csv('input/cities.csv', index_col=['CityId'])\n",
    "XY = np.stack((cities.X.astype(np.float32), cities.Y.astype(np.float32)), axis=1)\n",
    "is_not_prime = np.array([0 if isprime(i) else 1 for i in cities.index], dtype=np.int32)"
   ]
  },
  {
   "cell_type": "code",
   "execution_count": 9,
   "metadata": {
    "ExecuteTime": {
     "end_time": "2019-01-06T18:56:52.879502Z",
     "start_time": "2019-01-06T18:56:52.422722Z"
    }
   },
   "outputs": [],
   "source": [
    "@numba.jit('f8(i8, i8, i8)', nopython=True, parallel=False)\n",
    "def cities_distance(offset, id_from, id_to):\n",
    "    xy_from, xy_to = XY[id_from], XY[id_to]\n",
    "    dx, dy = xy_from[0] - xy_to[0], xy_from[1] - xy_to[1]\n",
    "    distance = sqrt(dx * dx + dy * dy)\n",
    "    if offset % 10 == 9 and is_not_prime[id_from]:\n",
    "        return 1.1 * distance\n",
    "    return distance\n",
    "\n",
    "\n",
    "@numba.jit('f8(i4, i8[:])', nopython=True, parallel=False)\n",
    "def score_chunk(offset, chunk):\n",
    "    pure_distance, penalty = 0.0, 0.0\n",
    "    penalty_modulo = 9 - offset % 10\n",
    "    for path_index in numba.prange(chunk.shape[0] - 1):\n",
    "        id_from, id_to = chunk[path_index], chunk[path_index+1]\n",
    "        xy_from, xy_to = XY[id_from], XY[id_to]\n",
    "        dx, dy = xy_from[0] - xy_to[0], xy_from[1] - xy_to[1]\n",
    "        distance = sqrt(dx * dx + dy * dy)\n",
    "        pure_distance += distance\n",
    "        if path_index % 10 == penalty_modulo and is_not_prime[id_from]:\n",
    "            penalty += distance\n",
    "    return pure_distance + 0.1 * penalty\n",
    "\n",
    "\n",
    "@numba.jit('f8(i8[:])', nopython=True, parallel=False)\n",
    "def score_path(path):\n",
    "    return score_chunk(0, path)\n",
    "\n",
    "\n",
    "@numba.jit\n",
    "def chunk_scores(chunk):\n",
    "    scores = np.zeros(10)\n",
    "    pure_distance = 0\n",
    "    for i in numba.prange(chunk.shape[0] - 1):\n",
    "        id_from, id_to = chunk[i], chunk[i+1]\n",
    "        xy_from, xy_to = XY[id_from], XY[id_to]\n",
    "        dx, dy = xy_from[0] - xy_to[0], xy_from[1] - xy_to[1]\n",
    "        distance = sqrt(dx * dx + dy * dy)\n",
    "        pure_distance += distance\n",
    "        if is_not_prime[id_from]:\n",
    "            scores[9-i%10] += distance\n",
    "    scores *= 0.1\n",
    "    scores += pure_distance\n",
    "    return scores"
   ]
  },
  {
   "cell_type": "code",
   "execution_count": 10,
   "metadata": {
    "ExecuteTime": {
     "end_time": "2019-01-06T18:56:53.086393Z",
     "start_time": "2019-01-06T18:56:52.880954Z"
    }
   },
   "outputs": [],
   "source": [
    "@numba.jit('f8(i8, i8, i8[:], i8[:], i8[:], i8, f8[:,:], i8[:])', nopython=True, parallel=False)\n",
    "def score_compound_chunk(offset, head, firsts, lasts, lens, tail, scores, indexes):\n",
    "    score = 0.0\n",
    "    last_city_id = head\n",
    "    for i in numba.prange(len(indexes)):\n",
    "        index = indexes[i]\n",
    "        first, last, chunk_len = firsts[index], lasts[index], lens[index]\n",
    "        score += cities_distance(offset, last_city_id, first)\n",
    "        score += scores[index, (offset + 1) % 10]\n",
    "        last_city_id = last\n",
    "        offset += chunk_len\n",
    "    return score + cities_distance(offset, last_city_id, tail)\n",
    "\n",
    "\n",
    "@numba.jit('i8(i8, i8, i8[:], i8[:], i8[:], i8, f8[:,:], i8[:,:], f8)', nopython=True, parallel=False)\n",
    "def best_score_permutation_index(offset, head, firsts, lasts, lens, tail, scores, indexes, best_score):\n",
    "    best_index = -1\n",
    "    for i in numba.prange(len(indexes)):\n",
    "        score = score_compound_chunk(offset, head, firsts, lasts, lens, tail, scores, indexes[i])\n",
    "        if score < best_score:\n",
    "            best_index, best_score = i, score\n",
    "    return best_index"
   ]
  },
  {
   "cell_type": "code",
   "execution_count": 11,
   "metadata": {
    "ExecuteTime": {
     "end_time": "2019-01-06T19:01:45.801497Z",
     "start_time": "2019-01-06T18:56:53.087634Z"
    }
   },
   "outputs": [
    {
     "data": {
      "application/vnd.jupyter.widget-view+json": {
       "model_id": "ba1744192e2b4a35a091955e5b6e7625",
       "version_major": 2,
       "version_minor": 0
      },
      "text/plain": [
       "HBox(children=(IntProgress(value=0, max=197769), HTML(value='')))"
      ]
     },
     "metadata": {},
     "output_type": "display_data"
    },
    {
     "name": "stdout",
     "output_type": "stream",
     "text": [
      "\n",
      "58610820 cities fives are selected.\n"
     ]
    },
    {
     "data": {
      "application/vnd.jupyter.widget-view+json": {
       "model_id": "7c2f9faf2e30423cacd60010a23860f3",
       "version_major": 2,
       "version_minor": 0
      },
      "text/plain": [
       "HBox(children=(IntProgress(value=0, max=58610820), HTML(value='')))"
      ]
     },
     "metadata": {},
     "output_type": "display_data"
    },
    {
     "name": "stdout",
     "output_type": "stream",
     "text": [
      "\n"
     ]
    }
   ],
   "source": [
    "kdt = KDTree(XY)\n",
    "\n",
    "fives = set()\n",
    "for i in tqdm(cities.index):\n",
    "    dists, neibs = kdt.query([XY[i]], 9)\n",
    "    for comb in combinations(neibs[0], 5):\n",
    "        if all(comb):\n",
    "            fives.add(tuple(sorted(comb)))\n",
    "    neibs = kdt.query_radius([XY[i]], 10, count_only=False, return_distance=False)\n",
    "    for comb in combinations(neibs[0], 5):\n",
    "        if all(comb):\n",
    "            fives.add(tuple(sorted(comb)))\n",
    "            \n",
    "print(f'{len(fives)} cities fives are selected.')\n",
    "\n",
    "# sort fives by distance\n",
    "@numba.jit('f8(i8[:])', nopython=True, parallel=False)\n",
    "def sum_distance(ids):\n",
    "    res = 0\n",
    "    for i in numba.prange(len(ids)):\n",
    "        for j in numba.prange(i + 1, len(ids)):\n",
    "            res += cities_distance(0, ids[i], ids[j])\n",
    "    return res\n",
    "\n",
    "fives = np.array(list(fives))\n",
    "distances = np.array(list(map(sum_distance, tqdm(fives))))\n",
    "order = distances.argsort()\n",
    "fives = fives[order]"
   ]
  },
  {
   "cell_type": "code",
   "execution_count": 12,
   "metadata": {
    "ExecuteTime": {
     "end_time": "2019-01-06T19:01:45.826684Z",
     "start_time": "2019-01-06T19:01:45.802776Z"
    }
   },
   "outputs": [
    {
     "data": {
      "text/plain": [
       "1516242.649857092"
      ]
     },
     "execution_count": 12,
     "metadata": {},
     "output_type": "execute_result"
    }
   ],
   "source": [
    "path = np.array(pd.read_csv('submission.csv').Path)\n",
    "score_path(path)"
   ]
  },
  {
   "cell_type": "code",
   "execution_count": 13,
   "metadata": {
    "ExecuteTime": {
     "end_time": "2019-01-06T21:48:31.181625Z",
     "start_time": "2019-01-06T19:01:45.827887Z"
    }
   },
   "outputs": [
    {
     "name": "stdout",
     "output_type": "stream",
     "text": [
      "Total score is 1516242.65.\n"
     ]
    },
    {
     "data": {
      "application/vnd.jupyter.widget-view+json": {
       "model_id": "4475f64659bb4b4bb2933ddc7edff209",
       "version_major": 2,
       "version_minor": 0
      },
      "text/plain": [
       "HBox(children=(IntProgress(value=0, max=2000000), HTML(value='')))"
      ]
     },
     "metadata": {},
     "output_type": "display_data"
    },
    {
     "name": "stdout",
     "output_type": "stream",
     "text": [
      "New total score is 1516242.209. Permutating path at indexes 72473, 72482, 72483, 72485, 72486.\n",
      "New total score is 1516242.127. Permutating path at indexes 72472, 72473, 72474, 72958, 72969.\n",
      "New total score is 1516241.921. Permutating path at indexes 67162, 67163, 67173, 67174, 67178.\n",
      "New total score is 1516241.700. Permutating path at indexes 22682, 22683, 22684, 22686, 22766.\n",
      "New total score is 1516241.444. Permutating path at indexes 82017, 82025, 82026, 82027, 82028.\n",
      "New total score is 1516241.221. Permutating path at indexes 22757, 22758, 22759, 22766, 22767.\n",
      "New total score is 1516240.969. Permutating path at indexes 118124, 118125, 118152, 118153, 118158.\n",
      "New total score is 1516240.474. Permutating path at indexes 31899, 31900, 32762, 32763, 32764.\n",
      "New total score is 1516239.889. Permutating path at indexes 76065, 76069, 76070, 76071, 76207.\n",
      "New total score is 1516239.664. Permutating path at indexes 43085, 43135, 43136, 43137, 43138.\n",
      "New total score is 1516239.480. Permutating path at indexes 21965, 21979, 21980, 21986, 22097.\n",
      "New total score is 1516238.940. Permutating path at indexes 46450, 46458, 46460, 46468, 46511.\n",
      "New total score is 1516238.355. Permutating path at indexes 78698, 78838, 78839, 78840, 78873.\n",
      "New total score is 1516238.018. Permutating path at indexes 78698, 78699, 78728, 78731, 78732.\n",
      "New total score is 1516237.621. Permutating path at indexes 40031, 40300, 40302, 40303, 40304.\n",
      "New total score is 1516237.408. Permutating path at indexes 40014, 40053, 40054, 40055, 40203.\n",
      "New total score is 1516236.751. Permutating path at indexes 9751, 9753, 9754, 9755, 9969.\n",
      "New total score is 1516236.570. Permutating path at indexes 104843, 104866, 104867, 104905, 104906.\n",
      "New total score is 1516236.530. Permutating path at indexes 9839, 9841, 9856, 9857, 9858.\n",
      "New total score is 1516234.536. Permutating path at indexes 103892, 103895, 103896, 105232, 105233.\n",
      "New total score is 1516234.136. Permutating path at indexes 82017, 82028, 82029, 82032, 82042.\n",
      "New total score is 1516233.671. Permutating path at indexes 106648, 106753, 106770, 106771, 106772.\n",
      "New total score is 1516233.566. Permutating path at indexes 97162, 97168, 97169, 97172, 97231.\n",
      "New total score is 1516232.981. Permutating path at indexes 95622, 95635, 95638, 95639, 95721.\n",
      "New total score is 1516232.881. Permutating path at indexes 1629, 1641, 1642, 1643, 1655.\n",
      "New total score is 1516232.503. Permutating path at indexes 49463, 49464, 49465, 49492, 49496.\n",
      "New total score is 1516232.457. Permutating path at indexes 97320, 97322, 97443, 97445, 97447.\n",
      "New total score is 1516232.414. Permutating path at indexes 153038, 153040, 153041, 153042, 153065.\n",
      "New total score is 1516231.758. Permutating path at indexes 103670, 103671, 103704, 103717, 103719.\n",
      "New total score is 1516231.675. Permutating path at indexes 153424, 153460, 153465, 153466, 153467.\n",
      "New total score is 1516231.655. Permutating path at indexes 194663, 194760, 194761, 194762, 194839.\n",
      "New total score is 1516231.613. Permutating path at indexes 105686, 105687, 105700, 105701, 105702.\n",
      "New total score is 1516230.927. Permutating path at indexes 194661, 194662, 194663, 194666, 194743.\n",
      "New total score is 1516230.017. Permutating path at indexes 118868, 118869, 118870, 118893, 119052.\n",
      "New total score is 1516229.234. Permutating path at indexes 58085, 58086, 58087, 58728, 58729.\n",
      "New total score is 1516228.442. Permutating path at indexes 107866, 107908, 107909, 107910, 107944.\n",
      "New total score is 1516228.210. Permutating path at indexes 39937, 39939, 39940, 39942, 39954.\n",
      "New total score is 1516228.207. Permutating path at indexes 72660, 72661, 72662, 72682, 72733.\n",
      "New total score is 1516227.437. Permutating path at indexes 69718, 69769, 69773, 69774, 69803.\n",
      "New total score is 1516227.104. Permutating path at indexes 79438, 79445, 79446, 79471, 79472.\n",
      "New total score is 1516226.751. Permutating path at indexes 121837, 121838, 121887, 121888, 121946.\n",
      "New total score is 1516225.317. Permutating path at indexes 121814, 121837, 121838, 121882, 121944.\n",
      "New total score is 1516224.952. Permutating path at indexes 156535, 156536, 156567, 156683, 156684.\n",
      "New total score is 1516224.510. Permutating path at indexes 67024, 67025, 67049, 67050, 67053.\n",
      "New total score is 1516224.268. Permutating path at indexes 14952, 14955, 14956, 14957, 15014.\n",
      "New total score is 1516223.945. Permutating path at indexes 43147, 43152, 43154, 43298, 43299.\n",
      "New total score is 1516223.941. Permutating path at indexes 59461, 59614, 59638, 60874, 60875.\n",
      "New total score is 1516223.248. Permutating path at indexes 113692, 113702, 113703, 113704, 113710.\n",
      "New total score is 1516222.994. Permutating path at indexes 23221, 23222, 23230, 23231, 23232.\n",
      "New total score is 1516222.974. Permutating path at indexes 43207, 43265, 43266, 43267, 43268.\n",
      "New total score is 1516222.429. Permutating path at indexes 23224, 23226, 23231, 23232, 23237.\n",
      "New total score is 1516222.255. Permutating path at indexes 43176, 43177, 43197, 43198, 43199.\n",
      "New total score is 1516222.212. Permutating path at indexes 121636, 121660, 121662, 121663, 121664.\n",
      "New total score is 1516221.629. Permutating path at indexes 114664, 114697, 114698, 114699, 114849.\n",
      "New total score is 1516221.567. Permutating path at indexes 179102, 179103, 179112, 179113, 179116.\n",
      "New total score is 1516221.549. Permutating path at indexes 3914, 3944, 3945, 3946, 3950.\n",
      "New total score is 1516221.401. Permutating path at indexes 181239, 181241, 181593, 181594, 181595.\n",
      "New total score is 1516221.371. Permutating path at indexes 181490, 181491, 181493, 181495, 181496.\n",
      "New total score is 1516221.031. Permutating path at indexes 3913, 3920, 3922, 3937, 3938.\n",
      "New total score is 1516220.998. Permutating path at indexes 3903, 3904, 3905, 3916, 3917.\n",
      "New total score is 1516220.941. Permutating path at indexes 159771, 159772, 159778, 159779, 159780.\n",
      "New total score is 1516220.808. Permutating path at indexes 193376, 193422, 193424, 193425, 193426.\n",
      "New total score is 1516220.772. Permutating path at indexes 181536, 181541, 181542, 181557, 181558.\n",
      "New total score is 1516220.738. Permutating path at indexes 23224, 23225, 23226, 23227, 23228.\n",
      "New total score is 1516219.758. Permutating path at indexes 179099, 179103, 179104, 179106, 179458.\n",
      "New total score is 1516219.197. Permutating path at indexes 179446, 179447, 179449, 179450, 179455.\n",
      "New total score is 1516219.140. Permutating path at indexes 77527, 77528, 77547, 77548, 77553.\n",
      "New total score is 1516218.865. Permutating path at indexes 103891, 103896, 105222, 105232, 105233.\n",
      "New total score is 1516218.200. Permutating path at indexes 103895, 103896, 103905, 103906, 103907.\n",
      "New total score is 1516217.986. Permutating path at indexes 51657, 51658, 51659, 52033, 52034.\n",
      "New total score is 1516217.876. Permutating path at indexes 3911, 3929, 3931, 3932, 3938.\n",
      "New total score is 1516217.556. Permutating path at indexes 44209, 44239, 44246, 44247, 44375.\n",
      "New total score is 1516217.553. Permutating path at indexes 192040, 192041, 192043, 192044, 192057.\n",
      "New total score is 1516216.907. Permutating path at indexes 55123, 55151, 55185, 55186, 55188.\n",
      "New total score is 1516216.631. Permutating path at indexes 112739, 112746, 112747, 112748, 112760.\n",
      "New total score is 1516216.373. Permutating path at indexes 88674, 88679, 88680, 88681, 88691.\n",
      "New total score is 1516216.317. Permutating path at indexes 13540, 13554, 13555, 13556, 13563.\n",
      "New total score is 1516214.431. Permutating path at indexes 161615, 161802, 161805, 161806, 161814.\n",
      "New total score is 1516214.281. Permutating path at indexes 22026, 22055, 22056, 22057, 22058.\n",
      "New total score is 1516213.899. Permutating path at indexes 182383, 182384, 182385, 182389, 182411.\n",
      "New total score is 1516213.305. Permutating path at indexes 55123, 55124, 55125, 55188, 55226.\n",
      "New total score is 1516212.937. Permutating path at indexes 119863, 119869, 119870, 120083, 120084.\n",
      "New total score is 1516212.573. Permutating path at indexes 45195, 45196, 45199, 45204, 45205.\n",
      "New total score is 1516212.340. Permutating path at indexes 77684, 77685, 77710, 77712, 77773.\n",
      "New total score is 1516211.262. Permutating path at indexes 194869, 194922, 194923, 194924, 194925.\n"
     ]
    },
    {
     "name": "stdout",
     "output_type": "stream",
     "text": [
      "New total score is 1516211.222. Permutating path at indexes 119097, 119218, 119219, 119220, 119225.\n",
      "New total score is 1516210.923. Permutating path at indexes 13541, 13546, 13547, 13563, 13564.\n",
      "New total score is 1516210.806. Permutating path at indexes 84784, 85664, 85665, 85666, 85668.\n",
      "New total score is 1516210.317. Permutating path at indexes 182243, 182249, 182250, 182251, 182263.\n",
      "New total score is 1516209.682. Permutating path at indexes 51852, 51872, 51873, 51874, 51875.\n",
      "New total score is 1516209.019. Permutating path at indexes 50164, 50174, 50175, 50176, 50302.\n",
      "New total score is 1516208.868. Permutating path at indexes 85343, 85371, 85372, 85373, 85374.\n",
      "New total score is 1516208.585. Permutating path at indexes 84785, 84787, 85666, 85667, 85673.\n",
      "New total score is 1516208.155. Permutating path at indexes 111042, 111057, 111058, 111059, 111064.\n",
      "New total score is 1516207.526. Permutating path at indexes 63948, 63952, 64517, 64518, 64519.\n",
      "New total score is 1516207.521. Permutating path at indexes 190963, 191153, 191154, 191155, 191156.\n",
      "New total score is 1516207.144. Permutating path at indexes 105022, 105025, 105026, 105027, 105055.\n",
      "New total score is 1516206.643. Permutating path at indexes 6373, 6374, 6375, 6376, 6423.\n",
      "New total score is 1516206.474. Permutating path at indexes 194577, 194600, 194601, 194602, 194610.\n",
      "New total score is 1516205.921. Permutating path at indexes 119896, 119898, 119899, 119903, 119904.\n",
      "New total score is 1516205.629. Permutating path at indexes 86882, 86901, 86902, 86903, 86924.\n",
      "New total score is 1516204.906. Permutating path at indexes 111593, 111594, 111595, 111597, 111622.\n",
      "New total score is 1516204.519. Permutating path at indexes 153718, 153719, 153801, 153885, 153886.\n",
      "New total score is 1516203.237. Permutating path at indexes 89320, 89391, 89392, 89393, 89476.\n",
      "New total score is 1516203.224. Permutating path at indexes 64056, 64057, 64058, 64064, 64065.\n",
      "New total score is 1516202.818. Permutating path at indexes 3678, 3695, 3696, 3697, 3758.\n",
      "New total score is 1516202.232. Permutating path at indexes 80167, 80173, 80174, 80175, 80219.\n",
      "New total score is 1516201.392. Permutating path at indexes 80171, 80186, 80188, 80204, 80205.\n",
      "New total score is 1516200.905. Permutating path at indexes 23728, 23729, 23730, 23775, 23805.\n",
      "New total score is 1516200.350. Permutating path at indexes 3673, 3675, 3676, 3677, 3678.\n",
      "New total score is 1516200.055. Permutating path at indexes 86516, 86518, 86519, 86520, 86865.\n",
      "New total score is 1516199.814. Permutating path at indexes 74860, 75785, 75787, 75798, 75800.\n",
      "New total score is 1516199.566. Permutating path at indexes 74995, 75023, 75147, 75217, 75218.\n",
      "New total score is 1516199.553. Permutating path at indexes 75455, 75456, 75457, 75463, 75464.\n",
      "New total score is 1516199.530. Permutating path at indexes 75494, 75595, 75596, 75615, 75616.\n",
      "New total score is 1516199.112. Permutating path at indexes 98211, 98213, 98222, 98223, 98224.\n",
      "New total score is 1516198.961. Permutating path at indexes 75448, 75456, 75462, 75464, 75465.\n",
      "New total score is 1516198.931. Permutating path at indexes 118198, 118199, 118200, 118208, 118225.\n",
      "New total score is 1516198.852. Permutating path at indexes 113992, 118196, 118197, 118221, 118222.\n",
      "New total score is 1516198.717. Permutating path at indexes 41914, 41935, 41936, 41937, 41940.\n",
      "New total score is 1516198.628. Permutating path at indexes 35555, 35560, 35561, 35562, 35592.\n",
      "New total score is 1516198.527. Permutating path at indexes 69015, 69017, 69030, 69035, 69036.\n",
      "New total score is 1516196.870. Permutating path at indexes 2627, 3294, 3295, 3296, 3304.\n",
      "New total score is 1516195.652. Permutating path at indexes 2598, 2624, 2625, 2626, 2639.\n",
      "New total score is 1516195.524. Permutating path at indexes 30531, 30537, 30538, 30579, 30590.\n",
      "New total score is 1516194.927. Permutating path at indexes 74424, 74428, 74429, 74430, 74439.\n",
      "New total score is 1516194.748. Permutating path at indexes 35557, 35581, 35585, 35586, 35587.\n",
      "New total score is 1516194.324. Permutating path at indexes 100166, 100168, 100169, 100174, 100186.\n",
      "New total score is 1516194.218. Permutating path at indexes 86253, 86254, 86255, 86275, 86370.\n",
      "New total score is 1516193.934. Permutating path at indexes 81971, 82066, 82067, 82068, 82071.\n",
      "New total score is 1516193.887. Permutating path at indexes 84436, 84440, 84441, 84443, 85046.\n",
      "New total score is 1516193.773. Permutating path at indexes 118637, 118651, 118652, 118653, 118671.\n",
      "\n"
     ]
    },
    {
     "data": {
      "application/vnd.jupyter.widget-view+json": {
       "model_id": "66396bab4c0648a5a6728bce502cf943",
       "version_major": 2,
       "version_minor": 0
      },
      "text/plain": [
       "HBox(children=(IntProgress(value=0, max=2000000), HTML(value='')))"
      ]
     },
     "metadata": {},
     "output_type": "display_data"
    },
    {
     "name": "stdout",
     "output_type": "stream",
     "text": [
      "New total score is 1516193.726. Permutating path at indexes 86683, 86684, 110298, 110300, 110308.\n",
      "New total score is 1516193.674. Permutating path at indexes 86683, 110300, 110306, 110307, 110309.\n",
      "\n"
     ]
    }
   ],
   "source": [
    "@lru_cache(maxsize=None)\n",
    "def indexes_permutations(n):\n",
    "    return np.array(list(map(list, permutations(range(n)))))\n",
    "\n",
    "\n",
    "path_index = np.argsort(path[:-1])\n",
    "print(f'Total score is {score_path(path):.2f}.')\n",
    "for _ in range(2):\n",
    "    for ids in tqdm(fives[:2 * 10**6]):\n",
    "        i1, i2, i3, i4, i5 = np.sort(path_index[ids])\n",
    "        head, tail = path[i1-1], path[i5+1]\n",
    "        chunks = [path[i1:i1+1], path[i1+1:i2], path[i2:i2+1], path[i2+1:i3],\n",
    "                  path[i3:i3+1], path[i3+1:i4], path[i4:i4+1], path[i4+1:i5], path[i5:i5+1]]\n",
    "        chunks = [chunk for chunk in chunks if len(chunk)]\n",
    "        scores = np.array([chunk_scores(chunk) for chunk in chunks])\n",
    "        lens = np.array([len(chunk) for chunk in chunks])\n",
    "        firsts = np.array([chunk[0] for chunk in chunks])\n",
    "        lasts = np.array([chunk[-1] for chunk in chunks])\n",
    "        best_score = score_compound_chunk(i1-1, head, firsts, lasts, lens, tail, scores, indexes_permutations(len(chunks))[0])\n",
    "        index = best_score_permutation_index(i1-1, head, firsts, lasts, lens, tail, scores, indexes_permutations(len(chunks)), best_score)\n",
    "        if index > 0:\n",
    "            perm = [chunks[i] for i in indexes_permutations(len(chunks))[index]]\n",
    "            path[i1-1:i5+2] = np.concatenate([[head], np.concatenate(perm), [tail]])\n",
    "            path_index = np.argsort(path[:-1])\n",
    "            print(f'New total score is {score_path(path):.3f}. Permutating path at indexes {i1}, {i2}, {i3}, {i4}, {i5}.')"
   ]
  },
  {
   "cell_type": "code",
   "execution_count": 14,
   "metadata": {
    "ExecuteTime": {
     "end_time": "2019-01-06T21:49:24.704826Z",
     "start_time": "2019-01-06T21:49:24.452178Z"
    }
   },
   "outputs": [],
   "source": [
    "pd.DataFrame({'Path': path}).to_csv('submission.csv', index=False)"
   ]
  },
  {
   "cell_type": "code",
   "execution_count": null,
   "metadata": {},
   "outputs": [],
   "source": []
  }
 ],
 "metadata": {
  "kernelspec": {
   "display_name": "py36",
   "language": "python",
   "name": "py36"
  },
  "language_info": {
   "codemirror_mode": {
    "name": "ipython",
    "version": 3
   },
   "file_extension": ".py",
   "mimetype": "text/x-python",
   "name": "python",
   "nbconvert_exporter": "python",
   "pygments_lexer": "ipython3",
   "version": "3.6.4"
  }
 },
 "nbformat": 4,
 "nbformat_minor": 2
}
