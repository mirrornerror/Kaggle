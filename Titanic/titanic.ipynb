{
 "cells": [
  {
   "cell_type": "markdown",
   "metadata": {},
   "source": [
    "# Kaggle: Titanic: Machine Learning from Disaster  \n",
    "https://www.kaggle.com/c/titanic"
   ]
  },
  {
   "cell_type": "code",
   "execution_count": 8,
   "metadata": {},
   "outputs": [],
   "source": [
    "import pandas as pd\n",
    "import numpy as np\n",
    "import matplotlib.pyplot as plt\n",
    "%matplotlib inline\n",
    "np.random.seed(123)\n",
    "\n",
    "from tensorflow import set_random_seed\n",
    "set_random_seed(123)\n",
    "\n",
    "train = pd.read_csv('titanic/train.csv', index_col=0)\n",
    "test = pd.read_csv('titanic/test.csv', index_col=0)"
   ]
  },
  {
   "cell_type": "code",
   "execution_count": 3,
   "metadata": {},
   "outputs": [
    {
     "data": {
      "text/html": [
       "<div>\n",
       "<style scoped>\n",
       "    .dataframe tbody tr th:only-of-type {\n",
       "        vertical-align: middle;\n",
       "    }\n",
       "\n",
       "    .dataframe tbody tr th {\n",
       "        vertical-align: top;\n",
       "    }\n",
       "\n",
       "    .dataframe thead th {\n",
       "        text-align: right;\n",
       "    }\n",
       "</style>\n",
       "<table border=\"1\" class=\"dataframe\">\n",
       "  <thead>\n",
       "    <tr style=\"text-align: right;\">\n",
       "      <th></th>\n",
       "      <th>Survived</th>\n",
       "      <th>Pclass</th>\n",
       "      <th>Name</th>\n",
       "      <th>Sex</th>\n",
       "      <th>Age</th>\n",
       "      <th>SibSp</th>\n",
       "      <th>Parch</th>\n",
       "      <th>Ticket</th>\n",
       "      <th>Fare</th>\n",
       "      <th>Cabin</th>\n",
       "      <th>Embarked</th>\n",
       "    </tr>\n",
       "    <tr>\n",
       "      <th>PassengerId</th>\n",
       "      <th></th>\n",
       "      <th></th>\n",
       "      <th></th>\n",
       "      <th></th>\n",
       "      <th></th>\n",
       "      <th></th>\n",
       "      <th></th>\n",
       "      <th></th>\n",
       "      <th></th>\n",
       "      <th></th>\n",
       "      <th></th>\n",
       "    </tr>\n",
       "  </thead>\n",
       "  <tbody>\n",
       "    <tr>\n",
       "      <th>1</th>\n",
       "      <td>0</td>\n",
       "      <td>3</td>\n",
       "      <td>Braund, Mr. Owen Harris</td>\n",
       "      <td>male</td>\n",
       "      <td>22.0</td>\n",
       "      <td>1</td>\n",
       "      <td>0</td>\n",
       "      <td>A/5 21171</td>\n",
       "      <td>7.2500</td>\n",
       "      <td>NaN</td>\n",
       "      <td>S</td>\n",
       "    </tr>\n",
       "    <tr>\n",
       "      <th>2</th>\n",
       "      <td>1</td>\n",
       "      <td>1</td>\n",
       "      <td>Cumings, Mrs. John Bradley (Florence Briggs Th...</td>\n",
       "      <td>female</td>\n",
       "      <td>38.0</td>\n",
       "      <td>1</td>\n",
       "      <td>0</td>\n",
       "      <td>PC 17599</td>\n",
       "      <td>71.2833</td>\n",
       "      <td>C85</td>\n",
       "      <td>C</td>\n",
       "    </tr>\n",
       "    <tr>\n",
       "      <th>3</th>\n",
       "      <td>1</td>\n",
       "      <td>3</td>\n",
       "      <td>Heikkinen, Miss. Laina</td>\n",
       "      <td>female</td>\n",
       "      <td>26.0</td>\n",
       "      <td>0</td>\n",
       "      <td>0</td>\n",
       "      <td>STON/O2. 3101282</td>\n",
       "      <td>7.9250</td>\n",
       "      <td>NaN</td>\n",
       "      <td>S</td>\n",
       "    </tr>\n",
       "    <tr>\n",
       "      <th>4</th>\n",
       "      <td>1</td>\n",
       "      <td>1</td>\n",
       "      <td>Futrelle, Mrs. Jacques Heath (Lily May Peel)</td>\n",
       "      <td>female</td>\n",
       "      <td>35.0</td>\n",
       "      <td>1</td>\n",
       "      <td>0</td>\n",
       "      <td>113803</td>\n",
       "      <td>53.1000</td>\n",
       "      <td>C123</td>\n",
       "      <td>S</td>\n",
       "    </tr>\n",
       "    <tr>\n",
       "      <th>5</th>\n",
       "      <td>0</td>\n",
       "      <td>3</td>\n",
       "      <td>Allen, Mr. William Henry</td>\n",
       "      <td>male</td>\n",
       "      <td>35.0</td>\n",
       "      <td>0</td>\n",
       "      <td>0</td>\n",
       "      <td>373450</td>\n",
       "      <td>8.0500</td>\n",
       "      <td>NaN</td>\n",
       "      <td>S</td>\n",
       "    </tr>\n",
       "  </tbody>\n",
       "</table>\n",
       "</div>"
      ],
      "text/plain": [
       "             Survived  Pclass  \\\n",
       "PassengerId                     \n",
       "1                   0       3   \n",
       "2                   1       1   \n",
       "3                   1       3   \n",
       "4                   1       1   \n",
       "5                   0       3   \n",
       "\n",
       "                                                          Name     Sex   Age  \\\n",
       "PassengerId                                                                    \n",
       "1                                      Braund, Mr. Owen Harris    male  22.0   \n",
       "2            Cumings, Mrs. John Bradley (Florence Briggs Th...  female  38.0   \n",
       "3                                       Heikkinen, Miss. Laina  female  26.0   \n",
       "4                 Futrelle, Mrs. Jacques Heath (Lily May Peel)  female  35.0   \n",
       "5                                     Allen, Mr. William Henry    male  35.0   \n",
       "\n",
       "             SibSp  Parch            Ticket     Fare Cabin Embarked  \n",
       "PassengerId                                                          \n",
       "1                1      0         A/5 21171   7.2500   NaN        S  \n",
       "2                1      0          PC 17599  71.2833   C85        C  \n",
       "3                0      0  STON/O2. 3101282   7.9250   NaN        S  \n",
       "4                1      0            113803  53.1000  C123        S  \n",
       "5                0      0            373450   8.0500   NaN        S  "
      ]
     },
     "execution_count": 3,
     "metadata": {},
     "output_type": "execute_result"
    }
   ],
   "source": [
    "train.head()"
   ]
  },
  {
   "cell_type": "markdown",
   "metadata": {},
   "source": [
    "### Drop Survived and Ticket, then combine train with  test "
   ]
  },
  {
   "cell_type": "code",
   "execution_count": 4,
   "metadata": {
    "scrolled": true
   },
   "outputs": [
    {
     "name": "stdout",
     "output_type": "stream",
     "text": [
      "<class 'pandas.core.frame.DataFrame'>\n",
      "Int64Index: 1309 entries, 1 to 1309\n",
      "Data columns (total 9 columns):\n",
      "Pclass      1309 non-null int64\n",
      "Name        1309 non-null object\n",
      "Sex         1309 non-null object\n",
      "Age         1046 non-null float64\n",
      "SibSp       1309 non-null int64\n",
      "Parch       1309 non-null int64\n",
      "Fare        1308 non-null float64\n",
      "Cabin       295 non-null object\n",
      "Embarked    1307 non-null object\n",
      "dtypes: float64(2), int64(3), object(4)\n",
      "memory usage: 102.3+ KB\n"
     ]
    }
   ],
   "source": [
    "train_tmp = train.drop(['Survived', 'Ticket'], axis=1)\n",
    "test_tmp = test.drop(['Ticket'], axis=1)\n",
    "df = pd.concat([train_tmp, test_tmp])\n",
    "df.info()"
   ]
  },
  {
   "cell_type": "markdown",
   "metadata": {},
   "source": [
    "### Name --> Title --> Number"
   ]
  },
  {
   "cell_type": "code",
   "execution_count": 5,
   "metadata": {},
   "outputs": [
    {
     "name": "stdout",
     "output_type": "stream",
     "text": [
      "['Mr' 'Mrs' 'Miss' 'Master' 'Don' 'Rev' 'Dr' 'Mme' 'Ms' 'Major' 'Lady'\n",
      " 'Sir' 'Mlle' 'Col' 'Capt' 'Countess' 'Jonkheer' 'Dona']\n"
     ]
    }
   ],
   "source": [
    "# Name to Title\n",
    "df = df.assign(Title=df.Name.str.extract(' ([A-Za-z]+)\\..', expand=True))\n",
    "title_list = df.Title.unique()\n",
    "print(title_list)"
   ]
  },
  {
   "cell_type": "code",
   "execution_count": 6,
   "metadata": {},
   "outputs": [
    {
     "data": {
      "text/html": [
       "<div>\n",
       "<style scoped>\n",
       "    .dataframe tbody tr th:only-of-type {\n",
       "        vertical-align: middle;\n",
       "    }\n",
       "\n",
       "    .dataframe tbody tr th {\n",
       "        vertical-align: top;\n",
       "    }\n",
       "\n",
       "    .dataframe thead th {\n",
       "        text-align: right;\n",
       "    }\n",
       "</style>\n",
       "<table border=\"1\" class=\"dataframe\">\n",
       "  <thead>\n",
       "    <tr style=\"text-align: right;\">\n",
       "      <th></th>\n",
       "      <th>Pclass</th>\n",
       "      <th>Sex</th>\n",
       "      <th>Age</th>\n",
       "      <th>SibSp</th>\n",
       "      <th>Parch</th>\n",
       "      <th>Fare</th>\n",
       "      <th>Cabin</th>\n",
       "      <th>Embarked</th>\n",
       "      <th>Title</th>\n",
       "    </tr>\n",
       "    <tr>\n",
       "      <th>PassengerId</th>\n",
       "      <th></th>\n",
       "      <th></th>\n",
       "      <th></th>\n",
       "      <th></th>\n",
       "      <th></th>\n",
       "      <th></th>\n",
       "      <th></th>\n",
       "      <th></th>\n",
       "      <th></th>\n",
       "    </tr>\n",
       "  </thead>\n",
       "  <tbody>\n",
       "    <tr>\n",
       "      <th>1</th>\n",
       "      <td>3</td>\n",
       "      <td>male</td>\n",
       "      <td>22.0</td>\n",
       "      <td>1</td>\n",
       "      <td>0</td>\n",
       "      <td>7.2500</td>\n",
       "      <td>NaN</td>\n",
       "      <td>S</td>\n",
       "      <td>Mr</td>\n",
       "    </tr>\n",
       "    <tr>\n",
       "      <th>2</th>\n",
       "      <td>1</td>\n",
       "      <td>female</td>\n",
       "      <td>38.0</td>\n",
       "      <td>1</td>\n",
       "      <td>0</td>\n",
       "      <td>71.2833</td>\n",
       "      <td>C85</td>\n",
       "      <td>C</td>\n",
       "      <td>Mrs</td>\n",
       "    </tr>\n",
       "    <tr>\n",
       "      <th>3</th>\n",
       "      <td>3</td>\n",
       "      <td>female</td>\n",
       "      <td>26.0</td>\n",
       "      <td>0</td>\n",
       "      <td>0</td>\n",
       "      <td>7.9250</td>\n",
       "      <td>NaN</td>\n",
       "      <td>S</td>\n",
       "      <td>Miss</td>\n",
       "    </tr>\n",
       "    <tr>\n",
       "      <th>4</th>\n",
       "      <td>1</td>\n",
       "      <td>female</td>\n",
       "      <td>35.0</td>\n",
       "      <td>1</td>\n",
       "      <td>0</td>\n",
       "      <td>53.1000</td>\n",
       "      <td>C123</td>\n",
       "      <td>S</td>\n",
       "      <td>Mrs</td>\n",
       "    </tr>\n",
       "    <tr>\n",
       "      <th>5</th>\n",
       "      <td>3</td>\n",
       "      <td>male</td>\n",
       "      <td>35.0</td>\n",
       "      <td>0</td>\n",
       "      <td>0</td>\n",
       "      <td>8.0500</td>\n",
       "      <td>NaN</td>\n",
       "      <td>S</td>\n",
       "      <td>Mr</td>\n",
       "    </tr>\n",
       "  </tbody>\n",
       "</table>\n",
       "</div>"
      ],
      "text/plain": [
       "             Pclass     Sex   Age  SibSp  Parch     Fare Cabin Embarked Title\n",
       "PassengerId                                                                  \n",
       "1                 3    male  22.0      1      0   7.2500   NaN        S    Mr\n",
       "2                 1  female  38.0      1      0  71.2833   C85        C   Mrs\n",
       "3                 3  female  26.0      0      0   7.9250   NaN        S  Miss\n",
       "4                 1  female  35.0      1      0  53.1000  C123        S   Mrs\n",
       "5                 3    male  35.0      0      0   8.0500   NaN        S    Mr"
      ]
     },
     "execution_count": 6,
     "metadata": {},
     "output_type": "execute_result"
    }
   ],
   "source": [
    "# Title to Number(0-17)\n",
    "df.Title = df.Title.replace(df.Title.unique(), np.arange(len(df.Title.unique())))\n",
    "\n",
    "# Drop Name column\n",
    "df = df.drop(['Name'], axis=1)\n",
    "df.head()"
   ]
  },
  {
   "cell_type": "markdown",
   "metadata": {},
   "source": [
    "### Sex --> male:0, female:1"
   ]
  },
  {
   "cell_type": "code",
   "execution_count": 1501,
   "metadata": {
    "scrolled": true
   },
   "outputs": [],
   "source": [
    "df.Sex = df.Sex.replace({'male': 0, 'female': 1})"
   ]
  },
  {
   "cell_type": "markdown",
   "metadata": {},
   "source": [
    "### Cabin --> Number: nan:0, C:1, E:2, G:3, D:4, A:5, B:6, F:7, T:8"
   ]
  },
  {
   "cell_type": "code",
   "execution_count": 1502,
   "metadata": {},
   "outputs": [
    {
     "name": "stdout",
     "output_type": "stream",
     "text": [
      "[nan 'C' 'E' 'G' 'D' 'A' 'B' 'F' 'T']\n",
      "[0 1 2 3 4 5 6 7 8]\n"
     ]
    }
   ],
   "source": [
    "df = df.assign(Cabin=df.Cabin.str[0])\n",
    "cabin_list = df.Cabin.unique()\n",
    "\n",
    "df.Cabin = df.Cabin.replace(df.Cabin.str[0].unique(), np.arange(len(df.Cabin.str[0].unique())))\n",
    "\n",
    "print(cabin_list)\n",
    "print(df.Cabin.unique())"
   ]
  },
  {
   "cell_type": "markdown",
   "metadata": {},
   "source": [
    "### Embarked --> S:0, C:1, Q:2, nan"
   ]
  },
  {
   "cell_type": "code",
   "execution_count": 1503,
   "metadata": {},
   "outputs": [
    {
     "data": {
      "text/plain": [
       "array(['S', 'C', 'Q', nan], dtype=object)"
      ]
     },
     "execution_count": 1503,
     "metadata": {},
     "output_type": "execute_result"
    }
   ],
   "source": [
    "df.Embarked.unique()"
   ]
  },
  {
   "cell_type": "code",
   "execution_count": 1504,
   "metadata": {},
   "outputs": [],
   "source": [
    "df.Embarked = df.Embarked.replace({'S':0, 'C':1, 'Q':2})"
   ]
  },
  {
   "cell_type": "markdown",
   "metadata": {},
   "source": [
    "## zscore or normalization:   \n",
    "* Age: including NaN\n",
    "* Fare: including NaN  \n",
    "  \n",
    "Z = (x - x.mean) / x.std  \n",
    "N = (x - x.min)/(x.max - x.min) \n",
    "  \n",
    "sklearn.preprocessing.MinMaxScaler causes error with Null data."
   ]
  },
  {
   "cell_type": "code",
   "execution_count": 1505,
   "metadata": {},
   "outputs": [],
   "source": [
    "# Normalize Function\n",
    "def normalize(df_col):\n",
    "    df_col = (df_col - df_col.min()) / (df_col.max() - df_col.min())\n",
    "    return df_col"
   ]
  },
  {
   "cell_type": "code",
   "execution_count": 1506,
   "metadata": {},
   "outputs": [],
   "source": [
    "# Standardization(zscore)\n",
    "def zscore(df_col):\n",
    "    df_col = (df_col - df_col.mean()) / df_col.std()\n",
    "    return df_col"
   ]
  },
  {
   "cell_type": "code",
   "execution_count": 1507,
   "metadata": {},
   "outputs": [
    {
     "data": {
      "text/html": [
       "<div>\n",
       "<style scoped>\n",
       "    .dataframe tbody tr th:only-of-type {\n",
       "        vertical-align: middle;\n",
       "    }\n",
       "\n",
       "    .dataframe tbody tr th {\n",
       "        vertical-align: top;\n",
       "    }\n",
       "\n",
       "    .dataframe thead th {\n",
       "        text-align: right;\n",
       "    }\n",
       "</style>\n",
       "<table border=\"1\" class=\"dataframe\">\n",
       "  <thead>\n",
       "    <tr style=\"text-align: right;\">\n",
       "      <th></th>\n",
       "      <th>Pclass</th>\n",
       "      <th>Sex</th>\n",
       "      <th>Age</th>\n",
       "      <th>SibSp</th>\n",
       "      <th>Parch</th>\n",
       "      <th>Fare</th>\n",
       "      <th>Cabin</th>\n",
       "      <th>Embarked</th>\n",
       "      <th>Title_Capt</th>\n",
       "      <th>Title_Col</th>\n",
       "      <th>...</th>\n",
       "      <th>Title_Major</th>\n",
       "      <th>Title_Master</th>\n",
       "      <th>Title_Miss</th>\n",
       "      <th>Title_Mlle</th>\n",
       "      <th>Title_Mme</th>\n",
       "      <th>Title_Mr</th>\n",
       "      <th>Title_Mrs</th>\n",
       "      <th>Title_Ms</th>\n",
       "      <th>Title_Rev</th>\n",
       "      <th>Title_Sir</th>\n",
       "    </tr>\n",
       "  </thead>\n",
       "  <tbody>\n",
       "    <tr>\n",
       "      <th>count</th>\n",
       "      <td>1309.000000</td>\n",
       "      <td>1309.000000</td>\n",
       "      <td>1.046000e+03</td>\n",
       "      <td>1309.000000</td>\n",
       "      <td>1309.000000</td>\n",
       "      <td>1.308000e+03</td>\n",
       "      <td>1309.000000</td>\n",
       "      <td>1307.000000</td>\n",
       "      <td>1309.000000</td>\n",
       "      <td>1309.000000</td>\n",
       "      <td>...</td>\n",
       "      <td>1309.000000</td>\n",
       "      <td>1309.000000</td>\n",
       "      <td>1309.000000</td>\n",
       "      <td>1309.000000</td>\n",
       "      <td>1309.000000</td>\n",
       "      <td>1309.000000</td>\n",
       "      <td>1309.000000</td>\n",
       "      <td>1309.000000</td>\n",
       "      <td>1309.000000</td>\n",
       "      <td>1309.000000</td>\n",
       "    </tr>\n",
       "    <tr>\n",
       "      <th>mean</th>\n",
       "      <td>2.294882</td>\n",
       "      <td>0.355997</td>\n",
       "      <td>9.488904e-17</td>\n",
       "      <td>0.498854</td>\n",
       "      <td>0.385027</td>\n",
       "      <td>-6.049357e-16</td>\n",
       "      <td>0.786860</td>\n",
       "      <td>0.394797</td>\n",
       "      <td>0.000764</td>\n",
       "      <td>0.003056</td>\n",
       "      <td>...</td>\n",
       "      <td>0.001528</td>\n",
       "      <td>0.046600</td>\n",
       "      <td>0.198625</td>\n",
       "      <td>0.001528</td>\n",
       "      <td>0.000764</td>\n",
       "      <td>0.578304</td>\n",
       "      <td>0.150497</td>\n",
       "      <td>0.001528</td>\n",
       "      <td>0.006112</td>\n",
       "      <td>0.000764</td>\n",
       "    </tr>\n",
       "    <tr>\n",
       "      <th>std</th>\n",
       "      <td>0.837836</td>\n",
       "      <td>0.478997</td>\n",
       "      <td>1.000000e+00</td>\n",
       "      <td>1.041658</td>\n",
       "      <td>0.865560</td>\n",
       "      <td>1.000000e+00</td>\n",
       "      <td>1.794388</td>\n",
       "      <td>0.653817</td>\n",
       "      <td>0.027639</td>\n",
       "      <td>0.055216</td>\n",
       "      <td>...</td>\n",
       "      <td>0.039073</td>\n",
       "      <td>0.210862</td>\n",
       "      <td>0.399117</td>\n",
       "      <td>0.039073</td>\n",
       "      <td>0.027639</td>\n",
       "      <td>0.494019</td>\n",
       "      <td>0.357694</td>\n",
       "      <td>0.039073</td>\n",
       "      <td>0.077967</td>\n",
       "      <td>0.027639</td>\n",
       "    </tr>\n",
       "    <tr>\n",
       "      <th>min</th>\n",
       "      <td>1.000000</td>\n",
       "      <td>0.000000</td>\n",
       "      <td>-2.061342e+00</td>\n",
       "      <td>0.000000</td>\n",
       "      <td>0.000000</td>\n",
       "      <td>-6.432832e-01</td>\n",
       "      <td>0.000000</td>\n",
       "      <td>0.000000</td>\n",
       "      <td>0.000000</td>\n",
       "      <td>0.000000</td>\n",
       "      <td>...</td>\n",
       "      <td>0.000000</td>\n",
       "      <td>0.000000</td>\n",
       "      <td>0.000000</td>\n",
       "      <td>0.000000</td>\n",
       "      <td>0.000000</td>\n",
       "      <td>0.000000</td>\n",
       "      <td>0.000000</td>\n",
       "      <td>0.000000</td>\n",
       "      <td>0.000000</td>\n",
       "      <td>0.000000</td>\n",
       "    </tr>\n",
       "    <tr>\n",
       "      <th>25%</th>\n",
       "      <td>2.000000</td>\n",
       "      <td>0.000000</td>\n",
       "      <td>-6.161683e-01</td>\n",
       "      <td>0.000000</td>\n",
       "      <td>0.000000</td>\n",
       "      <td>-4.907329e-01</td>\n",
       "      <td>0.000000</td>\n",
       "      <td>0.000000</td>\n",
       "      <td>0.000000</td>\n",
       "      <td>0.000000</td>\n",
       "      <td>...</td>\n",
       "      <td>0.000000</td>\n",
       "      <td>0.000000</td>\n",
       "      <td>0.000000</td>\n",
       "      <td>0.000000</td>\n",
       "      <td>0.000000</td>\n",
       "      <td>0.000000</td>\n",
       "      <td>0.000000</td>\n",
       "      <td>0.000000</td>\n",
       "      <td>0.000000</td>\n",
       "      <td>0.000000</td>\n",
       "    </tr>\n",
       "    <tr>\n",
       "      <th>50%</th>\n",
       "      <td>3.000000</td>\n",
       "      <td>0.000000</td>\n",
       "      <td>-1.305123e-01</td>\n",
       "      <td>0.000000</td>\n",
       "      <td>0.000000</td>\n",
       "      <td>-3.640217e-01</td>\n",
       "      <td>0.000000</td>\n",
       "      <td>0.000000</td>\n",
       "      <td>0.000000</td>\n",
       "      <td>0.000000</td>\n",
       "      <td>...</td>\n",
       "      <td>0.000000</td>\n",
       "      <td>0.000000</td>\n",
       "      <td>0.000000</td>\n",
       "      <td>0.000000</td>\n",
       "      <td>0.000000</td>\n",
       "      <td>1.000000</td>\n",
       "      <td>0.000000</td>\n",
       "      <td>0.000000</td>\n",
       "      <td>0.000000</td>\n",
       "      <td>0.000000</td>\n",
       "    </tr>\n",
       "    <tr>\n",
       "      <th>75%</th>\n",
       "      <td>3.000000</td>\n",
       "      <td>1.000000</td>\n",
       "      <td>6.326615e-01</td>\n",
       "      <td>1.000000</td>\n",
       "      <td>0.000000</td>\n",
       "      <td>-3.903654e-02</td>\n",
       "      <td>0.000000</td>\n",
       "      <td>1.000000</td>\n",
       "      <td>0.000000</td>\n",
       "      <td>0.000000</td>\n",
       "      <td>...</td>\n",
       "      <td>0.000000</td>\n",
       "      <td>0.000000</td>\n",
       "      <td>0.000000</td>\n",
       "      <td>0.000000</td>\n",
       "      <td>0.000000</td>\n",
       "      <td>1.000000</td>\n",
       "      <td>0.000000</td>\n",
       "      <td>0.000000</td>\n",
       "      <td>0.000000</td>\n",
       "      <td>0.000000</td>\n",
       "    </tr>\n",
       "    <tr>\n",
       "      <th>max</th>\n",
       "      <td>3.000000</td>\n",
       "      <td>1.000000</td>\n",
       "      <td>3.477218e+00</td>\n",
       "      <td>8.000000</td>\n",
       "      <td>9.000000</td>\n",
       "      <td>9.255140e+00</td>\n",
       "      <td>8.000000</td>\n",
       "      <td>2.000000</td>\n",
       "      <td>1.000000</td>\n",
       "      <td>1.000000</td>\n",
       "      <td>...</td>\n",
       "      <td>1.000000</td>\n",
       "      <td>1.000000</td>\n",
       "      <td>1.000000</td>\n",
       "      <td>1.000000</td>\n",
       "      <td>1.000000</td>\n",
       "      <td>1.000000</td>\n",
       "      <td>1.000000</td>\n",
       "      <td>1.000000</td>\n",
       "      <td>1.000000</td>\n",
       "      <td>1.000000</td>\n",
       "    </tr>\n",
       "  </tbody>\n",
       "</table>\n",
       "<p>8 rows × 26 columns</p>\n",
       "</div>"
      ],
      "text/plain": [
       "            Pclass          Sex           Age        SibSp        Parch  \\\n",
       "count  1309.000000  1309.000000  1.046000e+03  1309.000000  1309.000000   \n",
       "mean      2.294882     0.355997  9.488904e-17     0.498854     0.385027   \n",
       "std       0.837836     0.478997  1.000000e+00     1.041658     0.865560   \n",
       "min       1.000000     0.000000 -2.061342e+00     0.000000     0.000000   \n",
       "25%       2.000000     0.000000 -6.161683e-01     0.000000     0.000000   \n",
       "50%       3.000000     0.000000 -1.305123e-01     0.000000     0.000000   \n",
       "75%       3.000000     1.000000  6.326615e-01     1.000000     0.000000   \n",
       "max       3.000000     1.000000  3.477218e+00     8.000000     9.000000   \n",
       "\n",
       "               Fare        Cabin     Embarked   Title_Capt    Title_Col  \\\n",
       "count  1.308000e+03  1309.000000  1307.000000  1309.000000  1309.000000   \n",
       "mean  -6.049357e-16     0.786860     0.394797     0.000764     0.003056   \n",
       "std    1.000000e+00     1.794388     0.653817     0.027639     0.055216   \n",
       "min   -6.432832e-01     0.000000     0.000000     0.000000     0.000000   \n",
       "25%   -4.907329e-01     0.000000     0.000000     0.000000     0.000000   \n",
       "50%   -3.640217e-01     0.000000     0.000000     0.000000     0.000000   \n",
       "75%   -3.903654e-02     0.000000     1.000000     0.000000     0.000000   \n",
       "max    9.255140e+00     8.000000     2.000000     1.000000     1.000000   \n",
       "\n",
       "          ...       Title_Major  Title_Master   Title_Miss   Title_Mlle  \\\n",
       "count     ...       1309.000000   1309.000000  1309.000000  1309.000000   \n",
       "mean      ...          0.001528      0.046600     0.198625     0.001528   \n",
       "std       ...          0.039073      0.210862     0.399117     0.039073   \n",
       "min       ...          0.000000      0.000000     0.000000     0.000000   \n",
       "25%       ...          0.000000      0.000000     0.000000     0.000000   \n",
       "50%       ...          0.000000      0.000000     0.000000     0.000000   \n",
       "75%       ...          0.000000      0.000000     0.000000     0.000000   \n",
       "max       ...          1.000000      1.000000     1.000000     1.000000   \n",
       "\n",
       "         Title_Mme     Title_Mr    Title_Mrs     Title_Ms    Title_Rev  \\\n",
       "count  1309.000000  1309.000000  1309.000000  1309.000000  1309.000000   \n",
       "mean      0.000764     0.578304     0.150497     0.001528     0.006112   \n",
       "std       0.027639     0.494019     0.357694     0.039073     0.077967   \n",
       "min       0.000000     0.000000     0.000000     0.000000     0.000000   \n",
       "25%       0.000000     0.000000     0.000000     0.000000     0.000000   \n",
       "50%       0.000000     1.000000     0.000000     0.000000     0.000000   \n",
       "75%       0.000000     1.000000     0.000000     0.000000     0.000000   \n",
       "max       1.000000     1.000000     1.000000     1.000000     1.000000   \n",
       "\n",
       "         Title_Sir  \n",
       "count  1309.000000  \n",
       "mean      0.000764  \n",
       "std       0.027639  \n",
       "min       0.000000  \n",
       "25%       0.000000  \n",
       "50%       0.000000  \n",
       "75%       0.000000  \n",
       "max       1.000000  \n",
       "\n",
       "[8 rows x 26 columns]"
      ]
     },
     "execution_count": 1507,
     "metadata": {},
     "output_type": "execute_result"
    }
   ],
   "source": [
    "df.Age = zscore(df.Age)\n",
    "df.Fare = zscore(df.Fare)\n",
    "\n",
    "# df.Age = normalize(df.Age)\n",
    "# df.Fare = normalize(df.Fare)\n",
    "\n",
    "# for col in df.columns:\n",
    "#     df[col] = zscore(df[col])\n",
    "\n",
    "df.describe()"
   ]
  },
  {
   "cell_type": "markdown",
   "metadata": {},
   "source": [
    "## Separate Notnull data from Null data\n",
    "\n",
    "Make a Copy of df: df0 = df.copy()  \n",
    "* Age\n",
    "* Embarked\n",
    "* Fare\n"
   ]
  },
  {
   "cell_type": "code",
   "execution_count": 1508,
   "metadata": {},
   "outputs": [
    {
     "name": "stdout",
     "output_type": "stream",
     "text": [
      "<class 'pandas.core.frame.DataFrame'>\n",
      "Int64Index: 1309 entries, 1 to 1309\n",
      "Data columns (total 26 columns):\n",
      "Pclass            1309 non-null int64\n",
      "Sex               1309 non-null int64\n",
      "Age               1046 non-null float64\n",
      "SibSp             1309 non-null int64\n",
      "Parch             1309 non-null int64\n",
      "Fare              1308 non-null float64\n",
      "Cabin             1309 non-null int64\n",
      "Embarked          1307 non-null float64\n",
      "Title_Capt        1309 non-null uint8\n",
      "Title_Col         1309 non-null uint8\n",
      "Title_Countess    1309 non-null uint8\n",
      "Title_Don         1309 non-null uint8\n",
      "Title_Dona        1309 non-null uint8\n",
      "Title_Dr          1309 non-null uint8\n",
      "Title_Jonkheer    1309 non-null uint8\n",
      "Title_Lady        1309 non-null uint8\n",
      "Title_Major       1309 non-null uint8\n",
      "Title_Master      1309 non-null uint8\n",
      "Title_Miss        1309 non-null uint8\n",
      "Title_Mlle        1309 non-null uint8\n",
      "Title_Mme         1309 non-null uint8\n",
      "Title_Mr          1309 non-null uint8\n",
      "Title_Mrs         1309 non-null uint8\n",
      "Title_Ms          1309 non-null uint8\n",
      "Title_Rev         1309 non-null uint8\n",
      "Title_Sir         1309 non-null uint8\n",
      "dtypes: float64(3), int64(5), uint8(18)\n",
      "memory usage: 115.0 KB\n"
     ]
    }
   ],
   "source": [
    "df0 = df.copy()\n",
    "df0.info()"
   ]
  },
  {
   "cell_type": "code",
   "execution_count": 1509,
   "metadata": {},
   "outputs": [],
   "source": [
    "Age_null = df[df.Age.isnull()]\n",
    "df = df[df.Age.notnull()]\n",
    "\n",
    "Embarked_null = df[df.Embarked.isnull()]\n",
    "df = df[df.Embarked.notnull()]\n",
    "\n",
    "Fare_null = df[df.Fare.isnull()]\n",
    "df = df[df.Fare.notnull()]"
   ]
  },
  {
   "cell_type": "markdown",
   "metadata": {},
   "source": [
    "## Notnull Data: df.shape = (1043, 9)"
   ]
  },
  {
   "cell_type": "code",
   "execution_count": 1510,
   "metadata": {},
   "outputs": [
    {
     "name": "stdout",
     "output_type": "stream",
     "text": [
      "(1043, 26)\n",
      "<class 'pandas.core.frame.DataFrame'>\n",
      "Int64Index: 1043 entries, 1 to 1307\n",
      "Data columns (total 26 columns):\n",
      "Pclass            1043 non-null int64\n",
      "Sex               1043 non-null int64\n",
      "Age               1043 non-null float64\n",
      "SibSp             1043 non-null int64\n",
      "Parch             1043 non-null int64\n",
      "Fare              1043 non-null float64\n",
      "Cabin             1043 non-null int64\n",
      "Embarked          1043 non-null float64\n",
      "Title_Capt        1043 non-null uint8\n",
      "Title_Col         1043 non-null uint8\n",
      "Title_Countess    1043 non-null uint8\n",
      "Title_Don         1043 non-null uint8\n",
      "Title_Dona        1043 non-null uint8\n",
      "Title_Dr          1043 non-null uint8\n",
      "Title_Jonkheer    1043 non-null uint8\n",
      "Title_Lady        1043 non-null uint8\n",
      "Title_Major       1043 non-null uint8\n",
      "Title_Master      1043 non-null uint8\n",
      "Title_Miss        1043 non-null uint8\n",
      "Title_Mlle        1043 non-null uint8\n",
      "Title_Mme         1043 non-null uint8\n",
      "Title_Mr          1043 non-null uint8\n",
      "Title_Mrs         1043 non-null uint8\n",
      "Title_Ms          1043 non-null uint8\n",
      "Title_Rev         1043 non-null uint8\n",
      "Title_Sir         1043 non-null uint8\n",
      "dtypes: float64(3), int64(5), uint8(18)\n",
      "memory usage: 91.7 KB\n"
     ]
    }
   ],
   "source": [
    "print(df.shape)\n",
    "df.info()"
   ]
  },
  {
   "cell_type": "markdown",
   "metadata": {},
   "source": [
    "## Model to fill NaN in Fare, Embarked, Age"
   ]
  },
  {
   "cell_type": "code",
   "execution_count": 1511,
   "metadata": {},
   "outputs": [],
   "source": [
    "from keras.models import Sequential\n",
    "from keras.layers import Flatten, Dense, Dropout, BatchNormalization\n",
    "\n",
    "# model for Fare, Embarked, Age\n",
    "def fill_data(col):\n",
    "    n_cols = len(df.columns) - 1\n",
    "    num = len(df[col].unique())\n",
    "    \n",
    "    model = Sequential()\n",
    "    model.add(Dense(64, activation='relu', input_shape=(n_cols,)))\n",
    "    model.add(Dropout(0.5))\n",
    "    model.add(Dense(32, activation='relu'))\n",
    "    model.add(Dropout(0.5))\n",
    "    \n",
    "    if col == 'Embarked':\n",
    "        model.add(Dense(num, activation='softmax'))\n",
    "        model.compile(optimizer='adam', loss='sparse_categorical_crossentropy', metrics=['acc'])\n",
    "    else: # 'Fare', 'Age'\n",
    "        model.add(Dense(1, activation='linear'))\n",
    "        model.compile(optimizer='rmsprop', loss='mse', metrics=['mae'])\n",
    "        \n",
    "    data = df.drop([col], axis=1)\n",
    "    epochs = 100\n",
    "    hist = model.fit(data, df[col], epochs=epochs, batch_size=32)\n",
    "\n",
    "    null_data = df0[df0[col].isnull()]\n",
    "    null_data = null_data.drop([col], axis=1)\n",
    "    pred = model.predict(null_data)\n",
    "    \n",
    "    if col == 'Embarked':\n",
    "        pred = pred.argmax(axis=1)\n",
    "        \n",
    "        plt.plot(hist.history['acc'], 'b-', label='acc' )\n",
    "        plt.plot(hist.history['loss'], 'r-', label='loss' )\n",
    "        plt.xlabel('epochs')\n",
    "        plt.legend()\n",
    "        plt.show()\n",
    "        \n",
    "    pred = pred.reshape(-1, )\n",
    "    \n",
    "    idx = df0[df0[col].isnull()].index.values\n",
    "    \n",
    "    for n, i in enumerate(idx):\n",
    "        df0.loc[i, col] = pred[n]\n"
   ]
  },
  {
   "cell_type": "code",
   "execution_count": null,
   "metadata": {
    "scrolled": true
   },
   "outputs": [],
   "source": [
    "fill_data('Embarked') # id:62,830"
   ]
  },
  {
   "cell_type": "code",
   "execution_count": null,
   "metadata": {},
   "outputs": [],
   "source": [
    "fill_data('Fare') # id:1044"
   ]
  },
  {
   "cell_type": "code",
   "execution_count": null,
   "metadata": {
    "scrolled": true
   },
   "outputs": [],
   "source": [
    "fill_data('Age') # id: 6,18,20,27,29,30"
   ]
  },
  {
   "cell_type": "code",
   "execution_count": 1517,
   "metadata": {},
   "outputs": [],
   "source": [
    "train0 = df0[0:891].copy()\n",
    "test0 = df0[891:].copy()"
   ]
  },
  {
   "cell_type": "markdown",
   "metadata": {},
   "source": [
    "## Model to estimate Survived for submission"
   ]
  },
  {
   "cell_type": "code",
   "execution_count": null,
   "metadata": {},
   "outputs": [],
   "source": [
    "df0_cols = len(df0.columns)\n",
    "\n",
    "model = Sequential()\n",
    "model.add(Dense(64, activation='relu', input_shape=(df0_cols,)))\n",
    "model.add(Dropout(0.5))\n",
    "model.add(Dense(32, activation='relu'))\n",
    "model.add(Dropout(0.5))\n",
    "\n",
    "model.add(Dense(2, activation='softmax'))\n",
    "model.compile(optimizer='adam', loss='sparse_categorical_crossentropy', metrics=['acc'])\n",
    "\n",
    "epochs=300\n",
    "hist = model.fit(train0, train.Survived, epochs=epochs, batch_size=5)\n",
    "\n",
    "pred = model.predict(test0)"
   ]
  },
  {
   "cell_type": "code",
   "execution_count": 1519,
   "metadata": {
    "scrolled": false
   },
   "outputs": [
    {
     "data": {
      "image/png": "[encoded data removed]",
      "text/plain": [
       "<matplotlib.figure.Figure at 0x7fb5327bc710>"
      ]
     },
     "metadata": {},
     "output_type": "display_data"
    }
   ],
   "source": [
    "# print(model.metrics_names)\n",
    "plt.plot(hist.history['acc'], 'b-', label='acc' )\n",
    "plt.plot(hist.history['loss'], 'r-', label='loss' )\n",
    "plt.xlabel('epochs')\n",
    "plt.legend()\n",
    "plt.show()"
   ]
  },
  {
   "cell_type": "code",
   "execution_count": null,
   "metadata": {
    "scrolled": true
   },
   "outputs": [],
   "source": [
    "result = pred.argmax(axis=1)"
   ]
  },
  {
   "cell_type": "markdown",
   "metadata": {},
   "source": [
    "## Submission file:"
   ]
  },
  {
   "cell_type": "code",
   "execution_count": 1523,
   "metadata": {},
   "outputs": [],
   "source": [
    "submission = pd.DataFrame({'PassengerId': test.index, 'Survived': result})\n",
    "submission.to_csv('titanic/submission.csv', index=False)"
   ]
  }
 ],
 "metadata": {
  "kernelspec": {
   "display_name": "py36",
   "language": "python",
   "name": "py36"
  },
  "language_info": {
   "codemirror_mode": {
    "name": "ipython",
    "version": 3
   },
   "file_extension": ".py",
   "mimetype": "text/x-python",
   "name": "python",
   "nbconvert_exporter": "python",
   "pygments_lexer": "ipython3",
   "version": "3.6.4"
  }
 },
 "nbformat": 4,
 "nbformat_minor": 2
}
