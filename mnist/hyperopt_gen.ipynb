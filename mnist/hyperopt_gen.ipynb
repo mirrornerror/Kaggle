{
 "cells": [
  {
   "cell_type": "markdown",
   "metadata": {},
   "source": [
    "## Kaggel: Digit Recognizer(MNIST)  by Hyperopt + fit_generator()\n",
    "Kaggle Digit recognizer: https://www.kaggle.com/c/digit-recognizer  \n",
    "Hyperopt: https://github.com/hyperopt/hyperopt  \n",
    "\n",
    "### Best Score: 0.99685\n",
    "* max_evals= 10 (time: 1h 5m),  score: 0.99685\n",
    "* max_evals= 20 (time: --),     score: 0.99657\n",
    "* max_evals= 30 (time: 5h 26m), score: 0.99671\n",
    "\n",
    "Python 3.6  \n",
    "NVIDIA GTX1060  "
   ]
  },
  {
   "cell_type": "code",
   "execution_count": 32,
   "metadata": {
    "ExecuteTime": {
     "end_time": "2018-11-18T02:42:42.125895Z",
     "start_time": "2018-11-18T02:42:42.086521Z"
    }
   },
   "outputs": [
    {
     "name": "stdout",
     "output_type": "stream",
     "text": [
      "tensorflow ver.: 1.11.0\n",
      "keras ver.     :  2.2.2\n",
      "hyperopt ver.  :    0.2\n"
     ]
    }
   ],
   "source": [
    "import warnings\n",
    "warnings.filterwarnings('ignore')\n",
    "\n",
    "import hyperopt\n",
    "from hyperopt import hp, fmin, rand, tpe, Trials, space_eval, STATUS_OK\n",
    "\n",
    "from keras.models import Sequential\n",
    "from keras.layers import Dense, Dropout, Flatten, Conv2D, MaxPool2D, BatchNormalization\n",
    "from keras.callbacks import EarlyStopping, ModelCheckpoint, ReduceLROnPlateau\n",
    "from keras.preprocessing.image import ImageDataGenerator\n",
    "import keras\n",
    "\n",
    "import pandas as pd\n",
    "from sklearn.model_selection import train_test_split\n",
    "import numpy as np\n",
    "import matplotlib.pyplot as plt\n",
    "%matplotlib inline\n",
    "\n",
    "# fix random seed\n",
    "import tensorflow as tf\n",
    "import random as rn\n",
    "import os\n",
    "os.environ['PYTHONHASHSEED'] = '0'\n",
    "seed = 123\n",
    "rn.seed(seed)\n",
    "np.random.seed(seed)\n",
    "session_conf = tf.ConfigProto(intra_op_parallelism_threads=1, inter_op_parallelism_threads=1)\n",
    "from keras import backend as K\n",
    "tf.set_random_seed(seed)\n",
    "sess = tf.Session(graph=tf.get_default_graph(), config=session_conf)\n",
    "K.set_session(sess)\n",
    "\n",
    "print('tensorflow ver.:',tf.__version__)\n",
    "print('keras ver.     : ', keras.__version__)\n",
    "print('hyperopt ver.  :   ', hyperopt.__version__)"
   ]
  },
  {
   "cell_type": "markdown",
   "metadata": {},
   "source": [
    "## Data preparation: MNIST from Kaggle\n",
    "* data split proportion: test_size=0.15"
   ]
  },
  {
   "cell_type": "code",
   "execution_count": 33,
   "metadata": {
    "ExecuteTime": {
     "end_time": "2018-11-18T02:42:45.469828Z",
     "start_time": "2018-11-18T02:42:42.127054Z"
    }
   },
   "outputs": [
    {
     "data": {
      "text/plain": [
       "[(35700, 28, 28, 1), (6300, 28, 28, 1), (6300, 28, 28, 1)]"
      ]
     },
     "execution_count": 33,
     "metadata": {},
     "output_type": "execute_result"
    }
   ],
   "source": [
    "train = pd.read_csv('../train.csv')\n",
    "label = train.label\n",
    "train = train.drop(['label'], axis=1)\n",
    "train = train.values.reshape(-1, 28, 28, 1)\n",
    "\n",
    "x_train, x_test, y_train, y_test = train_test_split(train, label, test_size=0.15, shuffle=True, random_state=seed)\n",
    "x_train, x_val, y_train, y_val = train_test_split(train, label, test_size=0.15, shuffle=True, random_state=seed)\n",
    "x_train = x_train.astype('float32') / 255.0\n",
    "x_test = x_test.astype('float32') / 255.0\n",
    "x_val = x_val.astype('float32') / 255.0\n",
    "\n",
    "[x_train.shape, x_val.shape, x_test.shape]"
   ]
  },
  {
   "cell_type": "markdown",
   "metadata": {},
   "source": [
    "## Hyperparameters for Hyperopt:  \n",
    "* five Dropout rates"
   ]
  },
  {
   "cell_type": "code",
   "execution_count": 34,
   "metadata": {
    "ExecuteTime": {
     "end_time": "2018-11-18T02:42:45.474646Z",
     "start_time": "2018-11-18T02:42:45.471349Z"
    }
   },
   "outputs": [],
   "source": [
    "params = {\n",
    "    'Dropout_0':        hp.uniform('Dropout_0', 0.0, 0.5),\n",
    "    'Dropout_1':        hp.uniform('Dropout_1', 0.0, 0.5),\n",
    "    #'Dropout_2':        hp.uniform('Dropout_2', 0.0, 0.5),\n",
    "    'Dropout_3':        hp.uniform('Dropout_3', 0.0, 0.5)\n",
    "    #'Dropout_4':        hp.uniform('Dropout_4', 0.0, 0.5)\n",
    "}"
   ]
  },
  {
   "cell_type": "markdown",
   "metadata": {},
   "source": [
    "## CNN Model:\n",
    "* return a dictionary includes at least 'loss' and 'status' for hyperopt\n",
    "* the model pass -acc(negative accuracy) as a 'loss' value to the fmin()"
   ]
  },
  {
   "cell_type": "code",
   "execution_count": 35,
   "metadata": {
    "ExecuteTime": {
     "end_time": "2018-11-18T02:42:45.585826Z",
     "start_time": "2018-11-18T02:42:45.475901Z"
    }
   },
   "outputs": [],
   "source": [
    "batch_size = 32\n",
    "\n",
    "cnt = 0\n",
    "def cnn_model(params):\n",
    "    \n",
    "    initializer = keras.initializers.glorot_uniform(seed=seed)\n",
    "    \n",
    "    model = Sequential()  \n",
    "    model.add(Conv2D(32*2, (5,5), padding='same', activation='relu', kernel_initializer=initializer, input_shape=(28,28,1)))\n",
    "    model.add(BatchNormalization())\n",
    "    model.add(Conv2D(32*2, (5,5), padding='same', activation='relu', kernel_initializer=initializer))\n",
    "    model.add(BatchNormalization())\n",
    "    model.add(MaxPool2D(pool_size=(2,2)))\n",
    "    #model.add(BatchNormalization())\n",
    "    model.add(Dropout(params['Dropout_0'], seed=seed))\n",
    "    \n",
    "    model.add(Conv2D(64*2, (3,3), padding='same', activation='relu', kernel_initializer=initializer))\n",
    "    model.add(BatchNormalization())\n",
    "    model.add(Conv2D(64*2, (3,3), padding='same', activation='relu', kernel_initializer=initializer))\n",
    "    model.add(BatchNormalization())\n",
    "    model.add(MaxPool2D(pool_size=(2,2), strides=(2,2)))\n",
    "    #model.add(BatchNormalization())\n",
    "    model.add(Dropout(params['Dropout_1'], seed=seed))\n",
    "    \n",
    "#     model.add(Conv2D(128, (3,3), padding='same', activation='relu', kernel_initializer=initializer))\n",
    "#     model.add(BatchNormalization())\n",
    "#     model.add(Conv2D(128, (3,3), padding='same', activation='relu', kernel_initializer=initializer))\n",
    "#     model.add(BatchNormalization())\n",
    "#     model.add(MaxPool2D(pool_size=(2,2), strides=(2,2)))\n",
    "#     #model.add(BatchNormalization())\n",
    "#     model.add(Dropout(params['Dropout_2'], seed=seed))\n",
    "\n",
    "    model.add(Flatten())\n",
    "    model.add(Dense(512, activation=\"relu\", kernel_initializer=initializer))\n",
    "    model.add(BatchNormalization())\n",
    "    model.add(Dropout(params['Dropout_3'], seed=seed))\n",
    "#     model.add(Dense(128, activation = \"relu\", kernel_initializer=initializer))\n",
    "#     model.add(BatchNormalization())\n",
    "#     model.add(Dropout(params['Dropout_4'], seed=seed))\n",
    "    \n",
    "    model.add(Dense(10, activation = \"softmax\", kernel_initializer=initializer))\n",
    "\n",
    "    model.compile(loss='sparse_categorical_crossentropy', optimizer='adam', metrics=['accuracy'])\n",
    "    \n",
    "    datagen = ImageDataGenerator(rotation_range=10,\n",
    "                                 width_shift_range=0.1,\n",
    "                                 height_shift_range=0.1,\n",
    "                                 zoom_range=0.1)\n",
    "\n",
    "    datagen.fit(x_train, seed=seed)\n",
    "\n",
    "    reduce_lr = ReduceLROnPlateau(monitor='val_loss', factor=0.5, patience=2, min_lr=1e-6, verbose=1)\n",
    "    early_stop = EarlyStopping(monitor='val_loss', patience=5, verbose=1)\n",
    "\n",
    "    hist = model.fit_generator(datagen.flow(x_train, y_train, batch_size=batch_size), \n",
    "                                        epochs=50, \n",
    "                                        validation_data=(x_val, y_val),\n",
    "                                        steps_per_epoch=x_train.shape[0]//batch_size,\n",
    "                                        callbacks=[reduce_lr, early_stop],\n",
    "                                        verbose=2)\n",
    "\n",
    "    loss = hist.history['val_loss'][-1]\n",
    "    acc = hist.history['val_acc'][-1]\n",
    "\n",
    "    global cnt\n",
    "    print(cnt, ': Val loss:', loss, ': Val acc:', acc, '\\n\\n')\n",
    "    cnt += 1\n",
    "    \n",
    "    return {'loss': -acc, 'status': STATUS_OK, 'model': model, 'hist': hist}\n",
    "    "
   ]
  },
  {
   "cell_type": "markdown",
   "metadata": {},
   "source": [
    "## Search the Hyperparameters & the Best model:"
   ]
  },
  {
   "cell_type": "code",
   "execution_count": 36,
   "metadata": {
    "ExecuteTime": {
     "end_time": "2018-11-18T04:26:19.433539Z",
     "start_time": "2018-11-18T02:42:45.588871Z"
    },
    "scrolled": false
   },
   "outputs": [
    {
     "name": "stdout",
     "output_type": "stream",
     "text": [
      "Epoch 1/50\n",
      " - 33s - loss: 0.2318 - acc: 0.9292 - val_loss: 0.0639 - val_acc: 0.9813\n",
      "Epoch 2/50\n",
      " - 25s - loss: 0.0990 - acc: 0.9690 - val_loss: 0.0331 - val_acc: 0.9897\n",
      "Epoch 3/50\n",
      " - 25s - loss: 0.0837 - acc: 0.9743 - val_loss: 0.0459 - val_acc: 0.9852\n",
      "Epoch 4/50\n",
      " - 25s - loss: 0.0676 - acc: 0.9784 - val_loss: 0.0325 - val_acc: 0.9910\n",
      "Epoch 5/50\n",
      " - 25s - loss: 0.0686 - acc: 0.9794 - val_loss: 0.0284 - val_acc: 0.9914\n",
      "Epoch 6/50\n",
      " - 25s - loss: 0.0615 - acc: 0.9812 - val_loss: 0.0377 - val_acc: 0.9890\n",
      "Epoch 7/50\n",
      " - 25s - loss: 0.0493 - acc: 0.9850 - val_loss: 0.0314 - val_acc: 0.9906\n",
      "\n",
      "Epoch 00007: ReduceLROnPlateau reducing learning rate to 0.0005000000237487257.\n",
      "Epoch 8/50\n",
      " - 25s - loss: 0.0343 - acc: 0.9893 - val_loss: 0.0178 - val_acc: 0.9935\n",
      "Epoch 9/50\n",
      " - 25s - loss: 0.0322 - acc: 0.9902 - val_loss: 0.0160 - val_acc: 0.9949\n",
      "Epoch 10/50\n",
      " - 25s - loss: 0.0305 - acc: 0.9899 - val_loss: 0.0188 - val_acc: 0.9949\n",
      "Epoch 11/50\n",
      " - 25s - loss: 0.0314 - acc: 0.9902 - val_loss: 0.0156 - val_acc: 0.9951\n",
      "Epoch 12/50\n",
      " - 25s - loss: 0.0258 - acc: 0.9921 - val_loss: 0.0149 - val_acc: 0.9954\n",
      "Epoch 13/50\n",
      " - 25s - loss: 0.0272 - acc: 0.9919 - val_loss: 0.0124 - val_acc: 0.9957\n",
      "Epoch 14/50\n",
      " - 25s - loss: 0.0264 - acc: 0.9922 - val_loss: 0.0206 - val_acc: 0.9941\n",
      "Epoch 15/50\n",
      " - 25s - loss: 0.0289 - acc: 0.9916 - val_loss: 0.0134 - val_acc: 0.9959\n",
      "\n",
      "Epoch 00015: ReduceLROnPlateau reducing learning rate to 0.0002500000118743628.\n",
      "Epoch 16/50\n",
      " - 25s - loss: 0.0179 - acc: 0.9943 - val_loss: 0.0117 - val_acc: 0.9965\n",
      "Epoch 17/50\n",
      " - 25s - loss: 0.0170 - acc: 0.9949 - val_loss: 0.0135 - val_acc: 0.9959\n",
      "Epoch 18/50\n",
      " - 25s - loss: 0.0166 - acc: 0.9949 - val_loss: 0.0107 - val_acc: 0.9968\n",
      "Epoch 19/50\n",
      " - 25s - loss: 0.0169 - acc: 0.9950 - val_loss: 0.0120 - val_acc: 0.9967\n",
      "Epoch 20/50\n",
      " - 25s - loss: 0.0138 - acc: 0.9957 - val_loss: 0.0142 - val_acc: 0.9954\n",
      "\n",
      "Epoch 00020: ReduceLROnPlateau reducing learning rate to 0.0001250000059371814.\n",
      "Epoch 21/50\n",
      " - 25s - loss: 0.0131 - acc: 0.9961 - val_loss: 0.0125 - val_acc: 0.9962\n",
      "Epoch 22/50\n",
      " - 25s - loss: 0.0125 - acc: 0.9960 - val_loss: 0.0120 - val_acc: 0.9967\n",
      "\n",
      "Epoch 00022: ReduceLROnPlateau reducing learning rate to 6.25000029685907e-05.\n",
      "Epoch 23/50\n",
      " - 25s - loss: 0.0107 - acc: 0.9966 - val_loss: 0.0121 - val_acc: 0.9963\n",
      "Epoch 00023: early stopping\n",
      "0 : Val loss: 0.01211387980359538 : Val acc: 0.9963492063492063 \n",
      "\n",
      "\n",
      "Epoch 1/50\n",
      " - 33s - loss: 0.2242 - acc: 0.9306 - val_loss: 0.0587 - val_acc: 0.9806\n",
      "Epoch 2/50\n",
      " - 25s - loss: 0.0927 - acc: 0.9707 - val_loss: 0.0920 - val_acc: 0.9738\n",
      "Epoch 3/50\n",
      " - 25s - loss: 0.0790 - acc: 0.9764 - val_loss: 0.0351 - val_acc: 0.9892\n",
      "Epoch 4/50\n",
      " - 25s - loss: 0.0668 - acc: 0.9792 - val_loss: 0.0363 - val_acc: 0.9879\n",
      "Epoch 5/50\n",
      " - 25s - loss: 0.0682 - acc: 0.9808 - val_loss: 0.0431 - val_acc: 0.9873\n",
      "\n",
      "Epoch 00005: ReduceLROnPlateau reducing learning rate to 0.0005000000237487257.\n",
      "Epoch 6/50\n",
      " - 25s - loss: 0.0420 - acc: 0.9871 - val_loss: 0.0235 - val_acc: 0.9929\n",
      "Epoch 7/50\n",
      " - 25s - loss: 0.0366 - acc: 0.9891 - val_loss: 0.0189 - val_acc: 0.9935\n",
      "Epoch 8/50\n",
      " - 25s - loss: 0.0339 - acc: 0.9894 - val_loss: 0.0239 - val_acc: 0.9919\n",
      "Epoch 9/50\n",
      " - 25s - loss: 0.0347 - acc: 0.9890 - val_loss: 0.0150 - val_acc: 0.9952\n",
      "Epoch 10/50\n",
      " - 25s - loss: 0.0321 - acc: 0.9907 - val_loss: 0.0159 - val_acc: 0.9954\n",
      "Epoch 11/50\n",
      " - 25s - loss: 0.0318 - acc: 0.9900 - val_loss: 0.0179 - val_acc: 0.9952\n",
      "\n",
      "Epoch 00011: ReduceLROnPlateau reducing learning rate to 0.0002500000118743628.\n",
      "Epoch 12/50\n",
      " - 25s - loss: 0.0237 - acc: 0.9923 - val_loss: 0.0115 - val_acc: 0.9968\n",
      "Epoch 13/50\n",
      " - 25s - loss: 0.0214 - acc: 0.9932 - val_loss: 0.0117 - val_acc: 0.9963\n",
      "Epoch 14/50\n",
      " - 25s - loss: 0.0192 - acc: 0.9943 - val_loss: 0.0128 - val_acc: 0.9957\n",
      "\n",
      "Epoch 00014: ReduceLROnPlateau reducing learning rate to 0.0001250000059371814.\n",
      "Epoch 15/50\n",
      " - 25s - loss: 0.0181 - acc: 0.9945 - val_loss: 0.0113 - val_acc: 0.9967\n",
      "Epoch 16/50\n",
      " - 25s - loss: 0.0139 - acc: 0.9953 - val_loss: 0.0111 - val_acc: 0.9963\n",
      "Epoch 17/50\n",
      " - 25s - loss: 0.0154 - acc: 0.9954 - val_loss: 0.0109 - val_acc: 0.9970\n",
      "Epoch 18/50\n",
      " - 25s - loss: 0.0130 - acc: 0.9961 - val_loss: 0.0102 - val_acc: 0.9968\n",
      "Epoch 19/50\n",
      " - 25s - loss: 0.0143 - acc: 0.9956 - val_loss: 0.0117 - val_acc: 0.9967\n",
      "Epoch 20/50\n",
      " - 25s - loss: 0.0120 - acc: 0.9964 - val_loss: 0.0116 - val_acc: 0.9963\n",
      "\n",
      "Epoch 00020: ReduceLROnPlateau reducing learning rate to 6.25000029685907e-05.\n",
      "Epoch 21/50\n",
      " - 26s - loss: 0.0123 - acc: 0.9962 - val_loss: 0.0103 - val_acc: 0.9963\n",
      "Epoch 22/50\n",
      " - 25s - loss: 0.0104 - acc: 0.9968 - val_loss: 0.0113 - val_acc: 0.9960\n",
      "\n",
      "Epoch 00022: ReduceLROnPlateau reducing learning rate to 3.125000148429535e-05.\n",
      "Epoch 23/50\n",
      " - 25s - loss: 0.0099 - acc: 0.9970 - val_loss: 0.0112 - val_acc: 0.9965\n",
      "Epoch 00023: early stopping\n",
      "1 : Val loss: 0.011208649788879687 : Val acc: 0.9965079365079365 \n",
      "\n",
      "\n",
      "Epoch 1/50\n",
      " - 33s - loss: 0.3043 - acc: 0.9064 - val_loss: 0.0691 - val_acc: 0.9786\n",
      "Epoch 2/50\n",
      " - 25s - loss: 0.1206 - acc: 0.9628 - val_loss: 0.0518 - val_acc: 0.9840\n",
      "Epoch 3/50\n",
      " - 25s - loss: 0.1008 - acc: 0.9690 - val_loss: 0.0330 - val_acc: 0.9883\n",
      "Epoch 4/50\n",
      " - 25s - loss: 0.0921 - acc: 0.9718 - val_loss: 0.0408 - val_acc: 0.9875\n",
      "Epoch 5/50\n",
      " - 25s - loss: 0.0794 - acc: 0.9764 - val_loss: 0.0445 - val_acc: 0.9851\n",
      "\n",
      "Epoch 00005: ReduceLROnPlateau reducing learning rate to 0.0005000000237487257.\n",
      "Epoch 6/50\n",
      " - 25s - loss: 0.0569 - acc: 0.9822 - val_loss: 0.0215 - val_acc: 0.9932\n",
      "Epoch 7/50\n",
      " - 25s - loss: 0.0536 - acc: 0.9838 - val_loss: 0.0199 - val_acc: 0.9938\n",
      "Epoch 8/50\n",
      " - 25s - loss: 0.0492 - acc: 0.9847 - val_loss: 0.0196 - val_acc: 0.9932\n",
      "Epoch 9/50\n",
      " - 25s - loss: 0.0469 - acc: 0.9845 - val_loss: 0.0158 - val_acc: 0.9951\n",
      "Epoch 10/50\n",
      " - 25s - loss: 0.0451 - acc: 0.9862 - val_loss: 0.0143 - val_acc: 0.9959\n",
      "Epoch 11/50\n",
      " - 25s - loss: 0.0439 - acc: 0.9867 - val_loss: 0.0162 - val_acc: 0.9959\n",
      "Epoch 12/50\n",
      " - 25s - loss: 0.0387 - acc: 0.9880 - val_loss: 0.0159 - val_acc: 0.9951\n",
      "\n",
      "Epoch 00012: ReduceLROnPlateau reducing learning rate to 0.0002500000118743628.\n",
      "Epoch 13/50\n",
      " - 25s - loss: 0.0337 - acc: 0.9897 - val_loss: 0.0137 - val_acc: 0.9960\n",
      "Epoch 14/50\n",
      " - 25s - loss: 0.0301 - acc: 0.9912 - val_loss: 0.0146 - val_acc: 0.9956\n",
      "Epoch 15/50\n",
      " - 25s - loss: 0.0323 - acc: 0.9902 - val_loss: 0.0123 - val_acc: 0.9962\n",
      "Epoch 16/50\n",
      " - 25s - loss: 0.0262 - acc: 0.9917 - val_loss: 0.0131 - val_acc: 0.9968\n",
      "Epoch 17/50\n",
      " - 25s - loss: 0.0262 - acc: 0.9917 - val_loss: 0.0165 - val_acc: 0.9952\n",
      "\n",
      "Epoch 00017: ReduceLROnPlateau reducing learning rate to 0.0001250000059371814.\n",
      "Epoch 18/50\n",
      " - 25s - loss: 0.0250 - acc: 0.9924 - val_loss: 0.0128 - val_acc: 0.9960\n",
      "Epoch 19/50\n",
      " - 25s - loss: 0.0219 - acc: 0.9933 - val_loss: 0.0127 - val_acc: 0.9965\n",
      "\n",
      "Epoch 00019: ReduceLROnPlateau reducing learning rate to 6.25000029685907e-05.\n",
      "Epoch 20/50\n",
      " - 25s - loss: 0.0204 - acc: 0.9936 - val_loss: 0.0123 - val_acc: 0.9963\n",
      "Epoch 00020: early stopping\n",
      "2 : Val loss: 0.012343373711870905 : Val acc: 0.9963492063492063 \n",
      "\n",
      "\n",
      "Epoch 1/50\n",
      " - 33s - loss: 0.2370 - acc: 0.9277 - val_loss: 0.0567 - val_acc: 0.9843\n",
      "Epoch 2/50\n",
      " - 25s - loss: 0.0971 - acc: 0.9705 - val_loss: 0.0425 - val_acc: 0.9863\n",
      "Epoch 3/50\n",
      " - 25s - loss: 0.0769 - acc: 0.9764 - val_loss: 0.0590 - val_acc: 0.9811\n",
      "Epoch 4/50\n",
      " - 25s - loss: 0.0673 - acc: 0.9784 - val_loss: 0.0535 - val_acc: 0.9843\n",
      "\n",
      "Epoch 00004: ReduceLROnPlateau reducing learning rate to 0.0005000000237487257.\n",
      "Epoch 5/50\n",
      " - 25s - loss: 0.0464 - acc: 0.9857 - val_loss: 0.0208 - val_acc: 0.9941\n",
      "Epoch 6/50\n",
      " - 25s - loss: 0.0465 - acc: 0.9860 - val_loss: 0.0397 - val_acc: 0.9892\n",
      "Epoch 7/50\n",
      " - 25s - loss: 0.0399 - acc: 0.9876 - val_loss: 0.0301 - val_acc: 0.9910\n",
      "\n",
      "Epoch 00007: ReduceLROnPlateau reducing learning rate to 0.0002500000118743628.\n",
      "Epoch 8/50\n",
      " - 25s - loss: 0.0313 - acc: 0.9896 - val_loss: 0.0201 - val_acc: 0.9941\n",
      "Epoch 9/50\n",
      " - 25s - loss: 0.0285 - acc: 0.9909 - val_loss: 0.0171 - val_acc: 0.9944\n",
      "Epoch 10/50\n",
      " - 25s - loss: 0.0272 - acc: 0.9918 - val_loss: 0.0151 - val_acc: 0.9963\n",
      "Epoch 11/50\n",
      " - 25s - loss: 0.0259 - acc: 0.9914 - val_loss: 0.0157 - val_acc: 0.9956\n",
      "Epoch 12/50\n",
      " - 25s - loss: 0.0228 - acc: 0.9927 - val_loss: 0.0154 - val_acc: 0.9952\n",
      "\n",
      "Epoch 00012: ReduceLROnPlateau reducing learning rate to 0.0001250000059371814.\n",
      "Epoch 13/50\n",
      " - 25s - loss: 0.0196 - acc: 0.9945 - val_loss: 0.0129 - val_acc: 0.9962\n"
     ]
    },
    {
     "name": "stdout",
     "output_type": "stream",
     "text": [
      "Epoch 14/50\n",
      " - 25s - loss: 0.0191 - acc: 0.9944 - val_loss: 0.0149 - val_acc: 0.9954\n",
      "Epoch 15/50\n",
      " - 25s - loss: 0.0183 - acc: 0.9946 - val_loss: 0.0132 - val_acc: 0.9957\n",
      "\n",
      "Epoch 00015: ReduceLROnPlateau reducing learning rate to 6.25000029685907e-05.\n",
      "Epoch 16/50\n",
      " - 25s - loss: 0.0149 - acc: 0.9953 - val_loss: 0.0127 - val_acc: 0.9963\n",
      "Epoch 17/50\n",
      " - 25s - loss: 0.0145 - acc: 0.9955 - val_loss: 0.0127 - val_acc: 0.9967\n",
      "Epoch 18/50\n",
      " - 25s - loss: 0.0125 - acc: 0.9960 - val_loss: 0.0137 - val_acc: 0.9960\n",
      "\n",
      "Epoch 00018: ReduceLROnPlateau reducing learning rate to 3.125000148429535e-05.\n",
      "Epoch 19/50\n",
      " - 25s - loss: 0.0129 - acc: 0.9959 - val_loss: 0.0128 - val_acc: 0.9967\n",
      "Epoch 20/50\n",
      " - 25s - loss: 0.0115 - acc: 0.9970 - val_loss: 0.0135 - val_acc: 0.9960\n",
      "\n",
      "Epoch 00020: ReduceLROnPlateau reducing learning rate to 1.5625000742147677e-05.\n",
      "Epoch 21/50\n",
      " - 25s - loss: 0.0119 - acc: 0.9962 - val_loss: 0.0134 - val_acc: 0.9962\n",
      "Epoch 22/50\n",
      " - 25s - loss: 0.0115 - acc: 0.9967 - val_loss: 0.0129 - val_acc: 0.9965\n",
      "\n",
      "Epoch 00022: ReduceLROnPlateau reducing learning rate to 7.812500371073838e-06.\n",
      "Epoch 00022: early stopping\n",
      "3 : Val loss: 0.012929274787778028 : Val acc: 0.9965079365079365 \n",
      "\n",
      "\n",
      "Epoch 1/50\n",
      " - 35s - loss: 0.2163 - acc: 0.9332 - val_loss: 0.0633 - val_acc: 0.9775\n",
      "Epoch 2/50\n",
      " - 27s - loss: 0.0903 - acc: 0.9721 - val_loss: 0.0449 - val_acc: 0.9870\n",
      "Epoch 3/50\n",
      " - 26s - loss: 0.0797 - acc: 0.9752 - val_loss: 0.0382 - val_acc: 0.9865\n",
      "Epoch 4/50\n",
      " - 25s - loss: 0.0669 - acc: 0.9794 - val_loss: 0.0427 - val_acc: 0.9873\n",
      "Epoch 5/50\n",
      " - 25s - loss: 0.0715 - acc: 0.9778 - val_loss: 0.0365 - val_acc: 0.9897\n",
      "Epoch 6/50\n",
      " - 26s - loss: 0.0545 - acc: 0.9835 - val_loss: 0.0436 - val_acc: 0.9881\n",
      "Epoch 7/50\n",
      " - 25s - loss: 0.0479 - acc: 0.9853 - val_loss: 0.0311 - val_acc: 0.9921\n",
      "Epoch 8/50\n",
      " - 25s - loss: 0.0472 - acc: 0.9858 - val_loss: 0.0279 - val_acc: 0.9922\n",
      "Epoch 9/50\n",
      " - 25s - loss: 0.0414 - acc: 0.9876 - val_loss: 0.0276 - val_acc: 0.9924\n",
      "Epoch 10/50\n",
      " - 25s - loss: 0.0436 - acc: 0.9874 - val_loss: 0.0169 - val_acc: 0.9943\n",
      "Epoch 11/50\n",
      " - 26s - loss: 0.0376 - acc: 0.9889 - val_loss: 0.0385 - val_acc: 0.9883\n",
      "Epoch 12/50\n",
      " - 25s - loss: 0.0348 - acc: 0.9890 - val_loss: 0.0239 - val_acc: 0.9932\n",
      "\n",
      "Epoch 00012: ReduceLROnPlateau reducing learning rate to 0.0005000000237487257.\n",
      "Epoch 13/50\n",
      " - 25s - loss: 0.0270 - acc: 0.9916 - val_loss: 0.0161 - val_acc: 0.9946\n",
      "Epoch 14/50\n",
      " - 25s - loss: 0.0235 - acc: 0.9932 - val_loss: 0.0146 - val_acc: 0.9956\n",
      "Epoch 15/50\n",
      " - 25s - loss: 0.0227 - acc: 0.9933 - val_loss: 0.0150 - val_acc: 0.9959\n",
      "Epoch 16/50\n",
      " - 25s - loss: 0.0186 - acc: 0.9941 - val_loss: 0.0168 - val_acc: 0.9940\n",
      "\n",
      "Epoch 00016: ReduceLROnPlateau reducing learning rate to 0.0002500000118743628.\n",
      "Epoch 17/50\n",
      " - 25s - loss: 0.0171 - acc: 0.9946 - val_loss: 0.0138 - val_acc: 0.9960\n",
      "Epoch 18/50\n",
      " - 25s - loss: 0.0151 - acc: 0.9950 - val_loss: 0.0142 - val_acc: 0.9962\n",
      "Epoch 19/50\n",
      " - 25s - loss: 0.0151 - acc: 0.9951 - val_loss: 0.0130 - val_acc: 0.9962\n",
      "Epoch 20/50\n",
      " - 25s - loss: 0.0135 - acc: 0.9961 - val_loss: 0.0149 - val_acc: 0.9957\n",
      "Epoch 21/50\n",
      " - 25s - loss: 0.0124 - acc: 0.9964 - val_loss: 0.0139 - val_acc: 0.9957\n",
      "\n",
      "Epoch 00021: ReduceLROnPlateau reducing learning rate to 0.0001250000059371814.\n",
      "Epoch 22/50\n",
      " - 25s - loss: 0.0116 - acc: 0.9965 - val_loss: 0.0133 - val_acc: 0.9956\n",
      "Epoch 23/50\n",
      " - 25s - loss: 0.0097 - acc: 0.9973 - val_loss: 0.0132 - val_acc: 0.9956\n",
      "\n",
      "Epoch 00023: ReduceLROnPlateau reducing learning rate to 6.25000029685907e-05.\n",
      "Epoch 24/50\n",
      " - 25s - loss: 0.0099 - acc: 0.9971 - val_loss: 0.0132 - val_acc: 0.9959\n",
      "Epoch 00024: early stopping\n",
      "4 : Val loss: 0.01319919082555446 : Val acc: 0.9958730158730159 \n",
      "\n",
      "\n",
      "Epoch 1/50\n",
      " - 34s - loss: 0.1943 - acc: 0.9400 - val_loss: 0.0741 - val_acc: 0.9768\n",
      "Epoch 2/50\n",
      " - 25s - loss: 0.0869 - acc: 0.9734 - val_loss: 0.0410 - val_acc: 0.9873\n",
      "Epoch 3/50\n",
      " - 26s - loss: 0.0695 - acc: 0.9783 - val_loss: 0.0341 - val_acc: 0.9870\n",
      "Epoch 4/50\n",
      " - 25s - loss: 0.0598 - acc: 0.9809 - val_loss: 0.0532 - val_acc: 0.9843\n",
      "Epoch 5/50\n",
      " - 25s - loss: 0.0556 - acc: 0.9827 - val_loss: 0.0283 - val_acc: 0.9917\n",
      "Epoch 6/50\n",
      " - 25s - loss: 0.0508 - acc: 0.9849 - val_loss: 0.0444 - val_acc: 0.9875\n",
      "Epoch 7/50\n",
      " - 25s - loss: 0.0409 - acc: 0.9872 - val_loss: 0.0324 - val_acc: 0.9897\n",
      "\n",
      "Epoch 00007: ReduceLROnPlateau reducing learning rate to 0.0005000000237487257.\n",
      "Epoch 8/50\n",
      " - 25s - loss: 0.0303 - acc: 0.9908 - val_loss: 0.0211 - val_acc: 0.9938\n",
      "Epoch 9/50\n",
      " - 25s - loss: 0.0275 - acc: 0.9912 - val_loss: 0.0170 - val_acc: 0.9938\n",
      "Epoch 10/50\n",
      " - 26s - loss: 0.0304 - acc: 0.9913 - val_loss: 0.0153 - val_acc: 0.9960\n",
      "Epoch 11/50\n",
      " - 25s - loss: 0.0249 - acc: 0.9924 - val_loss: 0.0243 - val_acc: 0.9930\n",
      "Epoch 12/50\n",
      " - 25s - loss: 0.0219 - acc: 0.9929 - val_loss: 0.0154 - val_acc: 0.9949\n",
      "\n",
      "Epoch 00012: ReduceLROnPlateau reducing learning rate to 0.0002500000118743628.\n",
      "Epoch 13/50\n",
      " - 25s - loss: 0.0188 - acc: 0.9940 - val_loss: 0.0122 - val_acc: 0.9954\n",
      "Epoch 14/50\n",
      " - 25s - loss: 0.0176 - acc: 0.9946 - val_loss: 0.0133 - val_acc: 0.9954\n",
      "Epoch 15/50\n",
      " - 25s - loss: 0.0158 - acc: 0.9951 - val_loss: 0.0136 - val_acc: 0.9963\n",
      "\n",
      "Epoch 00015: ReduceLROnPlateau reducing learning rate to 0.0001250000059371814.\n",
      "Epoch 16/50\n",
      " - 25s - loss: 0.0113 - acc: 0.9964 - val_loss: 0.0119 - val_acc: 0.9962\n",
      "Epoch 17/50\n",
      " - 25s - loss: 0.0103 - acc: 0.9970 - val_loss: 0.0117 - val_acc: 0.9965\n",
      "Epoch 18/50\n",
      " - 25s - loss: 0.0105 - acc: 0.9968 - val_loss: 0.0121 - val_acc: 0.9960\n",
      "Epoch 19/50\n",
      " - 25s - loss: 0.0107 - acc: 0.9967 - val_loss: 0.0105 - val_acc: 0.9970\n",
      "Epoch 20/50\n",
      " - 25s - loss: 0.0099 - acc: 0.9971 - val_loss: 0.0120 - val_acc: 0.9963\n",
      "Epoch 21/50\n",
      " - 25s - loss: 0.0095 - acc: 0.9970 - val_loss: 0.0108 - val_acc: 0.9965\n",
      "\n",
      "Epoch 00021: ReduceLROnPlateau reducing learning rate to 6.25000029685907e-05.\n",
      "Epoch 22/50\n",
      " - 25s - loss: 0.0086 - acc: 0.9977 - val_loss: 0.0112 - val_acc: 0.9963\n",
      "Epoch 23/50\n",
      " - 25s - loss: 0.0079 - acc: 0.9975 - val_loss: 0.0110 - val_acc: 0.9967\n",
      "\n",
      "Epoch 00023: ReduceLROnPlateau reducing learning rate to 3.125000148429535e-05.\n",
      "Epoch 24/50\n",
      " - 25s - loss: 0.0078 - acc: 0.9978 - val_loss: 0.0108 - val_acc: 0.9963\n",
      "Epoch 00024: early stopping\n",
      "5 : Val loss: 0.01077576530639947 : Val acc: 0.9963492063492063 \n",
      "\n",
      "\n",
      "Epoch 1/50\n",
      " - 34s - loss: 0.2329 - acc: 0.9276 - val_loss: 0.0490 - val_acc: 0.9843\n",
      "Epoch 2/50\n",
      " - 25s - loss: 0.0984 - acc: 0.9693 - val_loss: 0.0326 - val_acc: 0.9898\n",
      "Epoch 3/50\n",
      " - 26s - loss: 0.0785 - acc: 0.9756 - val_loss: 0.0482 - val_acc: 0.9856\n",
      "Epoch 4/50\n",
      " - 26s - loss: 0.0622 - acc: 0.9800 - val_loss: 0.0674 - val_acc: 0.9794\n",
      "\n",
      "Epoch 00004: ReduceLROnPlateau reducing learning rate to 0.0005000000237487257.\n",
      "Epoch 5/50\n",
      " - 26s - loss: 0.0479 - acc: 0.9860 - val_loss: 0.0301 - val_acc: 0.9903\n",
      "Epoch 6/50\n",
      " - 26s - loss: 0.0420 - acc: 0.9874 - val_loss: 0.0229 - val_acc: 0.9932\n",
      "Epoch 7/50\n",
      " - 26s - loss: 0.0392 - acc: 0.9879 - val_loss: 0.0225 - val_acc: 0.9932\n",
      "Epoch 8/50\n",
      " - 26s - loss: 0.0354 - acc: 0.9894 - val_loss: 0.0231 - val_acc: 0.9933\n",
      "Epoch 9/50\n",
      " - 26s - loss: 0.0362 - acc: 0.9884 - val_loss: 0.0169 - val_acc: 0.9944\n",
      "Epoch 10/50\n",
      " - 26s - loss: 0.0332 - acc: 0.9894 - val_loss: 0.0158 - val_acc: 0.9949\n",
      "Epoch 11/50\n",
      " - 26s - loss: 0.0326 - acc: 0.9899 - val_loss: 0.0208 - val_acc: 0.9938\n",
      "Epoch 12/50\n",
      " - 26s - loss: 0.0310 - acc: 0.9904 - val_loss: 0.0279 - val_acc: 0.9921\n",
      "\n",
      "Epoch 00012: ReduceLROnPlateau reducing learning rate to 0.0002500000118743628.\n",
      "Epoch 13/50\n",
      " - 26s - loss: 0.0238 - acc: 0.9926 - val_loss: 0.0163 - val_acc: 0.9954\n",
      "Epoch 14/50\n",
      " - 26s - loss: 0.0224 - acc: 0.9933 - val_loss: 0.0176 - val_acc: 0.9952\n",
      "\n",
      "Epoch 00014: ReduceLROnPlateau reducing learning rate to 0.0001250000059371814.\n",
      "Epoch 15/50\n",
      " - 26s - loss: 0.0180 - acc: 0.9946 - val_loss: 0.0148 - val_acc: 0.9960\n",
      "Epoch 16/50\n",
      " - 26s - loss: 0.0163 - acc: 0.9945 - val_loss: 0.0149 - val_acc: 0.9959\n",
      "Epoch 17/50\n",
      " - 26s - loss: 0.0156 - acc: 0.9949 - val_loss: 0.0130 - val_acc: 0.9965\n",
      "Epoch 18/50\n",
      " - 26s - loss: 0.0139 - acc: 0.9956 - val_loss: 0.0136 - val_acc: 0.9965\n",
      "Epoch 19/50\n",
      " - 26s - loss: 0.0141 - acc: 0.9956 - val_loss: 0.0131 - val_acc: 0.9963\n",
      "\n",
      "Epoch 00019: ReduceLROnPlateau reducing learning rate to 6.25000029685907e-05.\n",
      "Epoch 20/50\n",
      " - 26s - loss: 0.0132 - acc: 0.9955 - val_loss: 0.0118 - val_acc: 0.9963\n",
      "Epoch 21/50\n",
      " - 26s - loss: 0.0134 - acc: 0.9959 - val_loss: 0.0126 - val_acc: 0.9967\n"
     ]
    },
    {
     "name": "stdout",
     "output_type": "stream",
     "text": [
      "Epoch 22/50\n",
      " - 26s - loss: 0.0122 - acc: 0.9960 - val_loss: 0.0132 - val_acc: 0.9960\n",
      "\n",
      "Epoch 00022: ReduceLROnPlateau reducing learning rate to 3.125000148429535e-05.\n",
      "Epoch 23/50\n",
      " - 26s - loss: 0.0101 - acc: 0.9967 - val_loss: 0.0121 - val_acc: 0.9957\n",
      "Epoch 24/50\n",
      " - 26s - loss: 0.0112 - acc: 0.9962 - val_loss: 0.0119 - val_acc: 0.9963\n",
      "\n",
      "Epoch 00024: ReduceLROnPlateau reducing learning rate to 1.5625000742147677e-05.\n",
      "Epoch 25/50\n",
      " - 26s - loss: 0.0122 - acc: 0.9964 - val_loss: 0.0134 - val_acc: 0.9962\n",
      "Epoch 00025: early stopping\n",
      "6 : Val loss: 0.013434822515493059 : Val acc: 0.9961904761904762 \n",
      "\n",
      "\n",
      "Epoch 1/50\n",
      " - 34s - loss: 0.2775 - acc: 0.9128 - val_loss: 0.0951 - val_acc: 0.9705\n",
      "Epoch 2/50\n",
      " - 26s - loss: 0.1142 - acc: 0.9634 - val_loss: 0.0757 - val_acc: 0.9775\n",
      "Epoch 3/50\n",
      " - 26s - loss: 0.0906 - acc: 0.9716 - val_loss: 0.0385 - val_acc: 0.9876\n",
      "Epoch 4/50\n",
      " - 26s - loss: 0.0862 - acc: 0.9723 - val_loss: 0.0374 - val_acc: 0.9876\n",
      "Epoch 5/50\n",
      " - 25s - loss: 0.0751 - acc: 0.9774 - val_loss: 0.0272 - val_acc: 0.9917\n",
      "Epoch 6/50\n",
      " - 26s - loss: 0.0664 - acc: 0.9798 - val_loss: 0.0322 - val_acc: 0.9903\n",
      "Epoch 7/50\n",
      " - 26s - loss: 0.0596 - acc: 0.9814 - val_loss: 0.0197 - val_acc: 0.9937\n",
      "Epoch 8/50\n",
      " - 26s - loss: 0.0593 - acc: 0.9821 - val_loss: 0.0199 - val_acc: 0.9927\n",
      "Epoch 9/50\n",
      " - 26s - loss: 0.0533 - acc: 0.9841 - val_loss: 0.0165 - val_acc: 0.9946\n",
      "Epoch 10/50\n",
      " - 26s - loss: 0.0518 - acc: 0.9847 - val_loss: 0.0198 - val_acc: 0.9937\n",
      "Epoch 11/50\n",
      " - 26s - loss: 0.0487 - acc: 0.9858 - val_loss: 0.0176 - val_acc: 0.9935\n",
      "\n",
      "Epoch 00011: ReduceLROnPlateau reducing learning rate to 0.0005000000237487257.\n",
      "Epoch 12/50\n",
      " - 26s - loss: 0.0346 - acc: 0.9892 - val_loss: 0.0142 - val_acc: 0.9952\n",
      "Epoch 13/50\n",
      " - 26s - loss: 0.0305 - acc: 0.9906 - val_loss: 0.0138 - val_acc: 0.9963\n",
      "Epoch 14/50\n",
      " - 26s - loss: 0.0285 - acc: 0.9916 - val_loss: 0.0146 - val_acc: 0.9960\n",
      "Epoch 15/50\n",
      " - 26s - loss: 0.0327 - acc: 0.9901 - val_loss: 0.0132 - val_acc: 0.9962\n",
      "Epoch 16/50\n",
      " - 26s - loss: 0.0269 - acc: 0.9909 - val_loss: 0.0108 - val_acc: 0.9968\n",
      "Epoch 17/50\n",
      " - 26s - loss: 0.0278 - acc: 0.9914 - val_loss: 0.0149 - val_acc: 0.9954\n",
      "Epoch 18/50\n",
      " - 26s - loss: 0.0250 - acc: 0.9922 - val_loss: 0.0156 - val_acc: 0.9956\n",
      "\n",
      "Epoch 00018: ReduceLROnPlateau reducing learning rate to 0.0002500000118743628.\n",
      "Epoch 19/50\n",
      " - 26s - loss: 0.0232 - acc: 0.9925 - val_loss: 0.0124 - val_acc: 0.9959\n",
      "Epoch 20/50\n",
      " - 26s - loss: 0.0196 - acc: 0.9941 - val_loss: 0.0105 - val_acc: 0.9960\n",
      "Epoch 21/50\n",
      " - 26s - loss: 0.0207 - acc: 0.9935 - val_loss: 0.0114 - val_acc: 0.9970\n",
      "Epoch 22/50\n",
      " - 26s - loss: 0.0192 - acc: 0.9945 - val_loss: 0.0114 - val_acc: 0.9967\n",
      "\n",
      "Epoch 00022: ReduceLROnPlateau reducing learning rate to 0.0001250000059371814.\n",
      "Epoch 23/50\n",
      " - 26s - loss: 0.0176 - acc: 0.9946 - val_loss: 0.0119 - val_acc: 0.9963\n",
      "Epoch 24/50\n",
      " - 26s - loss: 0.0167 - acc: 0.9948 - val_loss: 0.0134 - val_acc: 0.9959\n",
      "\n",
      "Epoch 00024: ReduceLROnPlateau reducing learning rate to 6.25000029685907e-05.\n",
      "Epoch 25/50\n",
      " - 26s - loss: 0.0166 - acc: 0.9949 - val_loss: 0.0114 - val_acc: 0.9965\n",
      "Epoch 00025: early stopping\n",
      "7 : Val loss: 0.01143280454717497 : Val acc: 0.9965079365079365 \n",
      "\n",
      "\n",
      "Epoch 1/50\n",
      " - 35s - loss: 0.2083 - acc: 0.9364 - val_loss: 0.0941 - val_acc: 0.9711\n",
      "Epoch 2/50\n",
      " - 26s - loss: 0.0903 - acc: 0.9728 - val_loss: 0.0726 - val_acc: 0.9776\n",
      "Epoch 3/50\n",
      " - 26s - loss: 0.0801 - acc: 0.9748 - val_loss: 0.0460 - val_acc: 0.9860\n",
      "Epoch 4/50\n",
      " - 26s - loss: 0.0643 - acc: 0.9792 - val_loss: 0.0341 - val_acc: 0.9894\n",
      "Epoch 5/50\n",
      " - 26s - loss: 0.0696 - acc: 0.9788 - val_loss: 0.0346 - val_acc: 0.9895\n",
      "Epoch 6/50\n",
      " - 26s - loss: 0.0558 - acc: 0.9831 - val_loss: 0.0388 - val_acc: 0.9887\n",
      "\n",
      "Epoch 00006: ReduceLROnPlateau reducing learning rate to 0.0005000000237487257.\n",
      "Epoch 7/50\n",
      " - 26s - loss: 0.0355 - acc: 0.9885 - val_loss: 0.0227 - val_acc: 0.9935\n",
      "Epoch 8/50\n",
      " - 26s - loss: 0.0327 - acc: 0.9898 - val_loss: 0.0198 - val_acc: 0.9935\n",
      "Epoch 9/50\n",
      " - 26s - loss: 0.0323 - acc: 0.9902 - val_loss: 0.0147 - val_acc: 0.9951\n",
      "Epoch 10/50\n",
      " - 26s - loss: 0.0327 - acc: 0.9903 - val_loss: 0.0132 - val_acc: 0.9963\n",
      "Epoch 11/50\n",
      " - 26s - loss: 0.0296 - acc: 0.9912 - val_loss: 0.0167 - val_acc: 0.9946\n",
      "Epoch 12/50\n",
      " - 26s - loss: 0.0262 - acc: 0.9922 - val_loss: 0.0166 - val_acc: 0.9954\n",
      "\n",
      "Epoch 00012: ReduceLROnPlateau reducing learning rate to 0.0002500000118743628.\n",
      "Epoch 13/50\n",
      " - 26s - loss: 0.0206 - acc: 0.9940 - val_loss: 0.0147 - val_acc: 0.9957\n",
      "Epoch 14/50\n",
      " - 26s - loss: 0.0187 - acc: 0.9944 - val_loss: 0.0142 - val_acc: 0.9962\n",
      "\n",
      "Epoch 00014: ReduceLROnPlateau reducing learning rate to 0.0001250000059371814.\n",
      "Epoch 15/50\n",
      " - 26s - loss: 0.0170 - acc: 0.9948 - val_loss: 0.0121 - val_acc: 0.9968\n",
      "Epoch 16/50\n",
      " - 28s - loss: 0.0131 - acc: 0.9956 - val_loss: 0.0111 - val_acc: 0.9967\n",
      "Epoch 17/50\n",
      " - 26s - loss: 0.0136 - acc: 0.9957 - val_loss: 0.0127 - val_acc: 0.9962\n",
      "Epoch 18/50\n",
      " - 26s - loss: 0.0117 - acc: 0.9966 - val_loss: 0.0121 - val_acc: 0.9968\n",
      "\n",
      "Epoch 00018: ReduceLROnPlateau reducing learning rate to 6.25000029685907e-05.\n",
      "Epoch 19/50\n",
      " - 26s - loss: 0.0113 - acc: 0.9964 - val_loss: 0.0110 - val_acc: 0.9970\n",
      "Epoch 20/50\n",
      " - 26s - loss: 0.0103 - acc: 0.9973 - val_loss: 0.0113 - val_acc: 0.9970\n",
      "\n",
      "Epoch 00020: ReduceLROnPlateau reducing learning rate to 3.125000148429535e-05.\n",
      "Epoch 21/50\n",
      " - 26s - loss: 0.0094 - acc: 0.9971 - val_loss: 0.0116 - val_acc: 0.9968\n",
      "Epoch 22/50\n",
      " - 26s - loss: 0.0103 - acc: 0.9965 - val_loss: 0.0114 - val_acc: 0.9970\n",
      "\n",
      "Epoch 00022: ReduceLROnPlateau reducing learning rate to 1.5625000742147677e-05.\n",
      "Epoch 23/50\n",
      " - 26s - loss: 0.0088 - acc: 0.9975 - val_loss: 0.0118 - val_acc: 0.9965\n",
      "Epoch 24/50\n",
      " - 26s - loss: 0.0085 - acc: 0.9975 - val_loss: 0.0118 - val_acc: 0.9965\n",
      "\n",
      "Epoch 00024: ReduceLROnPlateau reducing learning rate to 7.812500371073838e-06.\n",
      "Epoch 00024: early stopping\n",
      "8 : Val loss: 0.011789087653864593 : Val acc: 0.9965079365079365 \n",
      "\n",
      "\n",
      "Epoch 1/50\n",
      " - 35s - loss: 0.2718 - acc: 0.9165 - val_loss: 0.0718 - val_acc: 0.9765\n",
      "Epoch 2/50\n",
      " - 26s - loss: 0.1074 - acc: 0.9658 - val_loss: 0.0419 - val_acc: 0.9868\n",
      "Epoch 3/50\n",
      " - 26s - loss: 0.0903 - acc: 0.9716 - val_loss: 0.0393 - val_acc: 0.9868\n",
      "Epoch 4/50\n",
      " - 26s - loss: 0.0773 - acc: 0.9759 - val_loss: 0.0389 - val_acc: 0.9876\n",
      "Epoch 5/50\n",
      " - 26s - loss: 0.0737 - acc: 0.9779 - val_loss: 0.0384 - val_acc: 0.9884\n",
      "Epoch 6/50\n",
      " - 26s - loss: 0.0720 - acc: 0.9779 - val_loss: 0.0222 - val_acc: 0.9925\n",
      "Epoch 7/50\n",
      " - 26s - loss: 0.0596 - acc: 0.9814 - val_loss: 0.0286 - val_acc: 0.9900\n",
      "Epoch 8/50\n",
      " - 26s - loss: 0.0564 - acc: 0.9826 - val_loss: 0.0244 - val_acc: 0.9932\n",
      "\n",
      "Epoch 00008: ReduceLROnPlateau reducing learning rate to 0.0005000000237487257.\n",
      "Epoch 9/50\n",
      " - 26s - loss: 0.0369 - acc: 0.9888 - val_loss: 0.0144 - val_acc: 0.9949\n",
      "Epoch 10/50\n",
      " - 26s - loss: 0.0393 - acc: 0.9885 - val_loss: 0.0136 - val_acc: 0.9957\n",
      "Epoch 11/50\n",
      " - 26s - loss: 0.0355 - acc: 0.9891 - val_loss: 0.0155 - val_acc: 0.9951\n",
      "Epoch 12/50\n",
      " - 26s - loss: 0.0309 - acc: 0.9902 - val_loss: 0.0134 - val_acc: 0.9956\n",
      "Epoch 13/50\n",
      " - 26s - loss: 0.0333 - acc: 0.9899 - val_loss: 0.0142 - val_acc: 0.9962\n",
      "Epoch 14/50\n",
      " - 26s - loss: 0.0327 - acc: 0.9901 - val_loss: 0.0193 - val_acc: 0.9943\n",
      "\n",
      "Epoch 00014: ReduceLROnPlateau reducing learning rate to 0.0002500000118743628.\n",
      "Epoch 15/50\n",
      " - 26s - loss: 0.0287 - acc: 0.9916 - val_loss: 0.0139 - val_acc: 0.9959\n",
      "Epoch 16/50\n",
      " - 26s - loss: 0.0218 - acc: 0.9934 - val_loss: 0.0126 - val_acc: 0.9963\n",
      "Epoch 17/50\n",
      " - 26s - loss: 0.0220 - acc: 0.9931 - val_loss: 0.0121 - val_acc: 0.9963\n",
      "Epoch 18/50\n",
      " - 26s - loss: 0.0197 - acc: 0.9942 - val_loss: 0.0116 - val_acc: 0.9965\n",
      "Epoch 19/50\n",
      " - 26s - loss: 0.0204 - acc: 0.9935 - val_loss: 0.0117 - val_acc: 0.9963\n",
      "Epoch 20/50\n",
      " - 26s - loss: 0.0206 - acc: 0.9937 - val_loss: 0.0120 - val_acc: 0.9956\n",
      "\n",
      "Epoch 00020: ReduceLROnPlateau reducing learning rate to 0.0001250000059371814.\n",
      "Epoch 21/50\n",
      " - 26s - loss: 0.0191 - acc: 0.9940 - val_loss: 0.0108 - val_acc: 0.9968\n",
      "Epoch 22/50\n",
      " - 26s - loss: 0.0161 - acc: 0.9950 - val_loss: 0.0112 - val_acc: 0.9965\n",
      "Epoch 23/50\n",
      " - 26s - loss: 0.0171 - acc: 0.9951 - val_loss: 0.0104 - val_acc: 0.9967\n",
      "Epoch 24/50\n",
      " - 26s - loss: 0.0159 - acc: 0.9951 - val_loss: 0.0094 - val_acc: 0.9970\n",
      "Epoch 25/50\n",
      " - 26s - loss: 0.0154 - acc: 0.9955 - val_loss: 0.0099 - val_acc: 0.9965\n",
      "Epoch 26/50\n"
     ]
    },
    {
     "name": "stdout",
     "output_type": "stream",
     "text": [
      " - 26s - loss: 0.0142 - acc: 0.9957 - val_loss: 0.0094 - val_acc: 0.9973\n",
      "\n",
      "Epoch 00026: ReduceLROnPlateau reducing learning rate to 6.25000029685907e-05.\n",
      "Epoch 27/50\n",
      " - 26s - loss: 0.0135 - acc: 0.9958 - val_loss: 0.0102 - val_acc: 0.9965\n",
      "Epoch 28/50\n",
      " - 26s - loss: 0.0139 - acc: 0.9956 - val_loss: 0.0102 - val_acc: 0.9973\n",
      "\n",
      "Epoch 00028: ReduceLROnPlateau reducing learning rate to 3.125000148429535e-05.\n",
      "Epoch 29/50\n",
      " - 26s - loss: 0.0125 - acc: 0.9959 - val_loss: 0.0101 - val_acc: 0.9971\n",
      "Epoch 00029: early stopping\n",
      "9 : Val loss: 0.010069814469989358 : Val acc: 0.9971428571428571 \n",
      "\n",
      "\n"
     ]
    },
    {
     "data": {
      "text/plain": [
       "{'Dropout_0': 0.46931691915532725,\n",
       " 'Dropout_1': 0.31121430781942666,\n",
       " 'Dropout_3': 0.36368165904660016}"
      ]
     },
     "execution_count": 36,
     "metadata": {},
     "output_type": "execute_result"
    }
   ],
   "source": [
    "trials = Trials()\n",
    "best = fmin(fn=cnn_model, \n",
    "            space=params, \n",
    "            algo=tpe.suggest, \n",
    "            max_evals=10, # 50: 5h 15m\n",
    "            trials=trials,\n",
    "            verbose=1,\n",
    "            rstate=np.random.RandomState(seed))\n",
    "\n",
    "best"
   ]
  },
  {
   "cell_type": "markdown",
   "metadata": {},
   "source": [
    "## Best Hyperparameters:"
   ]
  },
  {
   "cell_type": "code",
   "execution_count": 37,
   "metadata": {
    "ExecuteTime": {
     "end_time": "2018-11-18T04:26:19.440228Z",
     "start_time": "2018-11-18T04:26:19.435738Z"
    }
   },
   "outputs": [
    {
     "data": {
      "text/plain": [
       "{'Dropout_0': 0.46931691915532725,\n",
       " 'Dropout_1': 0.31121430781942666,\n",
       " 'Dropout_3': 0.36368165904660016}"
      ]
     },
     "execution_count": 37,
     "metadata": {},
     "output_type": "execute_result"
    }
   ],
   "source": [
    "space_eval(params, best)"
   ]
  },
  {
   "cell_type": "markdown",
   "metadata": {},
   "source": [
    "## Best Result"
   ]
  },
  {
   "cell_type": "code",
   "execution_count": 38,
   "metadata": {
    "ExecuteTime": {
     "end_time": "2018-11-18T04:26:19.452510Z",
     "start_time": "2018-11-18T04:26:19.441933Z"
    }
   },
   "outputs": [
    {
     "data": {
      "text/plain": [
       "{'hist': <keras.callbacks.History at 0x7f486b633d68>,\n",
       " 'loss': -0.9971428571428571,\n",
       " 'model': <keras.engine.sequential.Sequential at 0x7f487d65c208>,\n",
       " 'status': 'ok'}"
      ]
     },
     "execution_count": 38,
     "metadata": {},
     "output_type": "execute_result"
    }
   ],
   "source": [
    "trials.best_trial['result']"
   ]
  },
  {
   "cell_type": "markdown",
   "metadata": {
    "ExecuteTime": {
     "end_time": "2018-11-10T05:18:12.461129Z",
     "start_time": "2018-11-10T05:18:12.454484Z"
    }
   },
   "source": [
    "## Best model:"
   ]
  },
  {
   "cell_type": "code",
   "execution_count": 39,
   "metadata": {
    "ExecuteTime": {
     "end_time": "2018-11-18T04:26:19.459514Z",
     "start_time": "2018-11-18T04:26:19.454633Z"
    }
   },
   "outputs": [],
   "source": [
    "best_model = trials.best_trial['result']['model']\n",
    "#best_model.save('hyperopt_mnist_best_model.hdf5')"
   ]
  },
  {
   "cell_type": "markdown",
   "metadata": {},
   "source": [
    "## Evaluation on Test data:"
   ]
  },
  {
   "cell_type": "code",
   "execution_count": 40,
   "metadata": {
    "ExecuteTime": {
     "end_time": "2018-11-18T04:26:21.478056Z",
     "start_time": "2018-11-18T04:26:19.460829Z"
    }
   },
   "outputs": [
    {
     "name": "stdout",
     "output_type": "stream",
     "text": [
      "6300/6300 [==============================] - 2s 319us/step\n"
     ]
    },
    {
     "data": {
      "text/plain": [
       "[0.010069814469989358, 0.9971428571428571]"
      ]
     },
     "execution_count": 40,
     "metadata": {},
     "output_type": "execute_result"
    }
   ],
   "source": [
    "score = best_model.evaluate(x_test, y_test, verbose=1)\n",
    "score"
   ]
  },
  {
   "cell_type": "markdown",
   "metadata": {},
   "source": [
    "## Prediction for the Submission:"
   ]
  },
  {
   "cell_type": "code",
   "execution_count": 41,
   "metadata": {
    "ExecuteTime": {
     "end_time": "2018-11-18T04:26:35.470902Z",
     "start_time": "2018-11-18T04:26:21.479697Z"
    }
   },
   "outputs": [
    {
     "name": "stdout",
     "output_type": "stream",
     "text": [
      "28000/28000 [==============================] - 12s 439us/step\n"
     ]
    }
   ],
   "source": [
    "test = pd.read_csv('../test.csv')\n",
    "test_index = test.index\n",
    "test = test.values.reshape(-1, 28, 28, 1).astype('float32') / 255.0\n",
    "\n",
    "pred = best_model.predict(test, verbose=1)\n",
    "result = pred.argmax(axis=1)"
   ]
  },
  {
   "cell_type": "markdown",
   "metadata": {},
   "source": [
    "## Output the Submission csv file:"
   ]
  },
  {
   "cell_type": "code",
   "execution_count": 42,
   "metadata": {
    "ExecuteTime": {
     "end_time": "2018-11-18T04:26:35.530223Z",
     "start_time": "2018-11-18T04:26:35.472498Z"
    }
   },
   "outputs": [],
   "source": [
    "submission = pd.DataFrame({'ImageId': test_index+1, 'Label': result})\n",
    "submission.to_csv('hyperopt_gen.csv', index=False)"
   ]
  },
  {
   "cell_type": "markdown",
   "metadata": {},
   "source": [
    "#### Comparison with the previous result scored at 0.99685"
   ]
  },
  {
   "cell_type": "code",
   "execution_count": 43,
   "metadata": {
    "ExecuteTime": {
     "end_time": "2018-11-18T04:26:35.546786Z",
     "start_time": "2018-11-18T04:26:35.531557Z"
    }
   },
   "outputs": [
    {
     "name": "stdout",
     "output_type": "stream",
     "text": [
      "Approx. accuracy: 0.99664\n"
     ]
    }
   ],
   "source": [
    "prev_result = pd.read_csv('hyperopt_gen_99685.csv', index_col=0)\n",
    "curr_result = pd.read_csv('hyperopt_gen.csv', index_col=0)\n",
    "match_num = np.sum(prev_result.Label.values == curr_result.Label.values)\n",
    "comp_acc = match_num / len(curr_result)\n",
    "print('Approx. accuracy: {0:.5f}'.format(comp_acc))"
   ]
  },
  {
   "cell_type": "code",
   "execution_count": 44,
   "metadata": {
    "ExecuteTime": {
     "end_time": "2018-11-18T04:26:38.564780Z",
     "start_time": "2018-11-18T04:26:35.548157Z"
    }
   },
   "outputs": [
    {
     "name": "stdout",
     "output_type": "stream",
     "text": [
      "Difference: 94\n",
      "Image Title: [previous result, current result, id number]\n"
     ]
    },
    {
     "data": {
      "image/png": "[encoded data removed]",
      "text/plain": [
       "<matplotlib.figure.Figure at 0x7f486a961b70>"
      ]
     },
     "metadata": {},
     "output_type": "display_data"
    }
   ],
   "source": [
    "idx = prev_result[prev_result.Label.values != curr_result.Label.values].index\n",
    "num=len(idx)\n",
    "print('Difference:',num)\n",
    "print('Image Title: [previous result, current result, id number]')\n",
    "\n",
    "fig = plt.figure(figsize=(20, num//10*2+1))\n",
    "for n in range(num):\n",
    "    plt.subplot(num//10+1, 10, n+1)\n",
    "    img = test[idx[n]-1].reshape(28,28)\n",
    "    plt.imshow(img, cmap='gray')\n",
    "    plt.title([prev_result.loc[idx[n]].Label, curr_result.loc[idx[n]].Label, idx[n]])\n",
    "    plt.axis('off')\n",
    "plt.show()"
   ]
  },
  {
   "cell_type": "code",
   "execution_count": null,
   "metadata": {},
   "outputs": [],
   "source": []
  }
 ],
 "metadata": {
  "_draft": {
   "nbviewer_url": "https://gist.github.com/8d8c3e18921660f7ce139e73358353d8"
  },
  "gist": {
   "data": {
    "description": "Kaggle: Digital Recognizer(MNIST) by Hyperopt + Data Augment",
    "public": true
   },
   "id": "8d8c3e18921660f7ce139e73358353d8"
  },
  "kernelspec": {
   "display_name": "py36",
   "language": "python",
   "name": "py36"
  },
  "language_info": {
   "codemirror_mode": {
    "name": "ipython",
    "version": 3
   },
   "file_extension": ".py",
   "mimetype": "text/x-python",
   "name": "python",
   "nbconvert_exporter": "python",
   "pygments_lexer": "ipython3",
   "version": "3.6.4"
  }
 },
 "nbformat": 4,
 "nbformat_minor": 2
}
